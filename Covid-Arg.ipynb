{
 "cells": [
  {
   "cell_type": "code",
   "execution_count": 1,
   "metadata": {},
   "outputs": [
    {
     "name": "stdout",
     "output_type": "stream",
     "text": [
      "Datos actualizados al 8/3/21\n"
     ]
    }
   ],
   "source": [
    "file = \"../DataSets Grandes/Covid19Casos.csv\"\n",
    "print(\"Datos actualizados al 8/3/21\")"
   ]
  },
  {
   "cell_type": "code",
   "execution_count": 181,
   "metadata": {},
   "outputs": [],
   "source": [
    "import pandas as pd\n",
    "import numpy as np\n",
    "import seaborn as sns\n",
    "import re\n",
    "import matplotlib.pyplot as plt\n",
    "from datetime import datetime, timedelta"
   ]
  },
  {
   "cell_type": "code",
   "execution_count": 3,
   "metadata": {},
   "outputs": [],
   "source": [
    "data = pd.read_csv(file)"
   ]
  },
  {
   "cell_type": "code",
   "execution_count": 4,
   "metadata": {},
   "outputs": [
    {
     "data": {
      "text/html": [
       "<div>\n",
       "<style scoped>\n",
       "    .dataframe tbody tr th:only-of-type {\n",
       "        vertical-align: middle;\n",
       "    }\n",
       "\n",
       "    .dataframe tbody tr th {\n",
       "        vertical-align: top;\n",
       "    }\n",
       "\n",
       "    .dataframe thead th {\n",
       "        text-align: right;\n",
       "    }\n",
       "</style>\n",
       "<table border=\"1\" class=\"dataframe\">\n",
       "  <thead>\n",
       "    <tr style=\"text-align: right;\">\n",
       "      <th></th>\n",
       "      <th>id_evento_caso</th>\n",
       "      <th>sexo</th>\n",
       "      <th>edad</th>\n",
       "      <th>edad_años_meses</th>\n",
       "      <th>residencia_pais_nombre</th>\n",
       "      <th>residencia_provincia_nombre</th>\n",
       "      <th>residencia_departamento_nombre</th>\n",
       "      <th>carga_provincia_nombre</th>\n",
       "      <th>fecha_inicio_sintomas</th>\n",
       "      <th>fecha_apertura</th>\n",
       "      <th>...</th>\n",
       "      <th>fecha_fallecimiento</th>\n",
       "      <th>asistencia_respiratoria_mecanica</th>\n",
       "      <th>carga_provincia_id</th>\n",
       "      <th>origen_financiamiento</th>\n",
       "      <th>clasificacion</th>\n",
       "      <th>clasificacion_resumen</th>\n",
       "      <th>residencia_provincia_id</th>\n",
       "      <th>fecha_diagnostico</th>\n",
       "      <th>residencia_departamento_id</th>\n",
       "      <th>ultima_actualizacion</th>\n",
       "    </tr>\n",
       "  </thead>\n",
       "  <tbody>\n",
       "    <tr>\n",
       "      <th>0</th>\n",
       "      <td>1000000</td>\n",
       "      <td>M</td>\n",
       "      <td>54.0</td>\n",
       "      <td>Años</td>\n",
       "      <td>Argentina</td>\n",
       "      <td>CABA</td>\n",
       "      <td>SIN ESPECIFICAR</td>\n",
       "      <td>Buenos Aires</td>\n",
       "      <td>NaN</td>\n",
       "      <td>2020-06-01</td>\n",
       "      <td>...</td>\n",
       "      <td>NaN</td>\n",
       "      <td>NO</td>\n",
       "      <td>6</td>\n",
       "      <td>Privado</td>\n",
       "      <td>Caso Descartado</td>\n",
       "      <td>Descartado</td>\n",
       "      <td>2</td>\n",
       "      <td>2020-06-09</td>\n",
       "      <td>0</td>\n",
       "      <td>2021-03-08</td>\n",
       "    </tr>\n",
       "    <tr>\n",
       "      <th>1</th>\n",
       "      <td>1000002</td>\n",
       "      <td>M</td>\n",
       "      <td>22.0</td>\n",
       "      <td>Años</td>\n",
       "      <td>Argentina</td>\n",
       "      <td>Buenos Aires</td>\n",
       "      <td>La Matanza</td>\n",
       "      <td>Buenos Aires</td>\n",
       "      <td>NaN</td>\n",
       "      <td>2020-06-01</td>\n",
       "      <td>...</td>\n",
       "      <td>NaN</td>\n",
       "      <td>NO</td>\n",
       "      <td>6</td>\n",
       "      <td>Público</td>\n",
       "      <td>Caso Descartado</td>\n",
       "      <td>Descartado</td>\n",
       "      <td>6</td>\n",
       "      <td>2020-06-01</td>\n",
       "      <td>427</td>\n",
       "      <td>2021-03-08</td>\n",
       "    </tr>\n",
       "    <tr>\n",
       "      <th>2</th>\n",
       "      <td>1000003</td>\n",
       "      <td>F</td>\n",
       "      <td>41.0</td>\n",
       "      <td>Años</td>\n",
       "      <td>Argentina</td>\n",
       "      <td>Córdoba</td>\n",
       "      <td>Capital</td>\n",
       "      <td>Córdoba</td>\n",
       "      <td>2020-05-24</td>\n",
       "      <td>2020-06-01</td>\n",
       "      <td>...</td>\n",
       "      <td>NaN</td>\n",
       "      <td>NO</td>\n",
       "      <td>14</td>\n",
       "      <td>Privado</td>\n",
       "      <td>Caso Descartado</td>\n",
       "      <td>Descartado</td>\n",
       "      <td>14</td>\n",
       "      <td>2020-06-01</td>\n",
       "      <td>14</td>\n",
       "      <td>2021-03-08</td>\n",
       "    </tr>\n",
       "    <tr>\n",
       "      <th>3</th>\n",
       "      <td>1000005</td>\n",
       "      <td>F</td>\n",
       "      <td>58.0</td>\n",
       "      <td>Años</td>\n",
       "      <td>Argentina</td>\n",
       "      <td>Mendoza</td>\n",
       "      <td>Las Heras</td>\n",
       "      <td>Mendoza</td>\n",
       "      <td>NaN</td>\n",
       "      <td>2020-06-01</td>\n",
       "      <td>...</td>\n",
       "      <td>NaN</td>\n",
       "      <td>NO</td>\n",
       "      <td>50</td>\n",
       "      <td>Público</td>\n",
       "      <td>Caso Descartado</td>\n",
       "      <td>Descartado</td>\n",
       "      <td>50</td>\n",
       "      <td>2020-06-01</td>\n",
       "      <td>49</td>\n",
       "      <td>2021-03-08</td>\n",
       "    </tr>\n",
       "  </tbody>\n",
       "</table>\n",
       "<p>4 rows × 25 columns</p>\n",
       "</div>"
      ],
      "text/plain": [
       "   id_evento_caso sexo  edad edad_años_meses residencia_pais_nombre  \\\n",
       "0         1000000    M  54.0            Años              Argentina   \n",
       "1         1000002    M  22.0            Años              Argentina   \n",
       "2         1000003    F  41.0            Años              Argentina   \n",
       "3         1000005    F  58.0            Años              Argentina   \n",
       "\n",
       "  residencia_provincia_nombre residencia_departamento_nombre  \\\n",
       "0                        CABA                SIN ESPECIFICAR   \n",
       "1                Buenos Aires                     La Matanza   \n",
       "2                     Córdoba                        Capital   \n",
       "3                     Mendoza                      Las Heras   \n",
       "\n",
       "  carga_provincia_nombre fecha_inicio_sintomas fecha_apertura  ...  \\\n",
       "0           Buenos Aires                   NaN     2020-06-01  ...   \n",
       "1           Buenos Aires                   NaN     2020-06-01  ...   \n",
       "2                Córdoba            2020-05-24     2020-06-01  ...   \n",
       "3                Mendoza                   NaN     2020-06-01  ...   \n",
       "\n",
       "   fecha_fallecimiento asistencia_respiratoria_mecanica carga_provincia_id  \\\n",
       "0                  NaN                               NO                  6   \n",
       "1                  NaN                               NO                  6   \n",
       "2                  NaN                               NO                 14   \n",
       "3                  NaN                               NO                 50   \n",
       "\n",
       "  origen_financiamiento    clasificacion clasificacion_resumen  \\\n",
       "0               Privado  Caso Descartado            Descartado   \n",
       "1               Público  Caso Descartado            Descartado   \n",
       "2               Privado  Caso Descartado            Descartado   \n",
       "3               Público  Caso Descartado            Descartado   \n",
       "\n",
       "  residencia_provincia_id  fecha_diagnostico residencia_departamento_id  \\\n",
       "0                       2         2020-06-09                          0   \n",
       "1                       6         2020-06-01                        427   \n",
       "2                      14         2020-06-01                         14   \n",
       "3                      50         2020-06-01                         49   \n",
       "\n",
       "  ultima_actualizacion  \n",
       "0           2021-03-08  \n",
       "1           2021-03-08  \n",
       "2           2021-03-08  \n",
       "3           2021-03-08  \n",
       "\n",
       "[4 rows x 25 columns]"
      ]
     },
     "execution_count": 4,
     "metadata": {},
     "output_type": "execute_result"
    }
   ],
   "source": [
    "data.head(4)"
   ]
  },
  {
   "cell_type": "code",
   "execution_count": 5,
   "metadata": {},
   "outputs": [
    {
     "name": "stdout",
     "output_type": "stream",
     "text": [
      "<class 'pandas.core.frame.DataFrame'>\n",
      "RangeIndex: 7111699 entries, 0 to 7111698\n",
      "Data columns (total 25 columns):\n",
      " #   Column                            Dtype  \n",
      "---  ------                            -----  \n",
      " 0   id_evento_caso                    int64  \n",
      " 1   sexo                              object \n",
      " 2   edad                              float64\n",
      " 3   edad_años_meses                   object \n",
      " 4   residencia_pais_nombre            object \n",
      " 5   residencia_provincia_nombre       object \n",
      " 6   residencia_departamento_nombre    object \n",
      " 7   carga_provincia_nombre            object \n",
      " 8   fecha_inicio_sintomas             object \n",
      " 9   fecha_apertura                    object \n",
      " 10  sepi_apertura                     int64  \n",
      " 11  fecha_internacion                 object \n",
      " 12  cuidado_intensivo                 object \n",
      " 13  fecha_cui_intensivo               object \n",
      " 14  fallecido                         object \n",
      " 15  fecha_fallecimiento               object \n",
      " 16  asistencia_respiratoria_mecanica  object \n",
      " 17  carga_provincia_id                int64  \n",
      " 18  origen_financiamiento             object \n",
      " 19  clasificacion                     object \n",
      " 20  clasificacion_resumen             object \n",
      " 21  residencia_provincia_id           int64  \n",
      " 22  fecha_diagnostico                 object \n",
      " 23  residencia_departamento_id        int64  \n",
      " 24  ultima_actualizacion              object \n",
      "dtypes: float64(1), int64(5), object(19)\n",
      "memory usage: 1.3+ GB\n"
     ]
    }
   ],
   "source": [
    "data.info()"
   ]
  },
  {
   "cell_type": "code",
   "execution_count": 55,
   "metadata": {},
   "outputs": [
    {
     "data": {
      "text/plain": [
       "Caso Descartado                                                                              3966620\n",
       "Caso confirmado por laboratorio - No activo (por tiempo de evolución)                        1614708\n",
       "Caso con resultado negativo-no conclusivo - No activo                                         203236\n",
       "Caso confirmado por criterio clínico-epidemiológico - No activo (por tiempo de evolución)     185173\n",
       "Caso sospechoso - No Activo - Con muestra sin resultado concluyente                           124478\n",
       "Caso sospechoso - No Activo - Sin muestra                                                     116532\n",
       "Caso confirmado por laboratorio - Activo Internado                                            107226\n",
       "Caso confirmado por laboratorio - No Activo por criterio de laboratorio                        61552\n",
       "Caso confirmado por laboratorio - Fallecido                                                    50314\n",
       "Caso confirmado por laboratorio - Activo                                                       34340\n",
       "Caso con resultado negativo-no conclusivo - Activo                                             20778\n",
       "Caso sospechoso - Activo Internado - Sin muestra                                               12494\n",
       "Caso sospechoso - Activo - Con muestra sin resultado concluyente                               12131\n",
       "Caso sospechoso - Activo Internado - Con muestra sin resultado concluyente                     10325\n",
       "Caso Invalidado Epidemiologicamente                                                             9122\n",
       "Caso sospechoso  - Activo -  Sin muestra                                                        8487\n",
       "Caso con resultado negativo-no conclusivo - Activo internado                                    5217\n",
       "Caso confirmado por criterio clínico - epidemiológico -  Activo internado                       3796\n",
       "Caso sospechoso  - No Activo -  Muestra no apta                                                 3224\n",
       "Otro diagnostico                                                                                3029\n",
       "Caso confirmado por criterio clinico-epidemiol¿gico - Activo                                    2698\n",
       "Caso sospechoso - Fallecido - Sin muestra                                                        988\n",
       "Caso confirmado por criterio clínico-epidemiologico - Fallecido                                  818\n",
       "Caso sospechoso - Fallecido - Con muestra sin resultado concluyente                              677\n",
       "Caso sospechoso - Activo Internado - Muestra no apta                                             418\n",
       "Caso con resultado negativo-no conclusivo - Fallecido                                            122\n",
       "Sin clasificar                                                                                   107\n",
       "Caso sospechoso - Activo -  Muestra no apta                                                       78\n",
       "Caso sospechoso - Fallecido - Muestra no apta                                                     32\n",
       "Name: clasificacion, dtype: int64"
      ]
     },
     "execution_count": 55,
     "metadata": {},
     "output_type": "execute_result"
    }
   ],
   "source": [
    "data.clasificacion.value_counts()"
   ]
  },
  {
   "cell_type": "code",
   "execution_count": 6,
   "metadata": {},
   "outputs": [
    {
     "data": {
      "text/plain": [
       "id_evento_caso                            0\n",
       "sexo                                      0\n",
       "edad                                   3903\n",
       "edad_años_meses                           0\n",
       "residencia_pais_nombre                    0\n",
       "residencia_provincia_nombre               0\n",
       "residencia_departamento_nombre            0\n",
       "carga_provincia_nombre                    0\n",
       "fecha_inicio_sintomas               4239897\n",
       "fecha_apertura                            1\n",
       "sepi_apertura                             0\n",
       "fecha_internacion                   6843456\n",
       "cuidado_intensivo                         0\n",
       "fecha_cui_intensivo                 7068275\n",
       "fallecido                                 0\n",
       "fecha_fallecimiento                 7047527\n",
       "asistencia_respiratoria_mecanica          0\n",
       "carga_provincia_id                        0\n",
       "origen_financiamiento                     0\n",
       "clasificacion                             1\n",
       "clasificacion_resumen                     0\n",
       "residencia_provincia_id                   0\n",
       "fecha_diagnostico                    507729\n",
       "residencia_departamento_id                0\n",
       "ultima_actualizacion                      0\n",
       "dtype: int64"
      ]
     },
     "execution_count": 6,
     "metadata": {},
     "output_type": "execute_result"
    }
   ],
   "source": [
    "data.isnull().sum()"
   ]
  },
  {
   "cell_type": "code",
   "execution_count": 7,
   "metadata": {},
   "outputs": [
    {
     "data": {
      "text/plain": [
       "(7111699, 25)"
      ]
     },
     "execution_count": 7,
     "metadata": {},
     "output_type": "execute_result"
    }
   ],
   "source": [
    "data.shape"
   ]
  },
  {
   "cell_type": "code",
   "execution_count": 56,
   "metadata": {},
   "outputs": [
    {
     "data": {
      "text/plain": [
       "Index(['id_evento_caso', 'sexo', 'edad', 'edad_años_meses',\n",
       "       'residencia_pais_nombre', 'residencia_provincia_nombre',\n",
       "       'residencia_departamento_nombre', 'carga_provincia_nombre',\n",
       "       'fecha_inicio_sintomas', 'fecha_apertura', 'sepi_apertura',\n",
       "       'fecha_internacion', 'cuidado_intensivo', 'fecha_cui_intensivo',\n",
       "       'fallecido', 'fecha_fallecimiento', 'asistencia_respiratoria_mecanica',\n",
       "       'carga_provincia_id', 'origen_financiamiento', 'clasificacion',\n",
       "       'clasificacion_resumen', 'residencia_provincia_id', 'fecha_diagnostico',\n",
       "       'residencia_departamento_id', 'ultima_actualizacion'],\n",
       "      dtype='object')"
      ]
     },
     "execution_count": 56,
     "metadata": {},
     "output_type": "execute_result"
    }
   ],
   "source": [
    "data.columns"
   ]
  },
  {
   "cell_type": "code",
   "execution_count": 8,
   "metadata": {},
   "outputs": [],
   "source": [
    "data = data.drop(columns = [\"carga_provincia_id\",\"residencia_provincia_id\",\"residencia_departamento_id\",\"id_evento_caso\",\"asistencia_respiratoria_mecanica\",\"fecha_inicio_sintomas\",\"fecha_internacion\"])"
   ]
  },
  {
   "cell_type": "code",
   "execution_count": 9,
   "metadata": {},
   "outputs": [
    {
     "data": {
      "text/plain": [
       "(7111699, 18)"
      ]
     },
     "execution_count": 9,
     "metadata": {},
     "output_type": "execute_result"
    }
   ],
   "source": [
    "data.shape"
   ]
  },
  {
   "cell_type": "code",
   "execution_count": 10,
   "metadata": {},
   "outputs": [
    {
     "data": {
      "text/html": [
       "<div>\n",
       "<style scoped>\n",
       "    .dataframe tbody tr th:only-of-type {\n",
       "        vertical-align: middle;\n",
       "    }\n",
       "\n",
       "    .dataframe tbody tr th {\n",
       "        vertical-align: top;\n",
       "    }\n",
       "\n",
       "    .dataframe thead th {\n",
       "        text-align: right;\n",
       "    }\n",
       "</style>\n",
       "<table border=\"1\" class=\"dataframe\">\n",
       "  <thead>\n",
       "    <tr style=\"text-align: right;\">\n",
       "      <th></th>\n",
       "      <th>sexo</th>\n",
       "      <th>edad</th>\n",
       "      <th>edad_años_meses</th>\n",
       "      <th>residencia_pais_nombre</th>\n",
       "      <th>residencia_provincia_nombre</th>\n",
       "      <th>residencia_departamento_nombre</th>\n",
       "      <th>carga_provincia_nombre</th>\n",
       "      <th>fecha_apertura</th>\n",
       "      <th>sepi_apertura</th>\n",
       "      <th>cuidado_intensivo</th>\n",
       "      <th>fecha_cui_intensivo</th>\n",
       "      <th>fallecido</th>\n",
       "      <th>fecha_fallecimiento</th>\n",
       "      <th>origen_financiamiento</th>\n",
       "      <th>clasificacion</th>\n",
       "      <th>clasificacion_resumen</th>\n",
       "      <th>fecha_diagnostico</th>\n",
       "      <th>ultima_actualizacion</th>\n",
       "    </tr>\n",
       "  </thead>\n",
       "  <tbody>\n",
       "    <tr>\n",
       "      <th>0</th>\n",
       "      <td>M</td>\n",
       "      <td>54.0</td>\n",
       "      <td>Años</td>\n",
       "      <td>Argentina</td>\n",
       "      <td>CABA</td>\n",
       "      <td>SIN ESPECIFICAR</td>\n",
       "      <td>Buenos Aires</td>\n",
       "      <td>2020-06-01</td>\n",
       "      <td>23</td>\n",
       "      <td>NO</td>\n",
       "      <td>NaN</td>\n",
       "      <td>NO</td>\n",
       "      <td>NaN</td>\n",
       "      <td>Privado</td>\n",
       "      <td>Caso Descartado</td>\n",
       "      <td>Descartado</td>\n",
       "      <td>2020-06-09</td>\n",
       "      <td>2021-03-08</td>\n",
       "    </tr>\n",
       "    <tr>\n",
       "      <th>1</th>\n",
       "      <td>M</td>\n",
       "      <td>22.0</td>\n",
       "      <td>Años</td>\n",
       "      <td>Argentina</td>\n",
       "      <td>Buenos Aires</td>\n",
       "      <td>La Matanza</td>\n",
       "      <td>Buenos Aires</td>\n",
       "      <td>2020-06-01</td>\n",
       "      <td>23</td>\n",
       "      <td>NO</td>\n",
       "      <td>NaN</td>\n",
       "      <td>NO</td>\n",
       "      <td>NaN</td>\n",
       "      <td>Público</td>\n",
       "      <td>Caso Descartado</td>\n",
       "      <td>Descartado</td>\n",
       "      <td>2020-06-01</td>\n",
       "      <td>2021-03-08</td>\n",
       "    </tr>\n",
       "    <tr>\n",
       "      <th>2</th>\n",
       "      <td>F</td>\n",
       "      <td>41.0</td>\n",
       "      <td>Años</td>\n",
       "      <td>Argentina</td>\n",
       "      <td>Córdoba</td>\n",
       "      <td>Capital</td>\n",
       "      <td>Córdoba</td>\n",
       "      <td>2020-06-01</td>\n",
       "      <td>23</td>\n",
       "      <td>NO</td>\n",
       "      <td>NaN</td>\n",
       "      <td>NO</td>\n",
       "      <td>NaN</td>\n",
       "      <td>Privado</td>\n",
       "      <td>Caso Descartado</td>\n",
       "      <td>Descartado</td>\n",
       "      <td>2020-06-01</td>\n",
       "      <td>2021-03-08</td>\n",
       "    </tr>\n",
       "    <tr>\n",
       "      <th>3</th>\n",
       "      <td>F</td>\n",
       "      <td>58.0</td>\n",
       "      <td>Años</td>\n",
       "      <td>Argentina</td>\n",
       "      <td>Mendoza</td>\n",
       "      <td>Las Heras</td>\n",
       "      <td>Mendoza</td>\n",
       "      <td>2020-06-01</td>\n",
       "      <td>23</td>\n",
       "      <td>NO</td>\n",
       "      <td>NaN</td>\n",
       "      <td>NO</td>\n",
       "      <td>NaN</td>\n",
       "      <td>Público</td>\n",
       "      <td>Caso Descartado</td>\n",
       "      <td>Descartado</td>\n",
       "      <td>2020-06-01</td>\n",
       "      <td>2021-03-08</td>\n",
       "    </tr>\n",
       "    <tr>\n",
       "      <th>4</th>\n",
       "      <td>M</td>\n",
       "      <td>29.0</td>\n",
       "      <td>Años</td>\n",
       "      <td>Argentina</td>\n",
       "      <td>Buenos Aires</td>\n",
       "      <td>Malvinas Argentinas</td>\n",
       "      <td>Buenos Aires</td>\n",
       "      <td>2020-06-01</td>\n",
       "      <td>23</td>\n",
       "      <td>NO</td>\n",
       "      <td>NaN</td>\n",
       "      <td>NO</td>\n",
       "      <td>NaN</td>\n",
       "      <td>Público</td>\n",
       "      <td>Caso sospechoso - No Activo - Con muestra sin ...</td>\n",
       "      <td>Sospechoso</td>\n",
       "      <td>NaN</td>\n",
       "      <td>2021-03-08</td>\n",
       "    </tr>\n",
       "  </tbody>\n",
       "</table>\n",
       "</div>"
      ],
      "text/plain": [
       "  sexo  edad edad_años_meses residencia_pais_nombre  \\\n",
       "0    M  54.0            Años              Argentina   \n",
       "1    M  22.0            Años              Argentina   \n",
       "2    F  41.0            Años              Argentina   \n",
       "3    F  58.0            Años              Argentina   \n",
       "4    M  29.0            Años              Argentina   \n",
       "\n",
       "  residencia_provincia_nombre residencia_departamento_nombre  \\\n",
       "0                        CABA                SIN ESPECIFICAR   \n",
       "1                Buenos Aires                     La Matanza   \n",
       "2                     Córdoba                        Capital   \n",
       "3                     Mendoza                      Las Heras   \n",
       "4                Buenos Aires            Malvinas Argentinas   \n",
       "\n",
       "  carga_provincia_nombre fecha_apertura  sepi_apertura cuidado_intensivo  \\\n",
       "0           Buenos Aires     2020-06-01             23                NO   \n",
       "1           Buenos Aires     2020-06-01             23                NO   \n",
       "2                Córdoba     2020-06-01             23                NO   \n",
       "3                Mendoza     2020-06-01             23                NO   \n",
       "4           Buenos Aires     2020-06-01             23                NO   \n",
       "\n",
       "  fecha_cui_intensivo fallecido fecha_fallecimiento origen_financiamiento  \\\n",
       "0                 NaN        NO                 NaN               Privado   \n",
       "1                 NaN        NO                 NaN               Público   \n",
       "2                 NaN        NO                 NaN               Privado   \n",
       "3                 NaN        NO                 NaN               Público   \n",
       "4                 NaN        NO                 NaN               Público   \n",
       "\n",
       "                                       clasificacion clasificacion_resumen  \\\n",
       "0                                    Caso Descartado            Descartado   \n",
       "1                                    Caso Descartado            Descartado   \n",
       "2                                    Caso Descartado            Descartado   \n",
       "3                                    Caso Descartado            Descartado   \n",
       "4  Caso sospechoso - No Activo - Con muestra sin ...            Sospechoso   \n",
       "\n",
       "  fecha_diagnostico ultima_actualizacion  \n",
       "0        2020-06-09           2021-03-08  \n",
       "1        2020-06-01           2021-03-08  \n",
       "2        2020-06-01           2021-03-08  \n",
       "3        2020-06-01           2021-03-08  \n",
       "4               NaN           2021-03-08  "
      ]
     },
     "execution_count": 10,
     "metadata": {},
     "output_type": "execute_result"
    }
   ],
   "source": [
    "data.head(5)"
   ]
  },
  {
   "cell_type": "code",
   "execution_count": 172,
   "metadata": {},
   "outputs": [],
   "source": [
    "#data.fecha_diagnostico.dropna(inplace=True)"
   ]
  },
  {
   "cell_type": "code",
   "execution_count": 15,
   "metadata": {},
   "outputs": [
    {
     "data": {
      "text/plain": [
       "Descartado    4371696\n",
       "Confirmado    1963707\n",
       "Sospechoso     268567\n",
       "Name: clasificacion_resumen, dtype: int64"
      ]
     },
     "execution_count": 15,
     "metadata": {},
     "output_type": "execute_result"
    }
   ],
   "source": [
    "data.clasificacion_resumen[data.fecha_diagnostico.isna()==False].value_counts()"
   ]
  },
  {
   "cell_type": "code",
   "execution_count": 16,
   "metadata": {},
   "outputs": [],
   "source": [
    "#Regex\n",
    "caso_conf = \"Caso confirmado\"\n",
    "caso_sosp = \"Caso sospechoso\"\n",
    "caso_desc = \"Caso Descartado\"\n",
    "reg_caso_conf = re.compile(caso_conf)\n",
    "reg_caso_sosp = re.compile(caso_sosp)\n",
    "reg_caso_desc = re.compile(caso_desc)"
   ]
  },
  {
   "cell_type": "code",
   "execution_count": 17,
   "metadata": {},
   "outputs": [
    {
     "data": {
      "text/plain": [
       "['Caso confirmado']"
      ]
     },
     "execution_count": 17,
     "metadata": {},
     "output_type": "execute_result"
    }
   ],
   "source": [
    "re.findall(reg_caso_conf,data.clasificacion[2030])"
   ]
  },
  {
   "cell_type": "code",
   "execution_count": 18,
   "metadata": {},
   "outputs": [
    {
     "data": {
      "text/plain": [
       "['Caso Descartado']"
      ]
     },
     "execution_count": 18,
     "metadata": {},
     "output_type": "execute_result"
    }
   ],
   "source": [
    "re.findall(caso_desc,data.clasificacion[0])"
   ]
  },
  {
   "cell_type": "code",
   "execution_count": 29,
   "metadata": {},
   "outputs": [
    {
     "name": "stdout",
     "output_type": "stream",
     "text": [
      "False\n",
      "True\n"
     ]
    }
   ],
   "source": [
    "print (caso_conf in data.clasificacion[0])\n",
    "print (caso_desc in data.clasificacion[0])"
   ]
  },
  {
   "cell_type": "code",
   "execution_count": 31,
   "metadata": {},
   "outputs": [
    {
     "data": {
      "text/plain": [
       "Descartado        4381802\n",
       "Confirmado        2154694\n",
       "Sospechoso         575085\n",
       "Sin Clasificar        118\n",
       "Name: clasificacion_resumen, dtype: int64"
      ]
     },
     "execution_count": 31,
     "metadata": {},
     "output_type": "execute_result"
    }
   ],
   "source": [
    "data.clasificacion_resumen.value_counts()"
   ]
  },
  {
   "cell_type": "code",
   "execution_count": 32,
   "metadata": {},
   "outputs": [
    {
     "name": "stdout",
     "output_type": "stream",
     "text": [
      "Mortalidad entre los casos positivos:\n"
     ]
    },
    {
     "data": {
      "text/plain": [
       "NO    0.975346\n",
       "SI    0.024654\n",
       "Name: fallecido, dtype: float64"
      ]
     },
     "execution_count": 32,
     "metadata": {},
     "output_type": "execute_result"
    }
   ],
   "source": [
    "print (\"Mortalidad entre los casos positivos:\")\n",
    "data.fallecido[data.clasificacion_resumen==\"Confirmado\"].value_counts(normalize=True)"
   ]
  },
  {
   "cell_type": "raw",
   "metadata": {},
   "source": [
    "g = sns.relplot(\n",
    "    data=data[data.edad < 120],\n",
    "    x=\"fecha_diagnostico\", y=\"edad\",\n",
    "     sizes=(10, 200),\n",
    ")\n",
    "g"
   ]
  },
  {
   "cell_type": "code",
   "execution_count": 33,
   "metadata": {},
   "outputs": [
    {
     "data": {
      "text/plain": [
       "121.0     355\n",
       "221.0      42\n",
       "120.0      33\n",
       "111.0      12\n",
       "119.0       4\n",
       "113.0       3\n",
       "112.0       2\n",
       "1944.0      2\n",
       "1826.0      1\n",
       "118.0       1\n",
       "115.0       1\n",
       "117.0       1\n",
       "1024.0      1\n",
       "131.0       1\n",
       "Name: edad, dtype: int64"
      ]
     },
     "execution_count": 33,
     "metadata": {},
     "output_type": "execute_result"
    }
   ],
   "source": [
    "data.edad[data.edad>110].value_counts()"
   ]
  },
  {
   "cell_type": "code",
   "execution_count": 34,
   "metadata": {},
   "outputs": [],
   "source": [
    "data.drop(index=data.edad[data.edad>110].index, inplace=True)"
   ]
  },
  {
   "cell_type": "raw",
   "metadata": {},
   "source": [
    "kwargs = {'cumulative': True}\n",
    "sns.distplot(data.estado[data.estado==caso_conf], hist_kws=kwargs, kde_kws=kwargs)"
   ]
  },
  {
   "cell_type": "code",
   "execution_count": null,
   "metadata": {},
   "outputs": [],
   "source": [
    "#plt.hist(data.estado(data.estado==casosconf),cumulative=True, density=True, bins=30)"
   ]
  },
  {
   "cell_type": "code",
   "execution_count": 35,
   "metadata": {},
   "outputs": [],
   "source": [
    "tot = pd.Series(data.fecha_diagnostico[data.clasificacion_resumen==\"Confirmado\"].value_counts()).sort_values()\n",
    "tot = tot[tot.index > '2020-01-01']"
   ]
  },
  {
   "cell_type": "code",
   "execution_count": 36,
   "metadata": {},
   "outputs": [],
   "source": [
    "cumsum_tot = tot.sort_index().cumsum().sort_values()\n",
    "cumsum_tot = cumsum_tot[cumsum_tot.index > '2020-01-01']"
   ]
  },
  {
   "cell_type": "code",
   "execution_count": 37,
   "metadata": {},
   "outputs": [
    {
     "data": {
      "text/plain": [
       "'2020-06-01'"
      ]
     },
     "execution_count": 37,
     "metadata": {},
     "output_type": "execute_result"
    }
   ],
   "source": [
    "data.fecha_apertura.values[0]"
   ]
  },
  {
   "cell_type": "code",
   "execution_count": 45,
   "metadata": {},
   "outputs": [
    {
     "data": {
      "text/plain": [
       "Interval('2020-01-01 23:59:59.999999999', '2020-02-16', closed='right')"
      ]
     },
     "execution_count": 45,
     "metadata": {},
     "output_type": "execute_result"
    }
   ],
   "source": [
    "pd.qcut(pd.to_datetime(cumsum_tot.index),20)[0]"
   ]
  },
  {
   "cell_type": "code",
   "execution_count": 46,
   "metadata": {},
   "outputs": [
    {
     "data": {
      "text/plain": [
       "Interval('2020-01-01 13:39:21.600000', '2020-01-23 13:12:00', closed='right')"
      ]
     },
     "execution_count": 46,
     "metadata": {},
     "output_type": "execute_result"
    }
   ],
   "source": [
    "pd.cut(pd.to_datetime(cumsum_tot.index),20)[0]"
   ]
  },
  {
   "cell_type": "code",
   "execution_count": 69,
   "metadata": {},
   "outputs": [],
   "source": [
    "cumsum_tot.index = pd.to_datetime(cumsum_tot.index, format=\"%Y/%m/%d\")"
   ]
  },
  {
   "cell_type": "code",
   "execution_count": 51,
   "metadata": {},
   "outputs": [
    {
     "data": {
      "image/png": "[encoded data removed]",
      "text/plain": [
       "<Figure size 1800x504 with 1 Axes>"
      ]
     },
     "metadata": {
      "needs_background": "light"
     },
     "output_type": "display_data"
    }
   ],
   "source": [
    "# Plot\n",
    "x = cumsum_tot[cumsum_tot.index > '2020-07-01'].index\n",
    "y = cumsum_tot[cumsum_tot.index > '2020-07-01']\n",
    "plt.figure(figsize = (25,7))\n",
    "plt.plot(x, y)#labels=['Casos confirmados','Casos totales'])\n",
    "#plt.legend(loc='upper left')\n",
    "plt.title(\"Casos acumulados desde el '2020-07-01'\")\n",
    "plt.ticklabel_format(style='plain', axis=\"y\")\n",
    "plt.xticks(ticks=[])\n",
    "plt.show()"
   ]
  },
  {
   "cell_type": "code",
   "execution_count": 54,
   "metadata": {},
   "outputs": [
    {
     "data": {
      "image/png": "[encoded data removed]",
      "text/plain": [
       "<Figure size 432x288 with 1 Axes>"
      ]
     },
     "metadata": {
      "needs_background": "light"
     },
     "output_type": "display_data"
    },
    {
     "name": "stdout",
     "output_type": "stream",
     "text": [
      "Hoy en día, +16000 casos confirmados por día\n"
     ]
    }
   ],
   "source": [
    "plt.plot(tot[tot.index > '2020-06-01'])\n",
    "#plt.figure(figsize = (18,6))\n",
    "plt.show()\n",
    "print(\"Hoy en día, +16000 casos confirmados por día\")"
   ]
  },
  {
   "cell_type": "code",
   "execution_count": 64,
   "metadata": {},
   "outputs": [],
   "source": [
    "xticks = pd.to_datetime([\"2020-04-01\",\"2020-05-01\",\"2020-06-01\",\"2020-07-01\",\"2020-08-01\",\"2020-09-01\"])"
   ]
  },
  {
   "cell_type": "code",
   "execution_count": 132,
   "metadata": {},
   "outputs": [],
   "source": [
    "prim_trim_inf = tot.index[tot.index > '2020-06-01'].sort_values()\n",
    "prim_trim_sup = tot.index[tot.index < '2020-09-01'].sort_values()\n",
    "seg_trim_inf = tot.index[tot.index > '2020-09-01'].sort_values()\n",
    "seg_trim_sup = tot.index[tot.index < '2020-12-01'].sort_values()\n",
    "ter_trim_inf = tot.index[tot.index > '2020-12-01'].sort_values()\n",
    "#ter_trim_sup = tot.index > '2020-12-01'"
   ]
  },
  {
   "cell_type": "code",
   "execution_count": 138,
   "metadata": {},
   "outputs": [
    {
     "data": {
      "text/plain": [
       "2020-12-12    4170\n",
       "2020-12-13    2367\n",
       "2020-12-14    5915\n",
       "2020-12-15    6240\n",
       "2020-12-16    6118\n",
       "              ... \n",
       "2021-03-04    5926\n",
       "2021-03-05    5823\n",
       "2021-03-06    3673\n",
       "2021-03-07    1899\n",
       "2021-03-08    1224\n",
       "Name: fecha_diagnostico, Length: 87, dtype: int64"
      ]
     },
     "execution_count": 138,
     "metadata": {},
     "output_type": "execute_result"
    }
   ],
   "source": [
    "pd.Series(tot[ter_trim_inf])[10:]"
   ]
  },
  {
   "cell_type": "code",
   "execution_count": 96,
   "metadata": {},
   "outputs": [
    {
     "data": {
      "text/plain": [
       "Descartado    10308\n",
       "Sospechoso     3785\n",
       "Confirmado     1884\n",
       "Name: clasificacion_resumen, dtype: int64"
      ]
     },
     "execution_count": 96,
     "metadata": {},
     "output_type": "execute_result"
    }
   ],
   "source": [
    "data.clasificacion_resumen[data.fecha_apertura == \"2021-03-08\"].value_counts()"
   ]
  },
  {
   "cell_type": "code",
   "execution_count": 97,
   "metadata": {},
   "outputs": [
    {
     "data": {
      "text/plain": [
       "Descartado    4123\n",
       "Confirmado    1224\n",
       "Sospechoso     921\n",
       "Name: clasificacion_resumen, dtype: int64"
      ]
     },
     "execution_count": 97,
     "metadata": {},
     "output_type": "execute_result"
    }
   ],
   "source": [
    "data.clasificacion_resumen[data.fecha_diagnostico == \"2021-03-08\"].value_counts()"
   ]
  },
  {
   "cell_type": "code",
   "execution_count": 102,
   "metadata": {},
   "outputs": [
    {
     "data": {
      "text/plain": [
       "2021-03-08    6\n",
       "Name: fecha_fallecimiento, dtype: int64"
      ]
     },
     "execution_count": 102,
     "metadata": {},
     "output_type": "execute_result"
    }
   ],
   "source": [
    "data.fecha_fallecimiento[data.fecha_fallecimiento == \"2021-03-08\"].value_counts()"
   ]
  },
  {
   "cell_type": "code",
   "execution_count": 139,
   "metadata": {},
   "outputs": [
    {
     "data": {
      "text/plain": [
       "[<matplotlib.lines.Line2D at 0x2a5d4433f08>]"
      ]
     },
     "execution_count": 139,
     "metadata": {},
     "output_type": "execute_result"
    },
    {
     "data": {
      "image/png": "[encoded data removed]",
      "text/plain": [
       "<Figure size 1656x432 with 3 Axes>"
      ]
     },
     "metadata": {
      "needs_background": "light"
     },
     "output_type": "display_data"
    }
   ],
   "source": [
    "plt.figure(figsize = (23,6))\n",
    "plt.subplot(1, 3, 1)\n",
    "plt.title(\"Hasta septiembre-20\")\n",
    "#plt.xticks(ticks=xticks)\n",
    "plt.plot(tot[prim_trim_inf&prim_trim_sup])\n",
    "plt.subplot(1, 3, 2)\n",
    "plt.title(\"desde septiembre-20 hasta diciembre-20\")\n",
    "plt.plot(tot[seg_trim_inf&seg_trim_sup])\n",
    "plt.subplot(1, 3, 3)\n",
    "plt.title(\"desde diciembre-20\")\n",
    "plt.plot(tot[ter_trim_inf])"
   ]
  },
  {
   "cell_type": "code",
   "execution_count": 137,
   "metadata": {},
   "outputs": [
    {
     "data": {
      "text/plain": [
       "[<matplotlib.lines.Line2D at 0x2a5d42dcbc8>]"
      ]
     },
     "execution_count": 137,
     "metadata": {},
     "output_type": "execute_result"
    },
    {
     "data": {
      "image/png": "[encoded data removed]",
      "text/plain": [
       "<Figure size 1728x432 with 1 Axes>"
      ]
     },
     "metadata": {
      "needs_background": "light"
     },
     "output_type": "display_data"
    }
   ],
   "source": [
    "plt.figure(figsize = (24,6))\n",
    "plt.xticks(rotation=45)\n",
    "plt.plot(tot[ter_trim_inf])"
   ]
  },
  {
   "cell_type": "code",
   "execution_count": 170,
   "metadata": {},
   "outputs": [],
   "source": [
    "dia15 = []\n",
    "for i in range(0,len(cumsum_tot.index)):\n",
    "    if \"15\" in str(cumsum_tot.index[i]):\n",
    "        dia15.append(cumsum_tot.index[i])\n",
    "    #[x for x in cumsum.index if \"15\" in str(cumsum.index[i])]"
   ]
  },
  {
   "cell_type": "code",
   "execution_count": 174,
   "metadata": {},
   "outputs": [
    {
     "data": {
      "image/png": "[encoded data removed]",
      "text/plain": [
       "<Figure size 1656x432 with 1 Axes>"
      ]
     },
     "metadata": {
      "needs_background": "light"
     },
     "output_type": "display_data"
    }
   ],
   "source": [
    "x = cumsum_tot[cumsum_tot.index>\"2020-06-14\"].index\n",
    "y = cumsum_tot[cumsum_tot.index>\"2020-06-14\"]\n",
    "plt.figure(figsize = (23,6))\n",
    "plt.plot(x, y)#labels=['Casos confirmados','Casos totales'])\n",
    "plt.xticks(dia15[4:], rotation=45)\n",
    "#plt.legend(loc='upper left')\n",
    "plt.ticklabel_format(style='plain', axis=\"y\")\n",
    "plt.show()"
   ]
  },
  {
   "cell_type": "code",
   "execution_count": 192,
   "metadata": {},
   "outputs": [],
   "source": [
    "#data.fecha_diagnostico.dropna(inplace=True)"
   ]
  },
  {
   "cell_type": "code",
   "execution_count": 276,
   "metadata": {},
   "outputs": [],
   "source": [
    "mdata = pd.to_datetime(data.fecha_diagnostico[data.clasificacion_resumen==\"Confirmado\"]).dt.month\n",
    "mdata.dropna(inplace=True)\n",
    "mdata = mdata.astype(str)"
   ]
  },
  {
   "cell_type": "code",
   "execution_count": 277,
   "metadata": {},
   "outputs": [],
   "source": [
    "mcordata = []\n",
    "for x in mdata:\n",
    "    mcordata.append(x.replace(\".0\",\"\"))"
   ]
  },
  {
   "cell_type": "code",
   "execution_count": 278,
   "metadata": {},
   "outputs": [],
   "source": [
    "adata = pd.to_datetime(data.fecha_diagnostico[data.clasificacion_resumen==\"Confirmado\"]).dt.year\n",
    "adata.dropna(inplace=True)\n",
    "adata= adata.astype(str)"
   ]
  },
  {
   "cell_type": "code",
   "execution_count": 279,
   "metadata": {},
   "outputs": [],
   "source": [
    "acordata = []\n",
    "for x in adata:\n",
    "    acordata.append(x.replace(\".0\",\"\"))"
   ]
  },
  {
   "cell_type": "code",
   "execution_count": 280,
   "metadata": {},
   "outputs": [],
   "source": [
    "data[\"Date\"] = pd.Series(acordata)+\"_\"+pd.Series(mcordata)"
   ]
  },
  {
   "cell_type": "code",
   "execution_count": 281,
   "metadata": {},
   "outputs": [
    {
     "data": {
      "text/plain": [
       "0          2020_6\n",
       "1          2020_6\n",
       "2          2020_5\n",
       "3          2020_6\n",
       "4          2020_5\n",
       "            ...  \n",
       "1963532    2020_6\n",
       "1963533    2020_9\n",
       "1963534    2020_6\n",
       "1963535    2020_6\n",
       "1963536    2020_6\n",
       "Name: Date, Length: 1963371, dtype: object"
      ]
     },
     "execution_count": 281,
     "metadata": {},
     "output_type": "execute_result"
    }
   ],
   "source": [
    "data_graf = data[\"Date\"].dropna()\n",
    "data_graf"
   ]
  },
  {
   "cell_type": "code",
   "execution_count": 282,
   "metadata": {},
   "outputs": [
    {
     "data": {
      "text/html": [
       "<div>\n",
       "<style scoped>\n",
       "    .dataframe tbody tr th:only-of-type {\n",
       "        vertical-align: middle;\n",
       "    }\n",
       "\n",
       "    .dataframe tbody tr th {\n",
       "        vertical-align: top;\n",
       "    }\n",
       "\n",
       "    .dataframe thead th {\n",
       "        text-align: right;\n",
       "    }\n",
       "</style>\n",
       "<table border=\"1\" class=\"dataframe\">\n",
       "  <thead>\n",
       "    <tr style=\"text-align: right;\">\n",
       "      <th></th>\n",
       "      <th>Date</th>\n",
       "    </tr>\n",
       "    <tr>\n",
       "      <th>fecha_diagnostico</th>\n",
       "      <th></th>\n",
       "    </tr>\n",
       "  </thead>\n",
       "  <tbody>\n",
       "    <tr>\n",
       "      <th>2002-10-09</th>\n",
       "      <td>0</td>\n",
       "    </tr>\n",
       "    <tr>\n",
       "      <th>2002-10-11</th>\n",
       "      <td>0</td>\n",
       "    </tr>\n",
       "    <tr>\n",
       "      <th>2002-10-21</th>\n",
       "      <td>0</td>\n",
       "    </tr>\n",
       "    <tr>\n",
       "      <th>2002-11-09</th>\n",
       "      <td>0</td>\n",
       "    </tr>\n",
       "    <tr>\n",
       "      <th>2012-09-21</th>\n",
       "      <td>2021_1</td>\n",
       "    </tr>\n",
       "    <tr>\n",
       "      <th>...</th>\n",
       "      <td>...</td>\n",
       "    </tr>\n",
       "    <tr>\n",
       "      <th>2021-03-04</th>\n",
       "      <td>NaN</td>\n",
       "    </tr>\n",
       "    <tr>\n",
       "      <th>2021-03-05</th>\n",
       "      <td>NaN</td>\n",
       "    </tr>\n",
       "    <tr>\n",
       "      <th>2021-03-06</th>\n",
       "      <td>NaN</td>\n",
       "    </tr>\n",
       "    <tr>\n",
       "      <th>2021-03-07</th>\n",
       "      <td>NaN</td>\n",
       "    </tr>\n",
       "    <tr>\n",
       "      <th>2021-03-08</th>\n",
       "      <td>NaN</td>\n",
       "    </tr>\n",
       "  </tbody>\n",
       "</table>\n",
       "<p>407 rows × 1 columns</p>\n",
       "</div>"
      ],
      "text/plain": [
       "                     Date\n",
       "fecha_diagnostico        \n",
       "2002-10-09              0\n",
       "2002-10-11              0\n",
       "2002-10-21              0\n",
       "2002-11-09              0\n",
       "2012-09-21         2021_1\n",
       "...                   ...\n",
       "2021-03-04            NaN\n",
       "2021-03-05            NaN\n",
       "2021-03-06            NaN\n",
       "2021-03-07            NaN\n",
       "2021-03-08            NaN\n",
       "\n",
       "[407 rows x 1 columns]"
      ]
     },
     "execution_count": 282,
     "metadata": {},
     "output_type": "execute_result"
    }
   ],
   "source": [
    "data[[\"fecha_diagnostico\",\"Date\"]][data.clasificacion_resumen == \"Confirmado\"].groupby(\"fecha_diagnostico\").sum()"
   ]
  },
  {
   "cell_type": "code",
   "execution_count": 283,
   "metadata": {},
   "outputs": [],
   "source": [
    "data_graf = pd.to_datetime(data_graf, format=\"%Y_%m\")\n",
    "data_graf = pd.DataFrame(data_graf)\n",
    "data_graf[\"ano\"] = pd.Series\n",
    "data_graf[\"ano\"] = data_graf[\"Date\"].dt.year\n",
    "data_graf[\"mes\"] = data_graf[\"Date\"].dt.month\n",
    "data_graf = data_graf[data_graf.ano>=2019]"
   ]
  },
  {
   "cell_type": "code",
   "execution_count": 284,
   "metadata": {},
   "outputs": [
    {
     "data": {
      "text/html": [
       "<div>\n",
       "<style scoped>\n",
       "    .dataframe tbody tr th:only-of-type {\n",
       "        vertical-align: middle;\n",
       "    }\n",
       "\n",
       "    .dataframe tbody tr th {\n",
       "        vertical-align: top;\n",
       "    }\n",
       "\n",
       "    .dataframe thead th {\n",
       "        text-align: right;\n",
       "    }\n",
       "</style>\n",
       "<table border=\"1\" class=\"dataframe\">\n",
       "  <thead>\n",
       "    <tr style=\"text-align: right;\">\n",
       "      <th></th>\n",
       "      <th></th>\n",
       "      <th>Cant</th>\n",
       "    </tr>\n",
       "    <tr>\n",
       "      <th>ano</th>\n",
       "      <th>mes</th>\n",
       "      <th></th>\n",
       "    </tr>\n",
       "  </thead>\n",
       "  <tbody>\n",
       "    <tr>\n",
       "      <th rowspan=\"4\" valign=\"top\">2019</th>\n",
       "      <th>3</th>\n",
       "      <td>1</td>\n",
       "    </tr>\n",
       "    <tr>\n",
       "      <th>9</th>\n",
       "      <td>1</td>\n",
       "    </tr>\n",
       "    <tr>\n",
       "      <th>10</th>\n",
       "      <td>7</td>\n",
       "    </tr>\n",
       "    <tr>\n",
       "      <th>11</th>\n",
       "      <td>1</td>\n",
       "    </tr>\n",
       "    <tr>\n",
       "      <th rowspan=\"12\" valign=\"top\">2020</th>\n",
       "      <th>1</th>\n",
       "      <td>62</td>\n",
       "    </tr>\n",
       "    <tr>\n",
       "      <th>2</th>\n",
       "      <td>8</td>\n",
       "    </tr>\n",
       "    <tr>\n",
       "      <th>3</th>\n",
       "      <td>1084</td>\n",
       "    </tr>\n",
       "    <tr>\n",
       "      <th>4</th>\n",
       "      <td>3395</td>\n",
       "    </tr>\n",
       "    <tr>\n",
       "      <th>5</th>\n",
       "      <td>12868</td>\n",
       "    </tr>\n",
       "    <tr>\n",
       "      <th>6</th>\n",
       "      <td>51234</td>\n",
       "    </tr>\n",
       "    <tr>\n",
       "      <th>7</th>\n",
       "      <td>135675</td>\n",
       "    </tr>\n",
       "    <tr>\n",
       "      <th>8</th>\n",
       "      <td>229416</td>\n",
       "    </tr>\n",
       "    <tr>\n",
       "      <th>9</th>\n",
       "      <td>318620</td>\n",
       "    </tr>\n",
       "    <tr>\n",
       "      <th>10</th>\n",
       "      <td>365535</td>\n",
       "    </tr>\n",
       "    <tr>\n",
       "      <th>11</th>\n",
       "      <td>209801</td>\n",
       "    </tr>\n",
       "    <tr>\n",
       "      <th>12</th>\n",
       "      <td>178929</td>\n",
       "    </tr>\n",
       "    <tr>\n",
       "      <th rowspan=\"3\" valign=\"top\">2021</th>\n",
       "      <th>1</th>\n",
       "      <td>264490</td>\n",
       "    </tr>\n",
       "    <tr>\n",
       "      <th>2</th>\n",
       "      <td>154990</td>\n",
       "    </tr>\n",
       "    <tr>\n",
       "      <th>3</th>\n",
       "      <td>37249</td>\n",
       "    </tr>\n",
       "  </tbody>\n",
       "</table>\n",
       "</div>"
      ],
      "text/plain": [
       "            Cant\n",
       "ano  mes        \n",
       "2019 3         1\n",
       "     9         1\n",
       "     10        7\n",
       "     11        1\n",
       "2020 1        62\n",
       "     2         8\n",
       "     3      1084\n",
       "     4      3395\n",
       "     5     12868\n",
       "     6     51234\n",
       "     7    135675\n",
       "     8    229416\n",
       "     9    318620\n",
       "     10   365535\n",
       "     11   209801\n",
       "     12   178929\n",
       "2021 1    264490\n",
       "     2    154990\n",
       "     3     37249"
      ]
     },
     "execution_count": 284,
     "metadata": {},
     "output_type": "execute_result"
    }
   ],
   "source": [
    "count = data_graf.groupby([data_graf[\"ano\"],data_graf.mes]).count().rename({\"Date\":\"Cant\"},axis=\"columns\")#.sort_values(by=\"Date\",axis=0)\n",
    "#count = count[count.Cant > 1]\n",
    "count"
   ]
  },
  {
   "cell_type": "code",
   "execution_count": 285,
   "metadata": {},
   "outputs": [
    {
     "data": {
      "text/html": [
       "<div>\n",
       "<style scoped>\n",
       "    .dataframe tbody tr th:only-of-type {\n",
       "        vertical-align: middle;\n",
       "    }\n",
       "\n",
       "    .dataframe tbody tr th {\n",
       "        vertical-align: top;\n",
       "    }\n",
       "\n",
       "    .dataframe thead th {\n",
       "        text-align: right;\n",
       "    }\n",
       "</style>\n",
       "<table border=\"1\" class=\"dataframe\">\n",
       "  <thead>\n",
       "    <tr style=\"text-align: right;\">\n",
       "      <th></th>\n",
       "      <th></th>\n",
       "      <th>Cant</th>\n",
       "    </tr>\n",
       "    <tr>\n",
       "      <th>ano</th>\n",
       "      <th>mes</th>\n",
       "      <th></th>\n",
       "    </tr>\n",
       "  </thead>\n",
       "  <tbody>\n",
       "    <tr>\n",
       "      <th rowspan=\"4\" valign=\"top\">2019</th>\n",
       "      <th>3</th>\n",
       "      <td>1</td>\n",
       "    </tr>\n",
       "    <tr>\n",
       "      <th>9</th>\n",
       "      <td>1</td>\n",
       "    </tr>\n",
       "    <tr>\n",
       "      <th>10</th>\n",
       "      <td>7</td>\n",
       "    </tr>\n",
       "    <tr>\n",
       "      <th>11</th>\n",
       "      <td>1</td>\n",
       "    </tr>\n",
       "  </tbody>\n",
       "</table>\n",
       "</div>"
      ],
      "text/plain": [
       "          Cant\n",
       "ano  mes      \n",
       "2019 3       1\n",
       "     9       1\n",
       "     10      7\n",
       "     11      1"
      ]
     },
     "execution_count": 285,
     "metadata": {},
     "output_type": "execute_result"
    }
   ],
   "source": [
    "count.query(\"ano==2019\")"
   ]
  },
  {
   "cell_type": "code",
   "execution_count": 286,
   "metadata": {},
   "outputs": [
    {
     "data": {
      "text/html": [
       "<div>\n",
       "<style scoped>\n",
       "    .dataframe tbody tr th:only-of-type {\n",
       "        vertical-align: middle;\n",
       "    }\n",
       "\n",
       "    .dataframe tbody tr th {\n",
       "        vertical-align: top;\n",
       "    }\n",
       "\n",
       "    .dataframe thead th {\n",
       "        text-align: right;\n",
       "    }\n",
       "</style>\n",
       "<table border=\"1\" class=\"dataframe\">\n",
       "  <thead>\n",
       "    <tr style=\"text-align: right;\">\n",
       "      <th></th>\n",
       "      <th></th>\n",
       "      <th>Cant</th>\n",
       "    </tr>\n",
       "    <tr>\n",
       "      <th>ano</th>\n",
       "      <th>mes</th>\n",
       "      <th></th>\n",
       "    </tr>\n",
       "  </thead>\n",
       "  <tbody>\n",
       "    <tr>\n",
       "      <th rowspan=\"12\" valign=\"top\">2020</th>\n",
       "      <th>1</th>\n",
       "      <td>62</td>\n",
       "    </tr>\n",
       "    <tr>\n",
       "      <th>2</th>\n",
       "      <td>8</td>\n",
       "    </tr>\n",
       "    <tr>\n",
       "      <th>3</th>\n",
       "      <td>1084</td>\n",
       "    </tr>\n",
       "    <tr>\n",
       "      <th>4</th>\n",
       "      <td>3395</td>\n",
       "    </tr>\n",
       "    <tr>\n",
       "      <th>5</th>\n",
       "      <td>12868</td>\n",
       "    </tr>\n",
       "    <tr>\n",
       "      <th>6</th>\n",
       "      <td>51234</td>\n",
       "    </tr>\n",
       "    <tr>\n",
       "      <th>7</th>\n",
       "      <td>135675</td>\n",
       "    </tr>\n",
       "    <tr>\n",
       "      <th>8</th>\n",
       "      <td>229416</td>\n",
       "    </tr>\n",
       "    <tr>\n",
       "      <th>9</th>\n",
       "      <td>318620</td>\n",
       "    </tr>\n",
       "    <tr>\n",
       "      <th>10</th>\n",
       "      <td>365535</td>\n",
       "    </tr>\n",
       "    <tr>\n",
       "      <th>11</th>\n",
       "      <td>209801</td>\n",
       "    </tr>\n",
       "    <tr>\n",
       "      <th>12</th>\n",
       "      <td>178929</td>\n",
       "    </tr>\n",
       "  </tbody>\n",
       "</table>\n",
       "</div>"
      ],
      "text/plain": [
       "            Cant\n",
       "ano  mes        \n",
       "2020 1        62\n",
       "     2         8\n",
       "     3      1084\n",
       "     4      3395\n",
       "     5     12868\n",
       "     6     51234\n",
       "     7    135675\n",
       "     8    229416\n",
       "     9    318620\n",
       "     10   365535\n",
       "     11   209801\n",
       "     12   178929"
      ]
     },
     "execution_count": 286,
     "metadata": {},
     "output_type": "execute_result"
    }
   ],
   "source": [
    "count.query(\"ano==2020\")"
   ]
  },
  {
   "cell_type": "code",
   "execution_count": 287,
   "metadata": {},
   "outputs": [
    {
     "data": {
      "text/html": [
       "<div>\n",
       "<style scoped>\n",
       "    .dataframe tbody tr th:only-of-type {\n",
       "        vertical-align: middle;\n",
       "    }\n",
       "\n",
       "    .dataframe tbody tr th {\n",
       "        vertical-align: top;\n",
       "    }\n",
       "\n",
       "    .dataframe thead th {\n",
       "        text-align: right;\n",
       "    }\n",
       "</style>\n",
       "<table border=\"1\" class=\"dataframe\">\n",
       "  <thead>\n",
       "    <tr style=\"text-align: right;\">\n",
       "      <th></th>\n",
       "      <th></th>\n",
       "      <th>Cant</th>\n",
       "    </tr>\n",
       "    <tr>\n",
       "      <th>ano</th>\n",
       "      <th>mes</th>\n",
       "      <th></th>\n",
       "    </tr>\n",
       "  </thead>\n",
       "  <tbody>\n",
       "    <tr>\n",
       "      <th rowspan=\"3\" valign=\"top\">2021</th>\n",
       "      <th>1</th>\n",
       "      <td>264490</td>\n",
       "    </tr>\n",
       "    <tr>\n",
       "      <th>2</th>\n",
       "      <td>154990</td>\n",
       "    </tr>\n",
       "    <tr>\n",
       "      <th>3</th>\n",
       "      <td>37249</td>\n",
       "    </tr>\n",
       "  </tbody>\n",
       "</table>\n",
       "</div>"
      ],
      "text/plain": [
       "            Cant\n",
       "ano  mes        \n",
       "2021 1    264490\n",
       "     2    154990\n",
       "     3     37249"
      ]
     },
     "execution_count": 287,
     "metadata": {},
     "output_type": "execute_result"
    }
   ],
   "source": [
    "count.query(\"ano==2021\")"
   ]
  },
  {
   "cell_type": "code",
   "execution_count": 288,
   "metadata": {},
   "outputs": [],
   "source": [
    "cant_2019 = pd.DataFrame(count.query(\"ano==2019\"))\n",
    "cant_2020 = pd.DataFrame(count.query(\"ano==2020\"))\n",
    "cant_2021 = pd.DataFrame(count.query(\"ano==2021\"))"
   ]
  },
  {
   "cell_type": "code",
   "execution_count": 289,
   "metadata": {},
   "outputs": [
    {
     "data": {
      "text/plain": [
       "<AxesSubplot:xlabel='ano,mes'>"
      ]
     },
     "execution_count": 289,
     "metadata": {},
     "output_type": "execute_result"
    },
    {
     "data": {
      "image/png": "[encoded data removed]",
      "text/plain": [
       "<Figure size 432x288 with 1 Axes>"
      ]
     },
     "metadata": {
      "needs_background": "light"
     },
     "output_type": "display_data"
    }
   ],
   "source": [
    "count.plot(kind=\"bar\")"
   ]
  },
  {
   "cell_type": "code",
   "execution_count": 293,
   "metadata": {},
   "outputs": [],
   "source": [
    "data.fecha_diagnostico = pd.to_datetime(data.fecha_diagnostico,infer_datetime_format=True)"
   ]
  },
  {
   "cell_type": "code",
   "execution_count": 290,
   "metadata": {},
   "outputs": [
    {
     "data": {
      "text/plain": [
       "False    6603553\n",
       "True      507687\n",
       "Name: fecha_diagnostico, dtype: int64"
      ]
     },
     "execution_count": 290,
     "metadata": {},
     "output_type": "execute_result"
    }
   ],
   "source": [
    "data.fecha_diagnostico.isna().value_counts()"
   ]
  },
  {
   "cell_type": "code",
   "execution_count": 267,
   "metadata": {},
   "outputs": [],
   "source": [
    "today = datetime.strftime(datetime.date(datetime.today()),\"%Y-%m-%d\")"
   ]
  },
  {
   "cell_type": "code",
   "execution_count": 205,
   "metadata": {},
   "outputs": [
    {
     "data": {
      "text/plain": [
       "'2021-02-22'"
      ]
     },
     "execution_count": 205,
     "metadata": {},
     "output_type": "execute_result"
    }
   ],
   "source": [
    "per_15d = datetime.strftime(datetime.date(datetime.today()-timedelta(days=15)),\"%Y-%m-%d\")\n",
    "per_15d"
   ]
  },
  {
   "cell_type": "code",
   "execution_count": 216,
   "metadata": {},
   "outputs": [
    {
     "data": {
      "text/html": [
       "<div>\n",
       "<style scoped>\n",
       "    .dataframe tbody tr th:only-of-type {\n",
       "        vertical-align: middle;\n",
       "    }\n",
       "\n",
       "    .dataframe tbody tr th {\n",
       "        vertical-align: top;\n",
       "    }\n",
       "\n",
       "    .dataframe thead th {\n",
       "        text-align: right;\n",
       "    }\n",
       "</style>\n",
       "<table border=\"1\" class=\"dataframe\">\n",
       "  <thead>\n",
       "    <tr style=\"text-align: right;\">\n",
       "      <th></th>\n",
       "      <th>sexo</th>\n",
       "      <th>edad</th>\n",
       "      <th>edad_años_meses</th>\n",
       "      <th>carga_provincia_nombre</th>\n",
       "      <th>fallecido</th>\n",
       "      <th>clasificacion</th>\n",
       "      <th>clasificacion_resumen</th>\n",
       "    </tr>\n",
       "  </thead>\n",
       "  <tbody>\n",
       "    <tr>\n",
       "      <th>1518</th>\n",
       "      <td>F</td>\n",
       "      <td>26.0</td>\n",
       "      <td>Años</td>\n",
       "      <td>CABA</td>\n",
       "      <td>NO</td>\n",
       "      <td>Caso confirmado por laboratorio - No activo (p...</td>\n",
       "      <td>Confirmado</td>\n",
       "    </tr>\n",
       "    <tr>\n",
       "      <th>2917</th>\n",
       "      <td>M</td>\n",
       "      <td>31.0</td>\n",
       "      <td>Años</td>\n",
       "      <td>Buenos Aires</td>\n",
       "      <td>NO</td>\n",
       "      <td>Caso confirmado por laboratorio - No activo (p...</td>\n",
       "      <td>Confirmado</td>\n",
       "    </tr>\n",
       "    <tr>\n",
       "      <th>4574</th>\n",
       "      <td>F</td>\n",
       "      <td>32.0</td>\n",
       "      <td>Años</td>\n",
       "      <td>Buenos Aires</td>\n",
       "      <td>NO</td>\n",
       "      <td>Caso confirmado por laboratorio - No activo (p...</td>\n",
       "      <td>Confirmado</td>\n",
       "    </tr>\n",
       "    <tr>\n",
       "      <th>5640</th>\n",
       "      <td>F</td>\n",
       "      <td>46.0</td>\n",
       "      <td>Años</td>\n",
       "      <td>Córdoba</td>\n",
       "      <td>NO</td>\n",
       "      <td>Caso confirmado por laboratorio - No activo (p...</td>\n",
       "      <td>Confirmado</td>\n",
       "    </tr>\n",
       "    <tr>\n",
       "      <th>5915</th>\n",
       "      <td>M</td>\n",
       "      <td>30.0</td>\n",
       "      <td>Años</td>\n",
       "      <td>Buenos Aires</td>\n",
       "      <td>NO</td>\n",
       "      <td>Caso confirmado por laboratorio - No activo (p...</td>\n",
       "      <td>Confirmado</td>\n",
       "    </tr>\n",
       "    <tr>\n",
       "      <th>...</th>\n",
       "      <td>...</td>\n",
       "      <td>...</td>\n",
       "      <td>...</td>\n",
       "      <td>...</td>\n",
       "      <td>...</td>\n",
       "      <td>...</td>\n",
       "      <td>...</td>\n",
       "    </tr>\n",
       "    <tr>\n",
       "      <th>7092466</th>\n",
       "      <td>M</td>\n",
       "      <td>35.0</td>\n",
       "      <td>Años</td>\n",
       "      <td>CABA</td>\n",
       "      <td>NO</td>\n",
       "      <td>Caso confirmado por laboratorio - No activo (p...</td>\n",
       "      <td>Confirmado</td>\n",
       "    </tr>\n",
       "    <tr>\n",
       "      <th>7093746</th>\n",
       "      <td>F</td>\n",
       "      <td>22.0</td>\n",
       "      <td>Años</td>\n",
       "      <td>Buenos Aires</td>\n",
       "      <td>NO</td>\n",
       "      <td>Caso confirmado por laboratorio - No activo (p...</td>\n",
       "      <td>Confirmado</td>\n",
       "    </tr>\n",
       "    <tr>\n",
       "      <th>7096690</th>\n",
       "      <td>F</td>\n",
       "      <td>71.0</td>\n",
       "      <td>Años</td>\n",
       "      <td>La Rioja</td>\n",
       "      <td>NO</td>\n",
       "      <td>Caso confirmado por laboratorio - No Activo po...</td>\n",
       "      <td>Confirmado</td>\n",
       "    </tr>\n",
       "    <tr>\n",
       "      <th>7099010</th>\n",
       "      <td>M</td>\n",
       "      <td>23.0</td>\n",
       "      <td>Años</td>\n",
       "      <td>Chaco</td>\n",
       "      <td>NO</td>\n",
       "      <td>Caso confirmado por laboratorio - No activo (p...</td>\n",
       "      <td>Confirmado</td>\n",
       "    </tr>\n",
       "    <tr>\n",
       "      <th>7108186</th>\n",
       "      <td>M</td>\n",
       "      <td>3.0</td>\n",
       "      <td>Años</td>\n",
       "      <td>CABA</td>\n",
       "      <td>NO</td>\n",
       "      <td>Caso confirmado por laboratorio - No activo (p...</td>\n",
       "      <td>Confirmado</td>\n",
       "    </tr>\n",
       "  </tbody>\n",
       "</table>\n",
       "<p>67843 rows × 7 columns</p>\n",
       "</div>"
      ],
      "text/plain": [
       "        sexo  edad edad_años_meses carga_provincia_nombre fallecido  \\\n",
       "1518       F  26.0            Años                   CABA        NO   \n",
       "2917       M  31.0            Años           Buenos Aires        NO   \n",
       "4574       F  32.0            Años           Buenos Aires        NO   \n",
       "5640       F  46.0            Años                Córdoba        NO   \n",
       "5915       M  30.0            Años           Buenos Aires        NO   \n",
       "...      ...   ...             ...                    ...       ...   \n",
       "7092466    M  35.0            Años                   CABA        NO   \n",
       "7093746    F  22.0            Años           Buenos Aires        NO   \n",
       "7096690    F  71.0            Años               La Rioja        NO   \n",
       "7099010    M  23.0            Años                  Chaco        NO   \n",
       "7108186    M   3.0            Años                   CABA        NO   \n",
       "\n",
       "                                             clasificacion  \\\n",
       "1518     Caso confirmado por laboratorio - No activo (p...   \n",
       "2917     Caso confirmado por laboratorio - No activo (p...   \n",
       "4574     Caso confirmado por laboratorio - No activo (p...   \n",
       "5640     Caso confirmado por laboratorio - No activo (p...   \n",
       "5915     Caso confirmado por laboratorio - No activo (p...   \n",
       "...                                                    ...   \n",
       "7092466  Caso confirmado por laboratorio - No activo (p...   \n",
       "7093746  Caso confirmado por laboratorio - No activo (p...   \n",
       "7096690  Caso confirmado por laboratorio - No Activo po...   \n",
       "7099010  Caso confirmado por laboratorio - No activo (p...   \n",
       "7108186  Caso confirmado por laboratorio - No activo (p...   \n",
       "\n",
       "        clasificacion_resumen  \n",
       "1518               Confirmado  \n",
       "2917               Confirmado  \n",
       "4574               Confirmado  \n",
       "5640               Confirmado  \n",
       "5915               Confirmado  \n",
       "...                       ...  \n",
       "7092466            Confirmado  \n",
       "7093746            Confirmado  \n",
       "7096690            Confirmado  \n",
       "7099010            Confirmado  \n",
       "7108186            Confirmado  \n",
       "\n",
       "[67843 rows x 7 columns]"
      ]
     },
     "execution_count": 216,
     "metadata": {},
     "output_type": "execute_result"
    }
   ],
   "source": [
    "activos = data[data.fecha_diagnostico>=per_15d]\n",
    "activos = activos.loc[:,[\"sexo\",\"edad\",\"edad_años_meses\",\"carga_provincia_nombre\",\"fallecido\",\"clasificacion\",\"clasificacion_resumen\"]]\n",
    "activos = activos[activos.clasificacion_resumen == \"Confirmado\"]\n",
    "activos.head(5)"
   ]
  },
  {
   "cell_type": "code",
   "execution_count": 294,
   "metadata": {},
   "outputs": [
    {
     "data": {
      "text/plain": [
       "NO    67613\n",
       "SI      230\n",
       "Name: fallecido, dtype: int64"
      ]
     },
     "execution_count": 294,
     "metadata": {},
     "output_type": "execute_result"
    }
   ],
   "source": [
    "activos.fallecido.value_counts()"
   ]
  },
  {
   "cell_type": "code",
   "execution_count": 301,
   "metadata": {},
   "outputs": [
    {
     "data": {
      "text/plain": [
       "NO    4945561\n",
       "SI      11050\n",
       "Name: fallecido, dtype: int64"
      ]
     },
     "execution_count": 301,
     "metadata": {},
     "output_type": "execute_result"
    }
   ],
   "source": [
    "data.fallecido.loc[(data.clasificacion_resumen==\"Descartado\") | (data.clasificacion_resumen==\"Sospechoso\")].value_counts()"
   ]
  },
  {
   "cell_type": "code",
   "execution_count": 295,
   "metadata": {},
   "outputs": [
    {
     "data": {
      "text/plain": [
       "(21.4, 42.8]      0.448988\n",
       "(42.8, 64.2]      0.307251\n",
       "(-0.107, 21.4]    0.128632\n",
       "(64.2, 85.6]      0.104132\n",
       "(85.6, 107.0]     0.010997\n",
       "Name: edad, dtype: float64"
      ]
     },
     "execution_count": 295,
     "metadata": {},
     "output_type": "execute_result"
    }
   ],
   "source": [
    "pd.cut(activos.edad,5).value_counts(normalize=True)"
   ]
  },
  {
   "cell_type": "code",
   "execution_count": 212,
   "metadata": {},
   "outputs": [
    {
     "data": {
      "text/plain": [
       "(22.0, 44.0]     0.486643\n",
       "(44.0, 66.0]     0.262344\n",
       "(-0.11, 22.0]    0.162520\n",
       "(66.0, 88.0]     0.079768\n",
       "(88.0, 110.0]    0.008724\n",
       "Name: edad, dtype: float64"
      ]
     },
     "execution_count": 212,
     "metadata": {},
     "output_type": "execute_result"
    }
   ],
   "source": [
    "pd.cut(data.edad,5).value_counts(normalize=True)"
   ]
  },
  {
   "cell_type": "code",
   "execution_count": 220,
   "metadata": {},
   "outputs": [
    {
     "data": {
      "text/plain": [
       "F     0.501098\n",
       "M     0.491768\n",
       "NR    0.007134\n",
       "Name: sexo, dtype: float64"
      ]
     },
     "execution_count": 220,
     "metadata": {},
     "output_type": "execute_result"
    }
   ],
   "source": [
    "activos.sexo.value_counts(normalize=True)"
   ]
  },
  {
   "cell_type": "code",
   "execution_count": 302,
   "metadata": {},
   "outputs": [
    {
     "data": {
      "text/plain": [
       "Caso confirmado por laboratorio - Activo                                                     33260\n",
       "Caso confirmado por laboratorio - No activo (por tiempo de evolución)                        30977\n",
       "Caso confirmado por laboratorio - Activo Internado                                            2737\n",
       "Caso confirmado por laboratorio - No Activo por criterio de laboratorio                        272\n",
       "Caso confirmado por criterio clínico-epidemiológico - No activo (por tiempo de evolución)      262\n",
       "Caso confirmado por laboratorio - Fallecido                                                    230\n",
       "Caso confirmado por criterio clinico-epidemiol¿gico - Activo                                    89\n",
       "Caso confirmado por criterio clínico - epidemiológico -  Activo internado                       16\n",
       "Name: clasificacion, dtype: int64"
      ]
     },
     "execution_count": 302,
     "metadata": {},
     "output_type": "execute_result"
    }
   ],
   "source": [
    "activos.clasificacion.value_counts()"
   ]
  },
  {
   "cell_type": "code",
   "execution_count": 222,
   "metadata": {},
   "outputs": [
    {
     "data": {
      "text/html": [
       "<div>\n",
       "<style scoped>\n",
       "    .dataframe tbody tr th:only-of-type {\n",
       "        vertical-align: middle;\n",
       "    }\n",
       "\n",
       "    .dataframe tbody tr th {\n",
       "        vertical-align: top;\n",
       "    }\n",
       "\n",
       "    .dataframe thead th {\n",
       "        text-align: right;\n",
       "    }\n",
       "</style>\n",
       "<table border=\"1\" class=\"dataframe\">\n",
       "  <thead>\n",
       "    <tr style=\"text-align: right;\">\n",
       "      <th></th>\n",
       "      <th>sexo</th>\n",
       "      <th>edad</th>\n",
       "      <th>edad_años_meses</th>\n",
       "      <th>carga_provincia_nombre</th>\n",
       "      <th>fallecido</th>\n",
       "      <th>clasificacion</th>\n",
       "      <th>clasificacion_resumen</th>\n",
       "    </tr>\n",
       "  </thead>\n",
       "  <tbody>\n",
       "    <tr>\n",
       "      <th>1518</th>\n",
       "      <td>F</td>\n",
       "      <td>26.0</td>\n",
       "      <td>Años</td>\n",
       "      <td>CABA</td>\n",
       "      <td>NO</td>\n",
       "      <td>Caso confirmado por laboratorio - No activo (p...</td>\n",
       "      <td>Confirmado</td>\n",
       "    </tr>\n",
       "    <tr>\n",
       "      <th>2917</th>\n",
       "      <td>M</td>\n",
       "      <td>31.0</td>\n",
       "      <td>Años</td>\n",
       "      <td>Buenos Aires</td>\n",
       "      <td>NO</td>\n",
       "      <td>Caso confirmado por laboratorio - No activo (p...</td>\n",
       "      <td>Confirmado</td>\n",
       "    </tr>\n",
       "    <tr>\n",
       "      <th>4574</th>\n",
       "      <td>F</td>\n",
       "      <td>32.0</td>\n",
       "      <td>Años</td>\n",
       "      <td>Buenos Aires</td>\n",
       "      <td>NO</td>\n",
       "      <td>Caso confirmado por laboratorio - No activo (p...</td>\n",
       "      <td>Confirmado</td>\n",
       "    </tr>\n",
       "    <tr>\n",
       "      <th>5640</th>\n",
       "      <td>F</td>\n",
       "      <td>46.0</td>\n",
       "      <td>Años</td>\n",
       "      <td>Córdoba</td>\n",
       "      <td>NO</td>\n",
       "      <td>Caso confirmado por laboratorio - No activo (p...</td>\n",
       "      <td>Confirmado</td>\n",
       "    </tr>\n",
       "    <tr>\n",
       "      <th>5915</th>\n",
       "      <td>M</td>\n",
       "      <td>30.0</td>\n",
       "      <td>Años</td>\n",
       "      <td>Buenos Aires</td>\n",
       "      <td>NO</td>\n",
       "      <td>Caso confirmado por laboratorio - No activo (p...</td>\n",
       "      <td>Confirmado</td>\n",
       "    </tr>\n",
       "  </tbody>\n",
       "</table>\n",
       "</div>"
      ],
      "text/plain": [
       "     sexo  edad edad_años_meses carga_provincia_nombre fallecido  \\\n",
       "1518    F  26.0            Años                   CABA        NO   \n",
       "2917    M  31.0            Años           Buenos Aires        NO   \n",
       "4574    F  32.0            Años           Buenos Aires        NO   \n",
       "5640    F  46.0            Años                Córdoba        NO   \n",
       "5915    M  30.0            Años           Buenos Aires        NO   \n",
       "\n",
       "                                          clasificacion clasificacion_resumen  \n",
       "1518  Caso confirmado por laboratorio - No activo (p...            Confirmado  \n",
       "2917  Caso confirmado por laboratorio - No activo (p...            Confirmado  \n",
       "4574  Caso confirmado por laboratorio - No activo (p...            Confirmado  \n",
       "5640  Caso confirmado por laboratorio - No activo (p...            Confirmado  \n",
       "5915  Caso confirmado por laboratorio - No activo (p...            Confirmado  "
      ]
     },
     "execution_count": 222,
     "metadata": {},
     "output_type": "execute_result"
    }
   ],
   "source": [
    "activos.head(5)"
   ]
  },
  {
   "cell_type": "code",
   "execution_count": 303,
   "metadata": {},
   "outputs": [
    {
     "name": "stdout",
     "output_type": "stream",
     "text": [
      "Las provincias que más casos activos tienen son:\n"
     ]
    },
    {
     "data": {
      "text/plain": [
       "Buenos Aires    22822\n",
       "CABA            12858\n",
       "Córdoba          7148\n",
       "Santa Fe         4535\n",
       "Corrientes       2118\n",
       "Name: carga_provincia_nombre, dtype: int64"
      ]
     },
     "execution_count": 303,
     "metadata": {},
     "output_type": "execute_result"
    }
   ],
   "source": [
    "print (\"Las provincias que más casos activos tienen son:\")\n",
    "activos.carga_provincia_nombre.value_counts()[:5]"
   ]
  },
  {
   "cell_type": "code",
   "execution_count": 239,
   "metadata": {},
   "outputs": [
    {
     "name": "stdout",
     "output_type": "stream",
     "text": [
      "Cantidad de casos confirmados en últimos 15 días: 67843\n",
      "Cantidad de casos analizados en últimos 15 días: 400108\n",
      "Lo que representa un 0.17 % de los testeos realizados\n"
     ]
    }
   ],
   "source": [
    "print (\"Cantidad de casos confirmados en últimos 15 días:\",activos.carga_provincia_nombre.count())\n",
    "print (\"Cantidad de casos analizados en últimos 15 días:\",data[data.fecha_diagnostico>per_15d].shape[0])\n",
    "print (\"Lo que representa un\",round(activos.carga_provincia_nombre.count()/data[data.fecha_diagnostico>per_15d].shape[0],2),\"% de casos positivos sobre los testeos realizados\")"
   ]
  },
  {
   "cell_type": "code",
   "execution_count": 258,
   "metadata": {},
   "outputs": [
    {
     "name": "stdout",
     "output_type": "stream",
     "text": [
      "Porcentaje de casos analizados por provincia sobre últimos 15 días hasta el 08/3:\n"
     ]
    },
    {
     "data": {
      "text/plain": [
       "CABA            40.75\n",
       "Buenos Aires    19.27\n",
       "Córdoba         11.44\n",
       "Santa Fe         4.57\n",
       "Tucumán          2.65\n",
       "Name: carga_provincia_nombre, dtype: float64"
      ]
     },
     "execution_count": 258,
     "metadata": {},
     "output_type": "execute_result"
    }
   ],
   "source": [
    "print (\"Porcentaje de casos analizados por provincia sobre últimos 15 días hasta el:\", today)\n",
    "round(data.carga_provincia_nombre[data.fecha_diagnostico>per_15d].value_counts()/data.carga_provincia_nombre[data.fecha_diagnostico>per_15d].count()*100,2)[:5]"
   ]
  },
  {
   "cell_type": "code",
   "execution_count": 259,
   "metadata": {},
   "outputs": [
    {
     "name": "stdout",
     "output_type": "stream",
     "text": [
      "Porcentaje de casos confirmados por provincia sobre últimos 15 días hasta el 08/3:\n"
     ]
    },
    {
     "data": {
      "text/plain": [
       "Buenos Aires    33.64\n",
       "CABA            18.95\n",
       "Córdoba         10.54\n",
       "Santa Fe         6.68\n",
       "Corrientes       3.12\n",
       "Name: carga_provincia_nombre, dtype: float64"
      ]
     },
     "execution_count": 259,
     "metadata": {},
     "output_type": "execute_result"
    }
   ],
   "source": [
    "print (\"Porcentaje de casos confirmados por provincia sobre últimos 15 días hasta el:\", today)\n",
    "round(activos.carga_provincia_nombre.value_counts()/activos.carga_provincia_nombre.count()*100,2)[:5]"
   ]
  },
  {
   "cell_type": "code",
   "execution_count": 261,
   "metadata": {},
   "outputs": [
    {
     "name": "stdout",
     "output_type": "stream",
     "text": [
      "Porcentaje de casos analizados en total por provincia:\n"
     ]
    },
    {
     "data": {
      "text/plain": [
       "CABA            29.63\n",
       "Buenos Aires    26.83\n",
       "Córdoba         11.24\n",
       "Santa Fe         6.41\n",
       "Tucumán          3.29\n",
       "Mendoza          2.69\n",
       "Name: carga_provincia_nombre, dtype: float64"
      ]
     },
     "execution_count": 261,
     "metadata": {},
     "output_type": "execute_result"
    }
   ],
   "source": [
    "print (\"Porcentaje de casos analizados en total por provincia hasta el:\", today)\n",
    "round(data.carga_provincia_nombre.value_counts()/data.carga_provincia_nombre.count()*100,2)[:5]"
   ]
  },
  {
   "cell_type": "code",
   "execution_count": 271,
   "metadata": {},
   "outputs": [
    {
     "name": "stdout",
     "output_type": "stream",
     "text": [
      "Porcentaje de casos confirmados por provincia sobre total hasta el: 2021-03-09\n"
     ]
    },
    {
     "data": {
      "text/plain": [
       "Buenos Aires    35.07\n",
       "CABA            17.82\n",
       "Santa Fe        10.30\n",
       "Córdoba          7.55\n",
       "Tucumán          3.77\n",
       "Name: carga_provincia_nombre, dtype: float64"
      ]
     },
     "execution_count": 271,
     "metadata": {},
     "output_type": "execute_result"
    }
   ],
   "source": [
    "print (\"Porcentaje de casos confirmados por provincia sobre total hasta el:\", today)\n",
    "round(data[data.clasificacion_resumen==\"Confirmado\"].carga_provincia_nombre.value_counts()/data[data.clasificacion_resumen==\"Confirmado\"].carga_provincia_nombre.count()*100,2)[:5]"
   ]
  },
  {
   "cell_type": "code",
   "execution_count": null,
   "metadata": {},
   "outputs": [],
   "source": []
  }
 ],
 "metadata": {
  "kernelspec": {
   "display_name": "Python 3",
   "language": "python",
   "name": "python3"
  },
  "language_info": {
   "codemirror_mode": {
    "name": "ipython",
    "version": 3
   },
   "file_extension": ".py",
   "mimetype": "text/x-python",
   "name": "python",
   "nbconvert_exporter": "python",
   "pygments_lexer": "ipython3",
   "version": "3.7.9"
  }
 },
 "nbformat": 4,
 "nbformat_minor": 4
}
