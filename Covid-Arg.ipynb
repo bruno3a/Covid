{
 "cells": [
  {
   "cell_type": "code",
   "execution_count": 1,
   "metadata": {},
   "outputs": [
    {
     "name": "stdout",
     "output_type": "stream",
     "text": [
      "Datos actualizados al 30/4/21\n"
     ]
    }
   ],
   "source": [
    "file = \"../DataSets Grandes/Covid/Covid19Casos.csv\"\n",
    "print(\"Datos actualizados al 30/4/21\")\n",
    "## Fuente: https://datos.gob.ar/dataset/salud-covid-19-casos-registrados-republica-argentina/archivo/salud_fd657d02-a33a-498b-a91b-2ef1a68b8d16"
   ]
  },
  {
   "cell_type": "code",
   "execution_count": 296,
   "metadata": {},
   "outputs": [
    {
     "name": "stdout",
     "output_type": "stream",
     "text": [
      "Datos actualizados al 2021-05-01\n"
     ]
    }
   ],
   "source": [
    "file_vacunas = '../DataSets Grandes/Covid/datos_vacunados_covid19.csv'\n",
    "print(\"Datos actualizados al\",today)"
   ]
  },
  {
   "cell_type": "code",
   "execution_count": 2,
   "metadata": {},
   "outputs": [],
   "source": [
    "import pandas as pd\n",
    "import numpy as np\n",
    "import seaborn as sns\n",
    "import re\n",
    "import matplotlib.pyplot as plt\n",
    "from datetime import datetime, timedelta"
   ]
  },
  {
   "cell_type": "code",
   "execution_count": null,
   "metadata": {},
   "outputs": [],
   "source": [
    "data = pd.read_csv(file)"
   ]
  },
  {
   "cell_type": "code",
   "execution_count": 360,
   "metadata": {},
   "outputs": [],
   "source": [
    "data_vacunas = pd.read_csv(file_vacunas)"
   ]
  },
  {
   "cell_type": "code",
   "execution_count": 4,
   "metadata": {},
   "outputs": [
    {
     "data": {
      "text/html": [
       "<div>\n",
       "<style scoped>\n",
       "    .dataframe tbody tr th:only-of-type {\n",
       "        vertical-align: middle;\n",
       "    }\n",
       "\n",
       "    .dataframe tbody tr th {\n",
       "        vertical-align: top;\n",
       "    }\n",
       "\n",
       "    .dataframe thead th {\n",
       "        text-align: right;\n",
       "    }\n",
       "</style>\n",
       "<table border=\"1\" class=\"dataframe\">\n",
       "  <thead>\n",
       "    <tr style=\"text-align: right;\">\n",
       "      <th></th>\n",
       "      <th>id_evento_caso</th>\n",
       "      <th>sexo</th>\n",
       "      <th>edad</th>\n",
       "      <th>edad_años_meses</th>\n",
       "      <th>residencia_pais_nombre</th>\n",
       "      <th>residencia_provincia_nombre</th>\n",
       "      <th>residencia_departamento_nombre</th>\n",
       "      <th>carga_provincia_nombre</th>\n",
       "      <th>fecha_inicio_sintomas</th>\n",
       "      <th>fecha_apertura</th>\n",
       "      <th>...</th>\n",
       "      <th>fecha_fallecimiento</th>\n",
       "      <th>asistencia_respiratoria_mecanica</th>\n",
       "      <th>carga_provincia_id</th>\n",
       "      <th>origen_financiamiento</th>\n",
       "      <th>clasificacion</th>\n",
       "      <th>clasificacion_resumen</th>\n",
       "      <th>residencia_provincia_id</th>\n",
       "      <th>fecha_diagnostico</th>\n",
       "      <th>residencia_departamento_id</th>\n",
       "      <th>ultima_actualizacion</th>\n",
       "    </tr>\n",
       "  </thead>\n",
       "  <tbody>\n",
       "    <tr>\n",
       "      <th>0</th>\n",
       "      <td>1000000</td>\n",
       "      <td>M</td>\n",
       "      <td>54.0</td>\n",
       "      <td>Años</td>\n",
       "      <td>Argentina</td>\n",
       "      <td>CABA</td>\n",
       "      <td>SIN ESPECIFICAR</td>\n",
       "      <td>Buenos Aires</td>\n",
       "      <td>NaN</td>\n",
       "      <td>2020-06-01</td>\n",
       "      <td>...</td>\n",
       "      <td>NaN</td>\n",
       "      <td>NO</td>\n",
       "      <td>6</td>\n",
       "      <td>Privado</td>\n",
       "      <td>Caso Descartado</td>\n",
       "      <td>Descartado</td>\n",
       "      <td>2</td>\n",
       "      <td>2020-06-09</td>\n",
       "      <td>0</td>\n",
       "      <td>2021-04-30</td>\n",
       "    </tr>\n",
       "    <tr>\n",
       "      <th>1</th>\n",
       "      <td>10000000</td>\n",
       "      <td>F</td>\n",
       "      <td>52.0</td>\n",
       "      <td>Años</td>\n",
       "      <td>Argentina</td>\n",
       "      <td>CABA</td>\n",
       "      <td>SIN ESPECIFICAR</td>\n",
       "      <td>CABA</td>\n",
       "      <td>NaN</td>\n",
       "      <td>2021-04-08</td>\n",
       "      <td>...</td>\n",
       "      <td>NaN</td>\n",
       "      <td>NO</td>\n",
       "      <td>2</td>\n",
       "      <td>Público</td>\n",
       "      <td>Caso Descartado</td>\n",
       "      <td>Descartado</td>\n",
       "      <td>2</td>\n",
       "      <td>2021-04-08</td>\n",
       "      <td>0</td>\n",
       "      <td>2021-04-30</td>\n",
       "    </tr>\n",
       "    <tr>\n",
       "      <th>2</th>\n",
       "      <td>10000001</td>\n",
       "      <td>F</td>\n",
       "      <td>22.0</td>\n",
       "      <td>Años</td>\n",
       "      <td>Argentina</td>\n",
       "      <td>Buenos Aires</td>\n",
       "      <td>Lomas de Zamora</td>\n",
       "      <td>Buenos Aires</td>\n",
       "      <td>2021-04-05</td>\n",
       "      <td>2021-04-08</td>\n",
       "      <td>...</td>\n",
       "      <td>NaN</td>\n",
       "      <td>NO</td>\n",
       "      <td>6</td>\n",
       "      <td>Público</td>\n",
       "      <td>Caso Descartado</td>\n",
       "      <td>Descartado</td>\n",
       "      <td>6</td>\n",
       "      <td>2021-04-08</td>\n",
       "      <td>490</td>\n",
       "      <td>2021-04-30</td>\n",
       "    </tr>\n",
       "    <tr>\n",
       "      <th>3</th>\n",
       "      <td>10000002</td>\n",
       "      <td>F</td>\n",
       "      <td>43.0</td>\n",
       "      <td>Años</td>\n",
       "      <td>Argentina</td>\n",
       "      <td>Buenos Aires</td>\n",
       "      <td>La Matanza</td>\n",
       "      <td>CABA</td>\n",
       "      <td>NaN</td>\n",
       "      <td>2021-04-08</td>\n",
       "      <td>...</td>\n",
       "      <td>NaN</td>\n",
       "      <td>NO</td>\n",
       "      <td>2</td>\n",
       "      <td>Público</td>\n",
       "      <td>Caso Descartado</td>\n",
       "      <td>Descartado</td>\n",
       "      <td>6</td>\n",
       "      <td>2021-04-06</td>\n",
       "      <td>427</td>\n",
       "      <td>2021-04-30</td>\n",
       "    </tr>\n",
       "  </tbody>\n",
       "</table>\n",
       "<p>4 rows × 25 columns</p>\n",
       "</div>"
      ],
      "text/plain": [
       "   id_evento_caso sexo  edad edad_años_meses residencia_pais_nombre  \\\n",
       "0         1000000    M  54.0            Años              Argentina   \n",
       "1        10000000    F  52.0            Años              Argentina   \n",
       "2        10000001    F  22.0            Años              Argentina   \n",
       "3        10000002    F  43.0            Años              Argentina   \n",
       "\n",
       "  residencia_provincia_nombre residencia_departamento_nombre  \\\n",
       "0                        CABA                SIN ESPECIFICAR   \n",
       "1                        CABA                SIN ESPECIFICAR   \n",
       "2                Buenos Aires                Lomas de Zamora   \n",
       "3                Buenos Aires                     La Matanza   \n",
       "\n",
       "  carga_provincia_nombre fecha_inicio_sintomas fecha_apertura  ...  \\\n",
       "0           Buenos Aires                   NaN     2020-06-01  ...   \n",
       "1                   CABA                   NaN     2021-04-08  ...   \n",
       "2           Buenos Aires            2021-04-05     2021-04-08  ...   \n",
       "3                   CABA                   NaN     2021-04-08  ...   \n",
       "\n",
       "   fecha_fallecimiento asistencia_respiratoria_mecanica carga_provincia_id  \\\n",
       "0                  NaN                               NO                  6   \n",
       "1                  NaN                               NO                  2   \n",
       "2                  NaN                               NO                  6   \n",
       "3                  NaN                               NO                  2   \n",
       "\n",
       "  origen_financiamiento    clasificacion clasificacion_resumen  \\\n",
       "0               Privado  Caso Descartado            Descartado   \n",
       "1               Público  Caso Descartado            Descartado   \n",
       "2               Público  Caso Descartado            Descartado   \n",
       "3               Público  Caso Descartado            Descartado   \n",
       "\n",
       "  residencia_provincia_id  fecha_diagnostico residencia_departamento_id  \\\n",
       "0                       2         2020-06-09                          0   \n",
       "1                       2         2021-04-08                          0   \n",
       "2                       6         2021-04-08                        490   \n",
       "3                       6         2021-04-06                        427   \n",
       "\n",
       "  ultima_actualizacion  \n",
       "0           2021-04-30  \n",
       "1           2021-04-30  \n",
       "2           2021-04-30  \n",
       "3           2021-04-30  \n",
       "\n",
       "[4 rows x 25 columns]"
      ]
     },
     "execution_count": 4,
     "metadata": {},
     "output_type": "execute_result"
    }
   ],
   "source": [
    "data.head(4)"
   ]
  },
  {
   "cell_type": "code",
   "execution_count": 298,
   "metadata": {},
   "outputs": [
    {
     "data": {
      "text/html": [
       "<div>\n",
       "<style scoped>\n",
       "    .dataframe tbody tr th:only-of-type {\n",
       "        vertical-align: middle;\n",
       "    }\n",
       "\n",
       "    .dataframe tbody tr th {\n",
       "        vertical-align: top;\n",
       "    }\n",
       "\n",
       "    .dataframe thead th {\n",
       "        text-align: right;\n",
       "    }\n",
       "</style>\n",
       "<table border=\"1\" class=\"dataframe\">\n",
       "  <thead>\n",
       "    <tr style=\"text-align: right;\">\n",
       "      <th></th>\n",
       "      <th>sexo</th>\n",
       "      <th>grupo_etario</th>\n",
       "      <th>jurisdiccion_residencia</th>\n",
       "      <th>jurisdiccion_residencia_id</th>\n",
       "      <th>depto_residencia</th>\n",
       "      <th>depto_residencia_id</th>\n",
       "      <th>jurisdiccion_aplicacion</th>\n",
       "      <th>jurisdiccion_aplicacion_id</th>\n",
       "      <th>depto_aplicacion</th>\n",
       "      <th>depto_aplicacion_id</th>\n",
       "      <th>fecha_aplicacion</th>\n",
       "      <th>vacuna</th>\n",
       "      <th>condicion_aplicacion</th>\n",
       "      <th>orden_dosis</th>\n",
       "      <th>lote_vacuna</th>\n",
       "    </tr>\n",
       "  </thead>\n",
       "  <tbody>\n",
       "    <tr>\n",
       "      <th>0</th>\n",
       "      <td>M</td>\n",
       "      <td>60-69</td>\n",
       "      <td>Buenos Aires</td>\n",
       "      <td>6</td>\n",
       "      <td>Bahía Blanca</td>\n",
       "      <td>56</td>\n",
       "      <td>Buenos Aires</td>\n",
       "      <td>6</td>\n",
       "      <td>Bahía Blanca</td>\n",
       "      <td>56</td>\n",
       "      <td>2021-04-07</td>\n",
       "      <td>Sinopharm</td>\n",
       "      <td>&gt;60</td>\n",
       "      <td>1</td>\n",
       "      <td>2021010048</td>\n",
       "    </tr>\n",
       "    <tr>\n",
       "      <th>1</th>\n",
       "      <td>M</td>\n",
       "      <td>50-59</td>\n",
       "      <td>Buenos Aires</td>\n",
       "      <td>6</td>\n",
       "      <td>Coronel de Marina L. Rosales</td>\n",
       "      <td>182</td>\n",
       "      <td>Buenos Aires</td>\n",
       "      <td>6</td>\n",
       "      <td>Coronel de Marina L. Rosales</td>\n",
       "      <td>182</td>\n",
       "      <td>2021-03-24</td>\n",
       "      <td>Sinopharm</td>\n",
       "      <td>Riesgo</td>\n",
       "      <td>1</td>\n",
       "      <td>2021010048</td>\n",
       "    </tr>\n",
       "    <tr>\n",
       "      <th>2</th>\n",
       "      <td>M</td>\n",
       "      <td>60-69</td>\n",
       "      <td>Buenos Aires</td>\n",
       "      <td>6</td>\n",
       "      <td>Morón</td>\n",
       "      <td>568</td>\n",
       "      <td>Buenos Aires</td>\n",
       "      <td>6</td>\n",
       "      <td>Morón</td>\n",
       "      <td>568</td>\n",
       "      <td>2021-04-09</td>\n",
       "      <td>Sinopharm</td>\n",
       "      <td>&gt;60</td>\n",
       "      <td>1</td>\n",
       "      <td>2021030209</td>\n",
       "    </tr>\n",
       "    <tr>\n",
       "      <th>3</th>\n",
       "      <td>M</td>\n",
       "      <td>50-59</td>\n",
       "      <td>Buenos Aires</td>\n",
       "      <td>6</td>\n",
       "      <td>Hurlingham</td>\n",
       "      <td>408</td>\n",
       "      <td>Buenos Aires</td>\n",
       "      <td>6</td>\n",
       "      <td>Hurlingham</td>\n",
       "      <td>408</td>\n",
       "      <td>2021-03-05</td>\n",
       "      <td>Sinopharm</td>\n",
       "      <td>Estratégico</td>\n",
       "      <td>1</td>\n",
       "      <td>2021010036</td>\n",
       "    </tr>\n",
       "  </tbody>\n",
       "</table>\n",
       "</div>"
      ],
      "text/plain": [
       "  sexo grupo_etario jurisdiccion_residencia  jurisdiccion_residencia_id  \\\n",
       "0    M        60-69            Buenos Aires                           6   \n",
       "1    M        50-59            Buenos Aires                           6   \n",
       "2    M        60-69            Buenos Aires                           6   \n",
       "3    M        50-59            Buenos Aires                           6   \n",
       "\n",
       "               depto_residencia  depto_residencia_id jurisdiccion_aplicacion  \\\n",
       "0                  Bahía Blanca                   56            Buenos Aires   \n",
       "1  Coronel de Marina L. Rosales                  182            Buenos Aires   \n",
       "2                         Morón                  568            Buenos Aires   \n",
       "3                    Hurlingham                  408            Buenos Aires   \n",
       "\n",
       "   jurisdiccion_aplicacion_id              depto_aplicacion  \\\n",
       "0                           6                  Bahía Blanca   \n",
       "1                           6  Coronel de Marina L. Rosales   \n",
       "2                           6                         Morón   \n",
       "3                           6                    Hurlingham   \n",
       "\n",
       "   depto_aplicacion_id fecha_aplicacion     vacuna condicion_aplicacion  \\\n",
       "0                   56       2021-04-07  Sinopharm                  >60   \n",
       "1                  182       2021-03-24  Sinopharm               Riesgo   \n",
       "2                  568       2021-04-09  Sinopharm                  >60   \n",
       "3                  408       2021-03-05  Sinopharm          Estratégico   \n",
       "\n",
       "   orden_dosis lote_vacuna  \n",
       "0            1  2021010048  \n",
       "1            1  2021010048  \n",
       "2            1  2021030209  \n",
       "3            1  2021010036  "
      ]
     },
     "execution_count": 298,
     "metadata": {},
     "output_type": "execute_result"
    }
   ],
   "source": [
    "data_vacunas.head(4)"
   ]
  },
  {
   "cell_type": "code",
   "execution_count": null,
   "metadata": {},
   "outputs": [],
   "source": [
    "data_vacunas.drop(columns=['depto_residencia_id', 'depto_aplicacion_id','jurisdiccion_residencia_id','jurisdiccion_aplicacion_id','lote_vacuna'], inplace=True)\n",
    "data_vacunas.sample(3)"
   ]
  },
  {
   "cell_type": "code",
   "execution_count": 5,
   "metadata": {},
   "outputs": [
    {
     "name": "stdout",
     "output_type": "stream",
     "text": [
      "<class 'pandas.core.frame.DataFrame'>\n",
      "RangeIndex: 9914857 entries, 0 to 9914856\n",
      "Data columns (total 25 columns):\n",
      " #   Column                            Dtype  \n",
      "---  ------                            -----  \n",
      " 0   id_evento_caso                    int64  \n",
      " 1   sexo                              object \n",
      " 2   edad                              float64\n",
      " 3   edad_años_meses                   object \n",
      " 4   residencia_pais_nombre            object \n",
      " 5   residencia_provincia_nombre       object \n",
      " 6   residencia_departamento_nombre    object \n",
      " 7   carga_provincia_nombre            object \n",
      " 8   fecha_inicio_sintomas             object \n",
      " 9   fecha_apertura                    object \n",
      " 10  sepi_apertura                     int64  \n",
      " 11  fecha_internacion                 object \n",
      " 12  cuidado_intensivo                 object \n",
      " 13  fecha_cui_intensivo               object \n",
      " 14  fallecido                         object \n",
      " 15  fecha_fallecimiento               object \n",
      " 16  asistencia_respiratoria_mecanica  object \n",
      " 17  carga_provincia_id                int64  \n",
      " 18  origen_financiamiento             object \n",
      " 19  clasificacion                     object \n",
      " 20  clasificacion_resumen             object \n",
      " 21  residencia_provincia_id           int64  \n",
      " 22  fecha_diagnostico                 object \n",
      " 23  residencia_departamento_id        int64  \n",
      " 24  ultima_actualizacion              object \n",
      "dtypes: float64(1), int64(5), object(19)\n",
      "memory usage: 1.8+ GB\n"
     ]
    }
   ],
   "source": [
    "data.info()"
   ]
  },
  {
   "cell_type": "code",
   "execution_count": 6,
   "metadata": {},
   "outputs": [
    {
     "data": {
      "text/plain": [
       "id_evento_caso                            0\n",
       "sexo                                      0\n",
       "edad                                   4641\n",
       "edad_años_meses                           0\n",
       "residencia_pais_nombre                    0\n",
       "residencia_provincia_nombre               0\n",
       "residencia_departamento_nombre            0\n",
       "carga_provincia_nombre                    0\n",
       "fecha_inicio_sintomas               6159514\n",
       "fecha_apertura                            2\n",
       "sepi_apertura                             0\n",
       "fecha_internacion                   9613635\n",
       "cuidado_intensivo                         0\n",
       "fecha_cui_intensivo                 9864752\n",
       "fallecido                                 0\n",
       "fecha_fallecimiento                 9837930\n",
       "asistencia_respiratoria_mecanica          0\n",
       "carga_provincia_id                        0\n",
       "origen_financiamiento                     0\n",
       "clasificacion                             0\n",
       "clasificacion_resumen                     0\n",
       "residencia_provincia_id                   0\n",
       "fecha_diagnostico                    686193\n",
       "residencia_departamento_id                0\n",
       "ultima_actualizacion                      0\n",
       "dtype: int64"
      ]
     },
     "execution_count": 6,
     "metadata": {},
     "output_type": "execute_result"
    }
   ],
   "source": [
    "data.isnull().sum()"
   ]
  },
  {
   "cell_type": "code",
   "execution_count": 7,
   "metadata": {},
   "outputs": [
    {
     "data": {
      "text/plain": [
       "(9914857, 25)"
      ]
     },
     "execution_count": 7,
     "metadata": {},
     "output_type": "execute_result"
    }
   ],
   "source": [
    "data.shape"
   ]
  },
  {
   "cell_type": "code",
   "execution_count": 8,
   "metadata": {},
   "outputs": [
    {
     "data": {
      "text/plain": [
       "Index(['id_evento_caso', 'sexo', 'edad', 'edad_años_meses',\n",
       "       'residencia_pais_nombre', 'residencia_provincia_nombre',\n",
       "       'residencia_departamento_nombre', 'carga_provincia_nombre',\n",
       "       'fecha_inicio_sintomas', 'fecha_apertura', 'sepi_apertura',\n",
       "       'fecha_internacion', 'cuidado_intensivo', 'fecha_cui_intensivo',\n",
       "       'fallecido', 'fecha_fallecimiento', 'asistencia_respiratoria_mecanica',\n",
       "       'carga_provincia_id', 'origen_financiamiento', 'clasificacion',\n",
       "       'clasificacion_resumen', 'residencia_provincia_id', 'fecha_diagnostico',\n",
       "       'residencia_departamento_id', 'ultima_actualizacion'],\n",
       "      dtype='object')"
      ]
     },
     "execution_count": 8,
     "metadata": {},
     "output_type": "execute_result"
    }
   ],
   "source": [
    "data.columns"
   ]
  },
  {
   "cell_type": "code",
   "execution_count": 18,
   "metadata": {},
   "outputs": [],
   "source": [
    "data = data.drop(columns = [\"carga_provincia_id\",\"residencia_provincia_id\",\"residencia_departamento_id\",\"id_evento_caso\",\"asistencia_respiratoria_mecanica\",\"fecha_inicio_sintomas\",\"fecha_internacion\"])"
   ]
  },
  {
   "cell_type": "code",
   "execution_count": 10,
   "metadata": {},
   "outputs": [
    {
     "data": {
      "text/plain": [
       "(9914857, 18)"
      ]
     },
     "execution_count": 10,
     "metadata": {},
     "output_type": "execute_result"
    }
   ],
   "source": [
    "data.shape"
   ]
  },
  {
   "cell_type": "code",
   "execution_count": 11,
   "metadata": {},
   "outputs": [
    {
     "data": {
      "text/html": [
       "<div>\n",
       "<style scoped>\n",
       "    .dataframe tbody tr th:only-of-type {\n",
       "        vertical-align: middle;\n",
       "    }\n",
       "\n",
       "    .dataframe tbody tr th {\n",
       "        vertical-align: top;\n",
       "    }\n",
       "\n",
       "    .dataframe thead th {\n",
       "        text-align: right;\n",
       "    }\n",
       "</style>\n",
       "<table border=\"1\" class=\"dataframe\">\n",
       "  <thead>\n",
       "    <tr style=\"text-align: right;\">\n",
       "      <th></th>\n",
       "      <th>sexo</th>\n",
       "      <th>edad</th>\n",
       "      <th>edad_años_meses</th>\n",
       "      <th>residencia_pais_nombre</th>\n",
       "      <th>residencia_provincia_nombre</th>\n",
       "      <th>residencia_departamento_nombre</th>\n",
       "      <th>carga_provincia_nombre</th>\n",
       "      <th>fecha_apertura</th>\n",
       "      <th>sepi_apertura</th>\n",
       "      <th>cuidado_intensivo</th>\n",
       "      <th>fecha_cui_intensivo</th>\n",
       "      <th>fallecido</th>\n",
       "      <th>fecha_fallecimiento</th>\n",
       "      <th>origen_financiamiento</th>\n",
       "      <th>clasificacion</th>\n",
       "      <th>clasificacion_resumen</th>\n",
       "      <th>fecha_diagnostico</th>\n",
       "      <th>ultima_actualizacion</th>\n",
       "    </tr>\n",
       "  </thead>\n",
       "  <tbody>\n",
       "    <tr>\n",
       "      <th>0</th>\n",
       "      <td>M</td>\n",
       "      <td>54.0</td>\n",
       "      <td>Años</td>\n",
       "      <td>Argentina</td>\n",
       "      <td>CABA</td>\n",
       "      <td>SIN ESPECIFICAR</td>\n",
       "      <td>Buenos Aires</td>\n",
       "      <td>2020-06-01</td>\n",
       "      <td>23</td>\n",
       "      <td>NO</td>\n",
       "      <td>NaN</td>\n",
       "      <td>NO</td>\n",
       "      <td>NaN</td>\n",
       "      <td>Privado</td>\n",
       "      <td>Caso Descartado</td>\n",
       "      <td>Descartado</td>\n",
       "      <td>2020-06-09</td>\n",
       "      <td>2021-04-30</td>\n",
       "    </tr>\n",
       "    <tr>\n",
       "      <th>1</th>\n",
       "      <td>F</td>\n",
       "      <td>52.0</td>\n",
       "      <td>Años</td>\n",
       "      <td>Argentina</td>\n",
       "      <td>CABA</td>\n",
       "      <td>SIN ESPECIFICAR</td>\n",
       "      <td>CABA</td>\n",
       "      <td>2021-04-08</td>\n",
       "      <td>14</td>\n",
       "      <td>NO</td>\n",
       "      <td>NaN</td>\n",
       "      <td>NO</td>\n",
       "      <td>NaN</td>\n",
       "      <td>Público</td>\n",
       "      <td>Caso Descartado</td>\n",
       "      <td>Descartado</td>\n",
       "      <td>2021-04-08</td>\n",
       "      <td>2021-04-30</td>\n",
       "    </tr>\n",
       "    <tr>\n",
       "      <th>2</th>\n",
       "      <td>F</td>\n",
       "      <td>22.0</td>\n",
       "      <td>Años</td>\n",
       "      <td>Argentina</td>\n",
       "      <td>Buenos Aires</td>\n",
       "      <td>Lomas de Zamora</td>\n",
       "      <td>Buenos Aires</td>\n",
       "      <td>2021-04-08</td>\n",
       "      <td>14</td>\n",
       "      <td>NO</td>\n",
       "      <td>NaN</td>\n",
       "      <td>NO</td>\n",
       "      <td>NaN</td>\n",
       "      <td>Público</td>\n",
       "      <td>Caso Descartado</td>\n",
       "      <td>Descartado</td>\n",
       "      <td>2021-04-08</td>\n",
       "      <td>2021-04-30</td>\n",
       "    </tr>\n",
       "    <tr>\n",
       "      <th>3</th>\n",
       "      <td>F</td>\n",
       "      <td>43.0</td>\n",
       "      <td>Años</td>\n",
       "      <td>Argentina</td>\n",
       "      <td>Buenos Aires</td>\n",
       "      <td>La Matanza</td>\n",
       "      <td>CABA</td>\n",
       "      <td>2021-04-08</td>\n",
       "      <td>14</td>\n",
       "      <td>NO</td>\n",
       "      <td>NaN</td>\n",
       "      <td>NO</td>\n",
       "      <td>NaN</td>\n",
       "      <td>Público</td>\n",
       "      <td>Caso Descartado</td>\n",
       "      <td>Descartado</td>\n",
       "      <td>2021-04-06</td>\n",
       "      <td>2021-04-30</td>\n",
       "    </tr>\n",
       "    <tr>\n",
       "      <th>4</th>\n",
       "      <td>F</td>\n",
       "      <td>33.0</td>\n",
       "      <td>Años</td>\n",
       "      <td>Argentina</td>\n",
       "      <td>CABA</td>\n",
       "      <td>COMUNA 01</td>\n",
       "      <td>CABA</td>\n",
       "      <td>2021-04-08</td>\n",
       "      <td>14</td>\n",
       "      <td>NO</td>\n",
       "      <td>NaN</td>\n",
       "      <td>NO</td>\n",
       "      <td>NaN</td>\n",
       "      <td>Público</td>\n",
       "      <td>Caso Descartado</td>\n",
       "      <td>Descartado</td>\n",
       "      <td>2021-04-08</td>\n",
       "      <td>2021-04-30</td>\n",
       "    </tr>\n",
       "  </tbody>\n",
       "</table>\n",
       "</div>"
      ],
      "text/plain": [
       "  sexo  edad edad_años_meses residencia_pais_nombre  \\\n",
       "0    M  54.0            Años              Argentina   \n",
       "1    F  52.0            Años              Argentina   \n",
       "2    F  22.0            Años              Argentina   \n",
       "3    F  43.0            Años              Argentina   \n",
       "4    F  33.0            Años              Argentina   \n",
       "\n",
       "  residencia_provincia_nombre residencia_departamento_nombre  \\\n",
       "0                        CABA                SIN ESPECIFICAR   \n",
       "1                        CABA                SIN ESPECIFICAR   \n",
       "2                Buenos Aires                Lomas de Zamora   \n",
       "3                Buenos Aires                     La Matanza   \n",
       "4                        CABA                      COMUNA 01   \n",
       "\n",
       "  carga_provincia_nombre fecha_apertura  sepi_apertura cuidado_intensivo  \\\n",
       "0           Buenos Aires     2020-06-01             23                NO   \n",
       "1                   CABA     2021-04-08             14                NO   \n",
       "2           Buenos Aires     2021-04-08             14                NO   \n",
       "3                   CABA     2021-04-08             14                NO   \n",
       "4                   CABA     2021-04-08             14                NO   \n",
       "\n",
       "  fecha_cui_intensivo fallecido fecha_fallecimiento origen_financiamiento  \\\n",
       "0                 NaN        NO                 NaN               Privado   \n",
       "1                 NaN        NO                 NaN               Público   \n",
       "2                 NaN        NO                 NaN               Público   \n",
       "3                 NaN        NO                 NaN               Público   \n",
       "4                 NaN        NO                 NaN               Público   \n",
       "\n",
       "     clasificacion clasificacion_resumen fecha_diagnostico  \\\n",
       "0  Caso Descartado            Descartado        2020-06-09   \n",
       "1  Caso Descartado            Descartado        2021-04-08   \n",
       "2  Caso Descartado            Descartado        2021-04-08   \n",
       "3  Caso Descartado            Descartado        2021-04-06   \n",
       "4  Caso Descartado            Descartado        2021-04-08   \n",
       "\n",
       "  ultima_actualizacion  \n",
       "0           2021-04-30  \n",
       "1           2021-04-30  \n",
       "2           2021-04-30  \n",
       "3           2021-04-30  \n",
       "4           2021-04-30  "
      ]
     },
     "execution_count": 11,
     "metadata": {},
     "output_type": "execute_result"
    }
   ],
   "source": [
    "data.head(5)"
   ]
  },
  {
   "cell_type": "code",
   "execution_count": 19,
   "metadata": {},
   "outputs": [
    {
     "data": {
      "text/html": [
       "<div>\n",
       "<style scoped>\n",
       "    .dataframe tbody tr th:only-of-type {\n",
       "        vertical-align: middle;\n",
       "    }\n",
       "\n",
       "    .dataframe tbody tr th {\n",
       "        vertical-align: top;\n",
       "    }\n",
       "\n",
       "    .dataframe thead th {\n",
       "        text-align: right;\n",
       "    }\n",
       "</style>\n",
       "<table border=\"1\" class=\"dataframe\">\n",
       "  <thead>\n",
       "    <tr style=\"text-align: right;\">\n",
       "      <th></th>\n",
       "      <th>edad</th>\n",
       "    </tr>\n",
       "    <tr>\n",
       "      <th>fallecido</th>\n",
       "      <th></th>\n",
       "    </tr>\n",
       "  </thead>\n",
       "  <tbody>\n",
       "    <tr>\n",
       "      <th>NO</th>\n",
       "      <td>190988.0</td>\n",
       "    </tr>\n",
       "    <tr>\n",
       "      <th>SI</th>\n",
       "      <td>505.0</td>\n",
       "    </tr>\n",
       "  </tbody>\n",
       "</table>\n",
       "</div>"
      ],
      "text/plain": [
       "               edad\n",
       "fallecido          \n",
       "NO         190988.0\n",
       "SI            505.0"
      ]
     },
     "execution_count": 19,
     "metadata": {},
     "output_type": "execute_result"
    }
   ],
   "source": [
    "data[['edad', 'edad_años_meses','clasificacion_resumen','fallecido']][data.edad_años_meses != 'Años'].groupby('fallecido').sum()"
   ]
  },
  {
   "cell_type": "code",
   "execution_count": 13,
   "metadata": {},
   "outputs": [],
   "source": [
    "## Quitamos los menores de 1 año del DS porque tienen una mortalidad muy baja y las causas podrían haber sido de otra índole ajena al COVID"
   ]
  },
  {
   "cell_type": "code",
   "execution_count": 20,
   "metadata": {},
   "outputs": [
    {
     "data": {
      "text/html": [
       "<div>\n",
       "<style scoped>\n",
       "    .dataframe tbody tr th:only-of-type {\n",
       "        vertical-align: middle;\n",
       "    }\n",
       "\n",
       "    .dataframe tbody tr th {\n",
       "        vertical-align: top;\n",
       "    }\n",
       "\n",
       "    .dataframe thead th {\n",
       "        text-align: right;\n",
       "    }\n",
       "</style>\n",
       "<table border=\"1\" class=\"dataframe\">\n",
       "  <thead>\n",
       "    <tr style=\"text-align: right;\">\n",
       "      <th></th>\n",
       "      <th>sexo</th>\n",
       "      <th>edad</th>\n",
       "      <th>residencia_pais_nombre</th>\n",
       "      <th>residencia_provincia_nombre</th>\n",
       "      <th>residencia_departamento_nombre</th>\n",
       "      <th>carga_provincia_nombre</th>\n",
       "      <th>fecha_apertura</th>\n",
       "      <th>sepi_apertura</th>\n",
       "      <th>cuidado_intensivo</th>\n",
       "      <th>fecha_cui_intensivo</th>\n",
       "      <th>fallecido</th>\n",
       "      <th>fecha_fallecimiento</th>\n",
       "      <th>origen_financiamiento</th>\n",
       "      <th>clasificacion</th>\n",
       "      <th>clasificacion_resumen</th>\n",
       "      <th>fecha_diagnostico</th>\n",
       "      <th>ultima_actualizacion</th>\n",
       "    </tr>\n",
       "  </thead>\n",
       "  <tbody>\n",
       "    <tr>\n",
       "      <th>0</th>\n",
       "      <td>M</td>\n",
       "      <td>54.0</td>\n",
       "      <td>Argentina</td>\n",
       "      <td>CABA</td>\n",
       "      <td>SIN ESPECIFICAR</td>\n",
       "      <td>Buenos Aires</td>\n",
       "      <td>2020-06-01</td>\n",
       "      <td>23</td>\n",
       "      <td>NO</td>\n",
       "      <td>NaN</td>\n",
       "      <td>NO</td>\n",
       "      <td>NaN</td>\n",
       "      <td>Privado</td>\n",
       "      <td>Caso Descartado</td>\n",
       "      <td>Descartado</td>\n",
       "      <td>2020-06-09</td>\n",
       "      <td>2021-04-30</td>\n",
       "    </tr>\n",
       "    <tr>\n",
       "      <th>1</th>\n",
       "      <td>F</td>\n",
       "      <td>52.0</td>\n",
       "      <td>Argentina</td>\n",
       "      <td>CABA</td>\n",
       "      <td>SIN ESPECIFICAR</td>\n",
       "      <td>CABA</td>\n",
       "      <td>2021-04-08</td>\n",
       "      <td>14</td>\n",
       "      <td>NO</td>\n",
       "      <td>NaN</td>\n",
       "      <td>NO</td>\n",
       "      <td>NaN</td>\n",
       "      <td>Público</td>\n",
       "      <td>Caso Descartado</td>\n",
       "      <td>Descartado</td>\n",
       "      <td>2021-04-08</td>\n",
       "      <td>2021-04-30</td>\n",
       "    </tr>\n",
       "    <tr>\n",
       "      <th>2</th>\n",
       "      <td>F</td>\n",
       "      <td>22.0</td>\n",
       "      <td>Argentina</td>\n",
       "      <td>Buenos Aires</td>\n",
       "      <td>Lomas de Zamora</td>\n",
       "      <td>Buenos Aires</td>\n",
       "      <td>2021-04-08</td>\n",
       "      <td>14</td>\n",
       "      <td>NO</td>\n",
       "      <td>NaN</td>\n",
       "      <td>NO</td>\n",
       "      <td>NaN</td>\n",
       "      <td>Público</td>\n",
       "      <td>Caso Descartado</td>\n",
       "      <td>Descartado</td>\n",
       "      <td>2021-04-08</td>\n",
       "      <td>2021-04-30</td>\n",
       "    </tr>\n",
       "    <tr>\n",
       "      <th>3</th>\n",
       "      <td>F</td>\n",
       "      <td>43.0</td>\n",
       "      <td>Argentina</td>\n",
       "      <td>Buenos Aires</td>\n",
       "      <td>La Matanza</td>\n",
       "      <td>CABA</td>\n",
       "      <td>2021-04-08</td>\n",
       "      <td>14</td>\n",
       "      <td>NO</td>\n",
       "      <td>NaN</td>\n",
       "      <td>NO</td>\n",
       "      <td>NaN</td>\n",
       "      <td>Público</td>\n",
       "      <td>Caso Descartado</td>\n",
       "      <td>Descartado</td>\n",
       "      <td>2021-04-06</td>\n",
       "      <td>2021-04-30</td>\n",
       "    </tr>\n",
       "    <tr>\n",
       "      <th>4</th>\n",
       "      <td>F</td>\n",
       "      <td>33.0</td>\n",
       "      <td>Argentina</td>\n",
       "      <td>CABA</td>\n",
       "      <td>COMUNA 01</td>\n",
       "      <td>CABA</td>\n",
       "      <td>2021-04-08</td>\n",
       "      <td>14</td>\n",
       "      <td>NO</td>\n",
       "      <td>NaN</td>\n",
       "      <td>NO</td>\n",
       "      <td>NaN</td>\n",
       "      <td>Público</td>\n",
       "      <td>Caso Descartado</td>\n",
       "      <td>Descartado</td>\n",
       "      <td>2021-04-08</td>\n",
       "      <td>2021-04-30</td>\n",
       "    </tr>\n",
       "  </tbody>\n",
       "</table>\n",
       "</div>"
      ],
      "text/plain": [
       "  sexo  edad residencia_pais_nombre residencia_provincia_nombre  \\\n",
       "0    M  54.0              Argentina                        CABA   \n",
       "1    F  52.0              Argentina                        CABA   \n",
       "2    F  22.0              Argentina                Buenos Aires   \n",
       "3    F  43.0              Argentina                Buenos Aires   \n",
       "4    F  33.0              Argentina                        CABA   \n",
       "\n",
       "  residencia_departamento_nombre carga_provincia_nombre fecha_apertura  \\\n",
       "0                SIN ESPECIFICAR           Buenos Aires     2020-06-01   \n",
       "1                SIN ESPECIFICAR                   CABA     2021-04-08   \n",
       "2                Lomas de Zamora           Buenos Aires     2021-04-08   \n",
       "3                     La Matanza                   CABA     2021-04-08   \n",
       "4                      COMUNA 01                   CABA     2021-04-08   \n",
       "\n",
       "   sepi_apertura cuidado_intensivo fecha_cui_intensivo fallecido  \\\n",
       "0             23                NO                 NaN        NO   \n",
       "1             14                NO                 NaN        NO   \n",
       "2             14                NO                 NaN        NO   \n",
       "3             14                NO                 NaN        NO   \n",
       "4             14                NO                 NaN        NO   \n",
       "\n",
       "  fecha_fallecimiento origen_financiamiento    clasificacion  \\\n",
       "0                 NaN               Privado  Caso Descartado   \n",
       "1                 NaN               Público  Caso Descartado   \n",
       "2                 NaN               Público  Caso Descartado   \n",
       "3                 NaN               Público  Caso Descartado   \n",
       "4                 NaN               Público  Caso Descartado   \n",
       "\n",
       "  clasificacion_resumen fecha_diagnostico ultima_actualizacion  \n",
       "0            Descartado        2020-06-09           2021-04-30  \n",
       "1            Descartado        2021-04-08           2021-04-30  \n",
       "2            Descartado        2021-04-08           2021-04-30  \n",
       "3            Descartado        2021-04-06           2021-04-30  \n",
       "4            Descartado        2021-04-08           2021-04-30  "
      ]
     },
     "execution_count": 20,
     "metadata": {},
     "output_type": "execute_result"
    }
   ],
   "source": [
    "data = data[data.edad_años_meses == 'Años']\n",
    "data = data.drop(columns = \"edad_años_meses\")\n",
    "data.head(5)"
   ]
  },
  {
   "cell_type": "code",
   "execution_count": 21,
   "metadata": {},
   "outputs": [
    {
     "data": {
      "text/plain": [
       "Caso Descartado                                                                              6055928\n",
       "Caso confirmado por laboratorio - No activo (por tiempo de evolución)                        2298106\n",
       "Caso con resultado negativo-no conclusivo - No activo                                         385579\n",
       "Caso confirmado por criterio clínico-epidemiológico - No activo (por tiempo de evolución)     256674\n",
       "Caso sospechoso - No Activo - Con muestra sin resultado concluyente                           172124\n",
       "Caso sospechoso - No Activo - Sin muestra                                                     159212\n",
       "Caso confirmado por laboratorio - Activo                                                      135678\n",
       "Caso confirmado por laboratorio - Activo Internado                                            125942\n",
       "Caso confirmado por laboratorio - No Activo por criterio de laboratorio                        76703\n",
       "Caso confirmado por laboratorio - Fallecido                                                    62704\n",
       "Caso con resultado negativo-no conclusivo - Activo                                             40383\n",
       "Caso sospechoso - Activo - Con muestra sin resultado concluyente                               26014\n",
       "Caso sospechoso  - Activo -  Sin muestra                                                       16331\n",
       "Caso sospechoso - Activo Internado - Sin muestra                                               14592\n",
       "Caso Invalidado Epidemiologicamente                                                            13986\n",
       "Caso sospechoso - Activo Internado - Con muestra sin resultado concluyente                     12095\n",
       "Caso confirmado por criterio clinico-epidemiol¿gico - Activo                                   11498\n",
       "Caso con resultado negativo-no conclusivo - Activo internado                                    7584\n",
       "Caso confirmado por criterio clínico - epidemiológico -  Activo internado                       5062\n",
       "Otro diagnostico                                                                                4845\n",
       "Caso sospechoso  - No Activo -  Muestra no apta                                                 3899\n",
       "Caso sospechoso - Fallecido - Sin muestra                                                       1351\n",
       "Caso confirmado por criterio clínico-epidemiologico - Fallecido                                 1142\n",
       "Caso sospechoso - Fallecido - Con muestra sin resultado concluyente                              845\n",
       "Caso sospechoso - Activo Internado - Muestra no apta                                             433\n",
       "Sin clasificar                                                                                   241\n",
       "Caso con resultado negativo-no conclusivo - Fallecido                                            221\n",
       "Caso sospechoso - Activo -  Muestra no apta                                                       82\n",
       "Caso sospechoso - Fallecido - Muestra no apta                                                     39\n",
       "Name: clasificacion, dtype: int64"
      ]
     },
     "execution_count": 21,
     "metadata": {},
     "output_type": "execute_result"
    }
   ],
   "source": [
    "data.clasificacion.value_counts()"
   ]
  },
  {
   "cell_type": "code",
   "execution_count": 172,
   "metadata": {},
   "outputs": [],
   "source": [
    "#data.fecha_diagnostico.dropna(inplace=True)"
   ]
  },
  {
   "cell_type": "code",
   "execution_count": 22,
   "metadata": {},
   "outputs": [
    {
     "data": {
      "text/plain": [
       "Descartado    0.658038\n",
       "Confirmado    0.294845\n",
       "Sospechoso    0.047117\n",
       "Name: clasificacion_resumen, dtype: float64"
      ]
     },
     "execution_count": 22,
     "metadata": {},
     "output_type": "execute_result"
    }
   ],
   "source": [
    "data.clasificacion_resumen[data.fecha_diagnostico.isna()==False].value_counts(normalize=True)"
   ]
  },
  {
   "cell_type": "code",
   "execution_count": 23,
   "metadata": {},
   "outputs": [
    {
     "data": {
      "text/plain": [
       "Descartado        0.614276\n",
       "Confirmado        0.300680\n",
       "Sospechoso        0.085020\n",
       "Sin Clasificar    0.000024\n",
       "Name: clasificacion_resumen, dtype: float64"
      ]
     },
     "execution_count": 23,
     "metadata": {},
     "output_type": "execute_result"
    }
   ],
   "source": [
    "data.clasificacion_resumen.value_counts(normalize=True)"
   ]
  },
  {
   "cell_type": "code",
   "execution_count": 24,
   "metadata": {},
   "outputs": [],
   "source": [
    "#Regex\n",
    "caso_conf = \"Caso confirmado\"\n",
    "caso_sosp = \"Caso sospechoso\"\n",
    "caso_desc = \"Caso Descartado\"\n",
    "reg_caso_conf = re.compile(caso_conf)\n",
    "reg_caso_sosp = re.compile(caso_sosp)\n",
    "reg_caso_desc = re.compile(caso_desc)"
   ]
  },
  {
   "cell_type": "code",
   "execution_count": 25,
   "metadata": {},
   "outputs": [
    {
     "data": {
      "text/plain": [
       "[]"
      ]
     },
     "execution_count": 25,
     "metadata": {},
     "output_type": "execute_result"
    }
   ],
   "source": [
    "re.findall(reg_caso_conf,data.clasificacion[0])"
   ]
  },
  {
   "cell_type": "code",
   "execution_count": 26,
   "metadata": {},
   "outputs": [
    {
     "data": {
      "text/plain": [
       "['Caso Descartado']"
      ]
     },
     "execution_count": 26,
     "metadata": {},
     "output_type": "execute_result"
    }
   ],
   "source": [
    "re.findall(caso_desc,data.clasificacion[0])"
   ]
  },
  {
   "cell_type": "code",
   "execution_count": 27,
   "metadata": {},
   "outputs": [
    {
     "name": "stdout",
     "output_type": "stream",
     "text": [
      "False\n",
      "True\n"
     ]
    }
   ],
   "source": [
    "print (caso_conf in data.clasificacion[0])\n",
    "print (caso_desc in data.clasificacion[0])"
   ]
  },
  {
   "cell_type": "code",
   "execution_count": 28,
   "metadata": {},
   "outputs": [
    {
     "data": {
      "text/plain": [
       "Descartado        6074759\n",
       "Confirmado        2973509\n",
       "Sospechoso         840784\n",
       "Sin Clasificar        241\n",
       "Name: clasificacion_resumen, dtype: int64"
      ]
     },
     "execution_count": 28,
     "metadata": {},
     "output_type": "execute_result"
    }
   ],
   "source": [
    "data.clasificacion_resumen.value_counts()"
   ]
  },
  {
   "cell_type": "code",
   "execution_count": 29,
   "metadata": {},
   "outputs": [
    {
     "name": "stdout",
     "output_type": "stream",
     "text": [
      "Mortalidad entre los casos positivos:\n"
     ]
    },
    {
     "data": {
      "text/plain": [
       "NO    0.978532\n",
       "SI    0.021468\n",
       "Name: fallecido, dtype: float64"
      ]
     },
     "execution_count": 29,
     "metadata": {},
     "output_type": "execute_result"
    }
   ],
   "source": [
    "print (\"Mortalidad entre los casos positivos:\")\n",
    "data.fallecido[data.clasificacion_resumen==\"Confirmado\"].value_counts(normalize=True)"
   ]
  },
  {
   "cell_type": "code",
   "execution_count": 30,
   "metadata": {},
   "outputs": [
    {
     "data": {
      "text/plain": [
       "121.0    431\n",
       "120.0     35\n",
       "221.0     27\n",
       "111.0     13\n",
       "119.0      4\n",
       "112.0      3\n",
       "113.0      2\n",
       "118.0      2\n",
       "114.0      2\n",
       "115.0      1\n",
       "117.0      1\n",
       "Name: edad, dtype: int64"
      ]
     },
     "execution_count": 30,
     "metadata": {},
     "output_type": "execute_result"
    }
   ],
   "source": [
    "data.edad[data.edad>110].value_counts()"
   ]
  },
  {
   "cell_type": "code",
   "execution_count": 31,
   "metadata": {},
   "outputs": [],
   "source": [
    "# Eliminamos personas con más de 110 años al considerarlos outliers ya que representan una cantidad muy baja respecto al total analizado\n",
    "data.drop(index=data.edad[data.edad>110].index, inplace=True)"
   ]
  },
  {
   "cell_type": "raw",
   "metadata": {},
   "source": [
    "kwargs = {'cumulative': True}\n",
    "sns.distplot(data.estado[data.estado==caso_conf], hist_kws=kwargs, kde_kws=kwargs)"
   ]
  },
  {
   "cell_type": "code",
   "execution_count": null,
   "metadata": {},
   "outputs": [],
   "source": [
    "#plt.hist(data.estado(data.estado==casosconf),cumulative=True, density=True, bins=30)"
   ]
  },
  {
   "cell_type": "code",
   "execution_count": 169,
   "metadata": {},
   "outputs": [],
   "source": [
    "tot = pd.Series(data.fecha_diagnostico[data.clasificacion_resumen==\"Confirmado\"].value_counts()).sort_index()\n",
    "tot = tot[tot.index > '2020-03-06']"
   ]
  },
  {
   "cell_type": "code",
   "execution_count": 170,
   "metadata": {},
   "outputs": [],
   "source": [
    "# Armar lista o serie con el total de registros por día de testeo\n",
    "tot_tests = pd.Series(data.sexo.groupby(data.fecha_diagnostico).count())\n",
    "tot_tests = tot_tests[tot_tests.index > '2020-03-06']"
   ]
  },
  {
   "cell_type": "code",
   "execution_count": 180,
   "metadata": {},
   "outputs": [],
   "source": [
    "totales = pd.DataFrame(tot)"
   ]
  },
  {
   "cell_type": "code",
   "execution_count": 183,
   "metadata": {},
   "outputs": [],
   "source": [
    "totales = totales.rename(columns= {'fecha_diagnostico':'Cantidad Confirmados'})"
   ]
  },
  {
   "cell_type": "code",
   "execution_count": 184,
   "metadata": {},
   "outputs": [],
   "source": [
    "totales['Cantidad Testeados'] = tot_tests"
   ]
  },
  {
   "cell_type": "code",
   "execution_count": null,
   "metadata": {},
   "outputs": [],
   "source": [
    "totales['fecha_diag'] = totales.index"
   ]
  },
  {
   "cell_type": "code",
   "execution_count": 186,
   "metadata": {},
   "outputs": [],
   "source": [
    "# Casos acumulados\n",
    "cumsum_tot = totales['Cantidad Confirmados'].cumsum()\n",
    "cumsum_tot = cumsum_tot[cumsum_tot.index > '2020-03-06']\n",
    "cumsum_tot.index = pd.to_datetime(cumsum_tot.index, format=\"%Y/%m/%d\")\n",
    "totales['Cantidad Acumulada Confirmados'] = cumsum_tot\n",
    "totales"
   ]
  },
  {
   "cell_type": "code",
   "execution_count": 683,
   "metadata": {},
   "outputs": [],
   "source": [
    "totales = totales.join(pd.Series(data_vacunas.fecha_aplicacion.rename('Vacunados').groupby(data_vacunas.fecha_aplicacion).count()), how = 'left')"
   ]
  },
  {
   "cell_type": "code",
   "execution_count": 685,
   "metadata": {},
   "outputs": [],
   "source": [
    "totales.Vacunados.replace(to_replace=np.NaN, value=0, inplace=True)"
   ]
  },
  {
   "cell_type": "code",
   "execution_count": 780,
   "metadata": {},
   "outputs": [],
   "source": [
    "cumsum_vac = totales['Vacunados'].cumsum()\n",
    "cumsum_vac = cumsum_vac[cumsum_vac.index > '2020-03-06']\n",
    "cumsum_vac.index = pd.to_datetime(cumsum_vac.index, format=\"%Y/%m/%d\")\n",
    "totales['Vacunados Acumulados'] = cumsum_vac"
   ]
  },
  {
   "cell_type": "code",
   "execution_count": null,
   "metadata": {},
   "outputs": [],
   "source": [
    "#y_vac = totales['Vacunados'][totales.fecha_diag[totales.fecha_diag.isin([x for x in pd.Series(dates)[pd.Series(dates)>'2020-07-01'].sort_values()])]]"
   ]
  },
  {
   "cell_type": "code",
   "execution_count": 189,
   "metadata": {},
   "outputs": [
    {
     "data": {
      "text/plain": [
       "[(2020-03-06 13:56:38.400000, 2020-05-15 20:00:00], (2020-03-06 13:56:38.400000, 2020-05-15 20:00:00], (2020-03-06 13:56:38.400000, 2020-05-15 20:00:00], (2020-03-06 13:56:38.400000, 2020-05-15 20:00:00], (2020-03-06 13:56:38.400000, 2020-05-15 20:00:00], ..., (2021-02-19 04:00:00, 2021-04-30], (2021-02-19 04:00:00, 2021-04-30], (2021-02-19 04:00:00, 2021-04-30], (2021-02-19 04:00:00, 2021-04-30], (2021-02-19 04:00:00, 2021-04-30]]\n",
       "Length: 420\n",
       "Categories (6, interval[datetime64[ns]]): [(2020-03-06 13:56:38.400000, 2020-05-15 20:00:00] < (2020-05-15 20:00:00, 2020-07-24 16:00:00] < (2020-07-24 16:00:00, 2020-10-02 12:00:00] < (2020-10-02 12:00:00, 2020-12-11 08:00:00] < (2020-12-11 08:00:00, 2021-02-19 04:00:00] < (2021-02-19 04:00:00, 2021-04-30]]"
      ]
     },
     "execution_count": 189,
     "metadata": {},
     "output_type": "execute_result"
    }
   ],
   "source": [
    "pd.cut(totales.index, bins = 6)"
   ]
  },
  {
   "cell_type": "code",
   "execution_count": 190,
   "metadata": {},
   "outputs": [
    {
     "data": {
      "text/plain": [
       "DatetimeIndex(['2020-03-07', '2020-03-08', '2020-03-09', '2020-03-10',\n",
       "               '2020-03-11', '2020-03-12', '2020-03-13', '2020-03-14',\n",
       "               '2020-03-15', '2020-03-16',\n",
       "               ...\n",
       "               '2021-04-21', '2021-04-22', '2021-04-23', '2021-04-24',\n",
       "               '2021-04-25', '2021-04-26', '2021-04-27', '2021-04-28',\n",
       "               '2021-04-29', '2021-04-30'],\n",
       "              dtype='datetime64[ns]', length=420, freq=None)"
      ]
     },
     "execution_count": 190,
     "metadata": {},
     "output_type": "execute_result"
    }
   ],
   "source": [
    "totales.index"
   ]
  },
  {
   "cell_type": "markdown",
   "metadata": {},
   "source": [
    "### Vacunas"
   ]
  },
  {
   "cell_type": "code",
   "execution_count": 303,
   "metadata": {},
   "outputs": [
    {
     "data": {
      "text/html": [
       "<div>\n",
       "<style scoped>\n",
       "    .dataframe tbody tr th:only-of-type {\n",
       "        vertical-align: middle;\n",
       "    }\n",
       "\n",
       "    .dataframe tbody tr th {\n",
       "        vertical-align: top;\n",
       "    }\n",
       "\n",
       "    .dataframe thead th {\n",
       "        text-align: right;\n",
       "    }\n",
       "</style>\n",
       "<table border=\"1\" class=\"dataframe\">\n",
       "  <thead>\n",
       "    <tr style=\"text-align: right;\">\n",
       "      <th></th>\n",
       "      <th>sexo</th>\n",
       "      <th>grupo_etario</th>\n",
       "      <th>jurisdiccion_residencia</th>\n",
       "      <th>depto_residencia</th>\n",
       "      <th>jurisdiccion_aplicacion</th>\n",
       "      <th>depto_aplicacion</th>\n",
       "      <th>fecha_aplicacion</th>\n",
       "      <th>vacuna</th>\n",
       "      <th>condicion_aplicacion</th>\n",
       "      <th>orden_dosis</th>\n",
       "    </tr>\n",
       "  </thead>\n",
       "  <tbody>\n",
       "    <tr>\n",
       "      <th>0</th>\n",
       "      <td>M</td>\n",
       "      <td>60-69</td>\n",
       "      <td>Buenos Aires</td>\n",
       "      <td>Bahía Blanca</td>\n",
       "      <td>Buenos Aires</td>\n",
       "      <td>Bahía Blanca</td>\n",
       "      <td>2021-04-07</td>\n",
       "      <td>Sinopharm</td>\n",
       "      <td>&gt;60</td>\n",
       "      <td>1</td>\n",
       "    </tr>\n",
       "    <tr>\n",
       "      <th>1</th>\n",
       "      <td>M</td>\n",
       "      <td>50-59</td>\n",
       "      <td>Buenos Aires</td>\n",
       "      <td>Coronel de Marina L. Rosales</td>\n",
       "      <td>Buenos Aires</td>\n",
       "      <td>Coronel de Marina L. Rosales</td>\n",
       "      <td>2021-03-24</td>\n",
       "      <td>Sinopharm</td>\n",
       "      <td>Riesgo</td>\n",
       "      <td>1</td>\n",
       "    </tr>\n",
       "    <tr>\n",
       "      <th>2</th>\n",
       "      <td>M</td>\n",
       "      <td>60-69</td>\n",
       "      <td>Buenos Aires</td>\n",
       "      <td>Morón</td>\n",
       "      <td>Buenos Aires</td>\n",
       "      <td>Morón</td>\n",
       "      <td>2021-04-09</td>\n",
       "      <td>Sinopharm</td>\n",
       "      <td>&gt;60</td>\n",
       "      <td>1</td>\n",
       "    </tr>\n",
       "    <tr>\n",
       "      <th>3</th>\n",
       "      <td>M</td>\n",
       "      <td>50-59</td>\n",
       "      <td>Buenos Aires</td>\n",
       "      <td>Hurlingham</td>\n",
       "      <td>Buenos Aires</td>\n",
       "      <td>Hurlingham</td>\n",
       "      <td>2021-03-05</td>\n",
       "      <td>Sinopharm</td>\n",
       "      <td>Estratégico</td>\n",
       "      <td>1</td>\n",
       "    </tr>\n",
       "    <tr>\n",
       "      <th>4</th>\n",
       "      <td>M</td>\n",
       "      <td>60-69</td>\n",
       "      <td>Buenos Aires</td>\n",
       "      <td>Pilar</td>\n",
       "      <td>Buenos Aires</td>\n",
       "      <td>Pilar</td>\n",
       "      <td>2021-04-12</td>\n",
       "      <td>Sinopharm</td>\n",
       "      <td>&gt;60</td>\n",
       "      <td>1</td>\n",
       "    </tr>\n",
       "  </tbody>\n",
       "</table>\n",
       "</div>"
      ],
      "text/plain": [
       "  sexo grupo_etario jurisdiccion_residencia              depto_residencia  \\\n",
       "0    M        60-69            Buenos Aires                  Bahía Blanca   \n",
       "1    M        50-59            Buenos Aires  Coronel de Marina L. Rosales   \n",
       "2    M        60-69            Buenos Aires                         Morón   \n",
       "3    M        50-59            Buenos Aires                    Hurlingham   \n",
       "4    M        60-69            Buenos Aires                         Pilar   \n",
       "\n",
       "  jurisdiccion_aplicacion              depto_aplicacion fecha_aplicacion  \\\n",
       "0            Buenos Aires                  Bahía Blanca       2021-04-07   \n",
       "1            Buenos Aires  Coronel de Marina L. Rosales       2021-03-24   \n",
       "2            Buenos Aires                         Morón       2021-04-09   \n",
       "3            Buenos Aires                    Hurlingham       2021-03-05   \n",
       "4            Buenos Aires                         Pilar       2021-04-12   \n",
       "\n",
       "      vacuna condicion_aplicacion  orden_dosis  \n",
       "0  Sinopharm                  >60            1  \n",
       "1  Sinopharm               Riesgo            1  \n",
       "2  Sinopharm                  >60            1  \n",
       "3  Sinopharm          Estratégico            1  \n",
       "4  Sinopharm                  >60            1  "
      ]
     },
     "execution_count": 303,
     "metadata": {},
     "output_type": "execute_result"
    }
   ],
   "source": [
    "data_vacunas.head()"
   ]
  },
  {
   "cell_type": "code",
   "execution_count": 365,
   "metadata": {},
   "outputs": [],
   "source": [
    "data_vacunas = data_vacunas[data_vacunas.fecha_aplicacion!='S.I.']"
   ]
  },
  {
   "cell_type": "code",
   "execution_count": 367,
   "metadata": {},
   "outputs": [],
   "source": [
    "fechas_vacunas = data_vacunas.fecha_aplicacion.drop_duplicates().sort_values()"
   ]
  },
  {
   "cell_type": "code",
   "execution_count": 491,
   "metadata": {},
   "outputs": [
    {
     "data": {
      "text/plain": [
       "fecha_aplicacion\n",
       "2020-12-29     20427\n",
       "2020-12-30     20026\n",
       "2020-12-31      2809\n",
       "2021-01-01       119\n",
       "2021-01-02      3296\n",
       "               ...  \n",
       "2021-04-27    141041\n",
       "2021-04-28    142290\n",
       "2021-04-29    135132\n",
       "2021-04-30     89411\n",
       "2021-05-01         2\n",
       "Name: fecha_aplicacion, Length: 124, dtype: int64"
      ]
     },
     "execution_count": 491,
     "metadata": {},
     "output_type": "execute_result"
    }
   ],
   "source": [
    "data_vacunas.fecha_aplicacion.groupby(data_vacunas.fecha_aplicacion).count().sort_index()"
   ]
  },
  {
   "cell_type": "markdown",
   "metadata": {},
   "source": [
    "# Graficado"
   ]
  },
  {
   "cell_type": "code",
   "execution_count": 488,
   "metadata": {},
   "outputs": [],
   "source": [
    "i = datetime.fromisoformat('2020-06-01')\n",
    "dates = []\n",
    "while  datetime.today() >= i:\n",
    "    dates.append(i)\n",
    "    i += timedelta(days=7)\n",
    "i = datetime.fromisoformat('2020-06-04')\n",
    "while datetime.today() >= i:\n",
    "    dates.append(i)\n",
    "    i += timedelta(days=7)"
   ]
  },
  {
   "cell_type": "code",
   "execution_count": 489,
   "metadata": {},
   "outputs": [],
   "source": [
    "for date in dates:\n",
    "    date = datetime.isoformat(date)[:10]\n",
    "dates = [datetime.isoformat(date) for date in dates]\n",
    "# Lista de fechas separadas por 1 semana desde último día\n",
    "dates = [date[:10] for date in dates]\n",
    "dates.sort()"
   ]
  },
  {
   "cell_type": "code",
   "execution_count": null,
   "metadata": {},
   "outputs": [],
   "source": [
    "plt.style.use('seaborn-darkgrid')"
   ]
  },
  {
   "cell_type": "code",
   "execution_count": 509,
   "metadata": {},
   "outputs": [
    {
     "data": {
      "text/plain": [
       "fecha_aplicacion\n",
       "2020-12-29     20427\n",
       "2020-12-30     20026\n",
       "2020-12-31      2809\n",
       "2021-01-01       119\n",
       "2021-01-02      3296\n",
       "               ...  \n",
       "2021-04-27    141041\n",
       "2021-04-28    142290\n",
       "2021-04-29    135132\n",
       "2021-04-30     89411\n",
       "2021-05-01         2\n",
       "Name: fecha_aplicacion, Length: 124, dtype: int64"
      ]
     },
     "execution_count": 509,
     "metadata": {},
     "output_type": "execute_result"
    }
   ],
   "source": [
    "data_vacunas.fecha_aplicacion.groupby(data_vacunas.fecha_aplicacion).count().sort_index()"
   ]
  },
  {
   "cell_type": "code",
   "execution_count": 638,
   "metadata": {},
   "outputs": [
    {
     "data": {
      "text/plain": [
       "[<matplotlib.lines.Line2D at 0x2a477bc7188>]"
      ]
     },
     "execution_count": 638,
     "metadata": {},
     "output_type": "execute_result"
    },
    {
     "data": {
      "image/png": "[encoded data removed]",
      "text/plain": [
       "<Figure size 1800x504 with 1 Axes>"
      ]
     },
     "metadata": {},
     "output_type": "display_data"
    }
   ],
   "source": [
    "# Graficar cantidad vacunada por fecha, color por vacuna, forma por grupo etario\n",
    "x = fechas_vacunas[fechas_vacunas.isin([x for x in pd.Series(dates)[pd.Series(dates)>'2020-07-01'].sort_values()])]\n",
    "y = data_vacunas.fecha_aplicacion[data_vacunas.fecha_aplicacion.isin([x for x in pd.Series(dates)[pd.Series(dates)>'2020-07-01'].sort_values()])].groupby(data_vacunas.fecha_aplicacion).count().sort_index()\n",
    "plt.figure(figsize = (25,7))\n",
    "plt.title('Cantidad de vacunados los días Lunes y Jueves')\n",
    "#plt.xticks(rotation=45)\n",
    "plt.plot(x, y, label = 'Vacunados')"
   ]
  },
  {
   "cell_type": "code",
   "execution_count": 373,
   "metadata": {},
   "outputs": [],
   "source": [
    "import matplotlib.dates as mdates"
   ]
  },
  {
   "cell_type": "code",
   "execution_count": 396,
   "metadata": {},
   "outputs": [
    {
     "data": {
      "image/png": "[encoded data removed]",
      "text/plain": [
       "<Figure size 432x288 with 1 Axes>"
      ]
     },
     "metadata": {},
     "output_type": "display_data"
    }
   ],
   "source": [
    "fig, ax = plt.subplots()\n",
    "ax.plot(fechas_vacunas, data_vacunas.fecha_aplicacion.groupby(data_vacunas.fecha_aplicacion).count().sort_index())\n",
    "ax.xaxis.set_major_locator(mdates.DayLocator(interval=20))\n",
    "#ax.xaxis.set_major_formatter(mdates.DateFormatter('%Y-%m-%d'))\n",
    "plt.show()"
   ]
  },
  {
   "cell_type": "code",
   "execution_count": 191,
   "metadata": {},
   "outputs": [],
   "source": [
    "print(plt.style.available)\n",
    "plt.style.use('seaborn-dark')"
   ]
  },
  {
   "cell_type": "code",
   "execution_count": 714,
   "metadata": {},
   "outputs": [],
   "source": [
    "x = totales.fecha_diag[totales.fecha_diag.isin([x for x in pd.Series(dates)[pd.Series(dates)>'2020-07-01'].sort_values()])]"
   ]
  },
  {
   "cell_type": "code",
   "execution_count": null,
   "metadata": {},
   "outputs": [],
   "source": [
    "y_conf = totales['Cantidad Confirmados'][totales.fecha_diag[totales.fecha_diag.isin([x for x in pd.Series(dates)[pd.Series(dates)>'2020-07-01'].sort_values()])]]\n",
    "y_test = totales['Cantidad Testeados'][totales.fecha_diag[totales.fecha_diag.isin([x for x in pd.Series(dates)[pd.Series(dates)>'2020-07-01'].sort_values()])]]\n",
    "y_vac = totales['Vacunados'][totales.fecha_diag[totales.fecha_diag.isin([x for x in pd.Series(dates)[pd.Series(dates)>'2020-07-01'].sort_values()])]]"
   ]
  },
  {
   "cell_type": "code",
   "execution_count": 778,
   "metadata": {},
   "outputs": [
    {
     "data": {
      "image/png": "[encoded data removed]",
      "text/plain": [
       "<Figure size 1440x504 with 1 Axes>"
      ]
     },
     "metadata": {},
     "output_type": "display_data"
    }
   ],
   "source": [
    "# Plot\n",
    "plt.figure(figsize = (20,7))\n",
    "plt.style.use('seaborn-darkgrid')\n",
    "plt.plot(x, y_conf, label = 'Confirmados')\n",
    "plt.plot(x, y_test, label = 'Testeados')\n",
    "plt.plot(x, y_vac, label = 'Vacunados')\n",
    "#plt.legend(loc='upper left')\n",
    "plt.title(\"Casos nuevos diarios desde el '2020-07-01'\")\n",
    "plt.legend()\n",
    "plt.ticklabel_format(style='plain', axis=\"y\")\n",
    "#plt.xticks(ticks=[x for x in pd.Series(dates)[pd.Series(dates)>'2020-07-01'].sort_values()], rotation=45)\n",
    "plt.show()"
   ]
  },
  {
   "cell_type": "code",
   "execution_count": 781,
   "metadata": {},
   "outputs": [
    {
     "ename": "TypeError",
     "evalue": "'DatetimeIndex' object is not callable",
     "output_type": "error",
     "traceback": [
      "\u001b[1;31m---------------------------------------------------------------------------\u001b[0m",
      "\u001b[1;31mTypeError\u001b[0m                                 Traceback (most recent call last)",
      "\u001b[1;32m<ipython-input-781-55f9dbbf0ae7>\u001b[0m in \u001b[0;36m<module>\u001b[1;34m\u001b[0m\n\u001b[0;32m     11\u001b[0m \u001b[0mplt\u001b[0m\u001b[1;33m.\u001b[0m\u001b[0mticklabel_format\u001b[0m\u001b[1;33m(\u001b[0m\u001b[0mstyle\u001b[0m\u001b[1;33m=\u001b[0m\u001b[1;34m'plain'\u001b[0m\u001b[1;33m,\u001b[0m \u001b[0maxis\u001b[0m\u001b[1;33m=\u001b[0m\u001b[1;34m\"y\"\u001b[0m\u001b[1;33m)\u001b[0m\u001b[1;33m\u001b[0m\u001b[1;33m\u001b[0m\u001b[0m\n\u001b[0;32m     12\u001b[0m \u001b[0mplt\u001b[0m\u001b[1;33m.\u001b[0m\u001b[0mlegend\u001b[0m\u001b[1;33m(\u001b[0m\u001b[1;33m)\u001b[0m\u001b[1;33m\u001b[0m\u001b[1;33m\u001b[0m\u001b[0m\n\u001b[1;32m---> 13\u001b[1;33m \u001b[0mplt\u001b[0m\u001b[1;33m.\u001b[0m\u001b[0mxticks\u001b[0m\u001b[1;33m(\u001b[0m\u001b[0mticks\u001b[0m\u001b[1;33m=\u001b[0m\u001b[1;33m[\u001b[0m\u001b[0mx\u001b[0m \u001b[1;32mfor\u001b[0m \u001b[0mx\u001b[0m \u001b[1;32min\u001b[0m \u001b[0mpd\u001b[0m\u001b[1;33m.\u001b[0m\u001b[0mSeries\u001b[0m\u001b[1;33m(\u001b[0m\u001b[0mdates\u001b[0m\u001b[1;33m)\u001b[0m\u001b[1;33m[\u001b[0m\u001b[0mpd\u001b[0m\u001b[1;33m.\u001b[0m\u001b[0mSeries\u001b[0m\u001b[1;33m(\u001b[0m\u001b[0mdates\u001b[0m\u001b[1;33m)\u001b[0m\u001b[1;33m>\u001b[0m\u001b[1;34m'2020-07-01'\u001b[0m\u001b[1;33m]\u001b[0m\u001b[1;33m.\u001b[0m\u001b[0msort_values\u001b[0m\u001b[1;33m(\u001b[0m\u001b[1;33m)\u001b[0m\u001b[1;33m]\u001b[0m\u001b[1;33m,\u001b[0m \u001b[0mrotation\u001b[0m\u001b[1;33m=\u001b[0m\u001b[1;36m45\u001b[0m\u001b[1;33m)\u001b[0m\u001b[1;33m\u001b[0m\u001b[1;33m\u001b[0m\u001b[0m\n\u001b[0m\u001b[0;32m     14\u001b[0m \u001b[0mplt\u001b[0m\u001b[1;33m.\u001b[0m\u001b[0mshow\u001b[0m\u001b[1;33m(\u001b[0m\u001b[1;33m)\u001b[0m\u001b[1;33m\u001b[0m\u001b[1;33m\u001b[0m\u001b[0m\n",
      "\u001b[1;31mTypeError\u001b[0m: 'DatetimeIndex' object is not callable"
     ]
    },
    {
     "data": {
      "image/png": "[encoded data removed]",
      "text/plain": [
       "<Figure size 1800x504 with 1 Axes>"
      ]
     },
     "metadata": {},
     "output_type": "display_data"
    }
   ],
   "source": [
    "# Plot\n",
    "x = totales['Cantidad Acumulada Confirmados'][totales.index > '2020-07-01'].index\n",
    "y = totales['Cantidad Acumulada Confirmados'][totales.index > '2020-07-01']\n",
    "y2 = totales['Vacunados Acumulados'][totales.index > '2020-07-01']\n",
    "plt.figure(figsize = (25,7))\n",
    "plt.style.use('seaborn-darkgrid')\n",
    "plt.plot(x, y, label = 'Confirmados acumulados')\n",
    "plt.plot(y2, label='Vacunados acumulados')\n",
    "#plt.legend(loc='upper left')\n",
    "plt.title(\"Casos y vacunación acumuladas desde el '2020-07-01'\")\n",
    "plt.ticklabel_format(style='plain', axis=\"y\")\n",
    "plt.legend()\n",
    "plt.xticks(ticks=[x for x in pd.Series(dates)[pd.Series(dates)>'2020-07-01'].sort_values()], rotation=45)\n",
    "plt.show()"
   ]
  },
  {
   "cell_type": "code",
   "execution_count": 44,
   "metadata": {},
   "outputs": [],
   "source": [
    "xticks = pd.to_datetime([\"2020-04-01\",\"2020-05-01\",\"2020-06-01\",\"2020-07-01\",\"2020-08-01\",\"2020-09-01\"])"
   ]
  },
  {
   "cell_type": "code",
   "execution_count": 46,
   "metadata": {},
   "outputs": [
    {
     "data": {
      "image/png": "[encoded data removed]",
      "text/plain": [
       "<Figure size 1296x432 with 1 Axes>"
      ]
     },
     "metadata": {},
     "output_type": "display_data"
    },
    {
     "name": "stdout",
     "output_type": "stream",
     "text": [
      "Hoy en día, bajando a 22000 casos confirmados por día aproximadamente.\n"
     ]
    }
   ],
   "source": [
    "plt.figure(figsize = (18,6))\n",
    "plt.style.use('seaborn-darkgrid')\n",
    "plt.plot(tot[tot.index > '2020-06-01'])\n",
    "#plt.figure(figsize = (18,6))\n",
    "plt.xticks(ticks = [\"2020-06-01\",\"2020-07-01\",\"2020-08-01\",\"2020-09-01\",\"2020-10-01\",\"2020-11-01\",\"2020-12-01\",\"2021-01-01\",\"2021-02-01\",\"2021-03-01\",\"2021-04-01\"])\n",
    "plt.show()\n",
    "print(\"Hoy en día, bajando a 22000 casos confirmados por día aproximadamente.\")\n",
    "print('Resta agregar linea con cantidad de testeos')"
   ]
  },
  {
   "cell_type": "code",
   "execution_count": 47,
   "metadata": {},
   "outputs": [],
   "source": [
    "prim_trim_inf = tot.index[tot.index > '2020-06-01'].sort_values()\n",
    "prim_trim_sup = tot.index[tot.index < '2020-09-01'].sort_values()\n",
    "seg_trim_inf = tot.index[tot.index > '2020-09-01'].sort_values()\n",
    "seg_trim_sup = tot.index[tot.index < '2020-12-01'].sort_values()\n",
    "ter_trim_inf = tot.index[tot.index > '2020-12-01'].sort_values()\n",
    "#ter_trim_sup = tot.index > '2020-12-01'"
   ]
  },
  {
   "cell_type": "code",
   "execution_count": 49,
   "metadata": {},
   "outputs": [],
   "source": [
    "#pd.Series(tot[ter_trim_inf])[10:]"
   ]
  },
  {
   "cell_type": "code",
   "execution_count": 50,
   "metadata": {},
   "outputs": [
    {
     "data": {
      "text/plain": [
       "Sospechoso    15073\n",
       "Descartado     8979\n",
       "Confirmado     8499\n",
       "Name: clasificacion_resumen, dtype: int64"
      ]
     },
     "execution_count": 50,
     "metadata": {},
     "output_type": "execute_result"
    }
   ],
   "source": [
    "data.clasificacion_resumen[data.fecha_apertura == \"2021-04-30\"].value_counts()"
   ]
  },
  {
   "cell_type": "code",
   "execution_count": 51,
   "metadata": {},
   "outputs": [
    {
     "data": {
      "text/plain": [
       "Descartado    5447\n",
       "Confirmado    5087\n",
       "Sospechoso    1811\n",
       "Name: clasificacion_resumen, dtype: int64"
      ]
     },
     "execution_count": 51,
     "metadata": {},
     "output_type": "execute_result"
    }
   ],
   "source": [
    "data.clasificacion_resumen[data.fecha_diagnostico == \"2021-04-30\"].value_counts()"
   ]
  },
  {
   "cell_type": "code",
   "execution_count": 52,
   "metadata": {},
   "outputs": [
    {
     "data": {
      "text/plain": [
       "2021-04-30    27\n",
       "Name: fecha_fallecimiento, dtype: int64"
      ]
     },
     "execution_count": 52,
     "metadata": {},
     "output_type": "execute_result"
    }
   ],
   "source": [
    "data.fecha_fallecimiento[data.fecha_fallecimiento == \"2021-04-30\"].value_counts()"
   ]
  },
  {
   "cell_type": "code",
   "execution_count": 53,
   "metadata": {},
   "outputs": [
    {
     "data": {
      "text/plain": [
       "[<matplotlib.lines.Line2D at 0x2a3c29fd348>]"
      ]
     },
     "execution_count": 53,
     "metadata": {},
     "output_type": "execute_result"
    },
    {
     "data": {
      "image/png": "[encoded data removed]",
      "text/plain": [
       "<Figure size 1656x432 with 3 Axes>"
      ]
     },
     "metadata": {},
     "output_type": "display_data"
    }
   ],
   "source": [
    "plt.figure(figsize = (23,6))\n",
    "plt.subplot(1, 3, 1)\n",
    "plt.title(\"Casos nuevos por día hasta septiembre-20\")\n",
    "#plt.xticks(ticks=xticks)\n",
    "plt.plot(tot[prim_trim_inf&prim_trim_sup])\n",
    "plt.subplot(1, 3, 2)\n",
    "plt.title(\"Casos nuevos por día desde septiembre-20 hasta diciembre-20\")\n",
    "plt.plot(tot[seg_trim_inf&seg_trim_sup])\n",
    "plt.subplot(1, 3, 3)\n",
    "plt.title(\"Casos nuevos por día desde diciembre-20\")\n",
    "plt.plot(tot[ter_trim_inf])"
   ]
  },
  {
   "cell_type": "code",
   "execution_count": 445,
   "metadata": {},
   "outputs": [],
   "source": []
  },
  {
   "cell_type": "code",
   "execution_count": 452,
   "metadata": {},
   "outputs": [],
   "source": []
  },
  {
   "cell_type": "code",
   "execution_count": 60,
   "metadata": {},
   "outputs": [],
   "source": [
    "i = datetime.fromisoformat('2020-04-23')\n",
    "dates_12_2 = []\n",
    "while i < datetime.today() - timedelta(days=3):\n",
    "    dates_12_2.append(i)\n",
    "    i += timedelta(days=7)"
   ]
  },
  {
   "cell_type": "code",
   "execution_count": 455,
   "metadata": {},
   "outputs": [
    {
     "data": {
      "text/plain": [
       "['2020-06-04', '2020-06-07']"
      ]
     },
     "execution_count": 455,
     "metadata": {},
     "output_type": "execute_result"
    }
   ],
   "source": [
    "dates[:2]"
   ]
  },
  {
   "cell_type": "code",
   "execution_count": 61,
   "metadata": {},
   "outputs": [],
   "source": [
    "for date in dates_12_2:\n",
    "    date = datetime.isoformat(date)[:10]\n",
    "dates_12_2 = [datetime.isoformat(date) for date in dates_12_2]\n",
    "dates_12_2 = [date[:10] for date in dates_12_2]"
   ]
  },
  {
   "cell_type": "code",
   "execution_count": 192,
   "metadata": {},
   "outputs": [],
   "source": [
    "#data.fecha_diagnostico.dropna(inplace=True)"
   ]
  },
  {
   "cell_type": "code",
   "execution_count": 66,
   "metadata": {},
   "outputs": [
    {
     "name": "stderr",
     "output_type": "stream",
     "text": [
      "C:\\Users\\bruno\\anaconda3\\envs\\dhdsblend37\\lib\\site-packages\\pandas\\core\\series.py:4494: SettingWithCopyWarning: modifications to a property of a datetimelike object are not supported and are discarded. Change values on the original.\n",
      "  self._update_inplace(result)\n"
     ]
    }
   ],
   "source": [
    "mdata = pd.to_datetime(data.fecha_diagnostico[data.clasificacion_resumen==\"Confirmado\"]).dt.month\n",
    "mdata.dropna(inplace=True)\n",
    "mdata = mdata.astype(str)"
   ]
  },
  {
   "cell_type": "code",
   "execution_count": 67,
   "metadata": {},
   "outputs": [],
   "source": [
    "mcordata = []\n",
    "for x in mdata:\n",
    "    mcordata.append(x.replace(\".0\",\"\"))"
   ]
  },
  {
   "cell_type": "code",
   "execution_count": 68,
   "metadata": {},
   "outputs": [],
   "source": [
    "adata = pd.to_datetime(data.fecha_diagnostico[data.clasificacion_resumen==\"Confirmado\"]).dt.year\n",
    "adata.dropna(inplace=True)\n",
    "adata= adata.astype(str)"
   ]
  },
  {
   "cell_type": "code",
   "execution_count": 69,
   "metadata": {},
   "outputs": [],
   "source": [
    "acordata = []\n",
    "for x in adata:\n",
    "    acordata.append(x.replace(\".0\",\"\"))"
   ]
  },
  {
   "cell_type": "code",
   "execution_count": 70,
   "metadata": {},
   "outputs": [],
   "source": [
    "data[\"Date\"] = pd.Series(acordata)+\"_\"+pd.Series(mcordata)"
   ]
  },
  {
   "cell_type": "code",
   "execution_count": 71,
   "metadata": {},
   "outputs": [
    {
     "data": {
      "text/plain": [
       "0          2021_4\n",
       "1          2021_4\n",
       "2          2021_4\n",
       "3          2021_4\n",
       "4          2021_4\n",
       "            ...  \n",
       "2714171    2021_4\n",
       "2714172    2021_4\n",
       "2714173    2021_4\n",
       "2714174    2021_4\n",
       "2714175    2021_4\n",
       "Name: Date, Length: 2707244, dtype: object"
      ]
     },
     "execution_count": 71,
     "metadata": {},
     "output_type": "execute_result"
    }
   ],
   "source": [
    "data_graf = data[\"Date\"].dropna()\n",
    "data_graf"
   ]
  },
  {
   "cell_type": "code",
   "execution_count": null,
   "metadata": {},
   "outputs": [],
   "source": [
    "data_graf = pd.to_datetime(data_graf, format=\"%Y_%m\")\n",
    "data_graf = pd.DataFrame(data_graf)\n",
    "data_graf[\"ano\"] = pd.Series\n",
    "data_graf[\"ano\"] = data_graf[\"Date\"].dt.year\n",
    "data_graf[\"mes\"] = data_graf[\"Date\"].dt.month\n",
    "data_graf = data_graf[data_graf.ano>=2019]"
   ]
  },
  {
   "cell_type": "code",
   "execution_count": 75,
   "metadata": {},
   "outputs": [
    {
     "data": {
      "text/html": [
       "<div>\n",
       "<style scoped>\n",
       "    .dataframe tbody tr th:only-of-type {\n",
       "        vertical-align: middle;\n",
       "    }\n",
       "\n",
       "    .dataframe tbody tr th {\n",
       "        vertical-align: top;\n",
       "    }\n",
       "\n",
       "    .dataframe thead th {\n",
       "        text-align: right;\n",
       "    }\n",
       "</style>\n",
       "<table border=\"1\" class=\"dataframe\">\n",
       "  <thead>\n",
       "    <tr style=\"text-align: right;\">\n",
       "      <th></th>\n",
       "      <th></th>\n",
       "      <th>Cant</th>\n",
       "    </tr>\n",
       "    <tr>\n",
       "      <th>ano</th>\n",
       "      <th>mes</th>\n",
       "      <th></th>\n",
       "    </tr>\n",
       "  </thead>\n",
       "  <tbody>\n",
       "    <tr>\n",
       "      <th rowspan=\"4\" valign=\"top\">2019</th>\n",
       "      <th>3</th>\n",
       "      <td>1</td>\n",
       "    </tr>\n",
       "    <tr>\n",
       "      <th>9</th>\n",
       "      <td>1</td>\n",
       "    </tr>\n",
       "    <tr>\n",
       "      <th>10</th>\n",
       "      <td>7</td>\n",
       "    </tr>\n",
       "    <tr>\n",
       "      <th>11</th>\n",
       "      <td>1</td>\n",
       "    </tr>\n",
       "    <tr>\n",
       "      <th rowspan=\"12\" valign=\"top\">2020</th>\n",
       "      <th>1</th>\n",
       "      <td>63</td>\n",
       "    </tr>\n",
       "    <tr>\n",
       "      <th>2</th>\n",
       "      <td>8</td>\n",
       "    </tr>\n",
       "    <tr>\n",
       "      <th>3</th>\n",
       "      <td>1087</td>\n",
       "    </tr>\n",
       "    <tr>\n",
       "      <th>4</th>\n",
       "      <td>3397</td>\n",
       "    </tr>\n",
       "    <tr>\n",
       "      <th>5</th>\n",
       "      <td>12838</td>\n",
       "    </tr>\n",
       "    <tr>\n",
       "      <th>6</th>\n",
       "      <td>51074</td>\n",
       "    </tr>\n",
       "    <tr>\n",
       "      <th>7</th>\n",
       "      <td>135312</td>\n",
       "    </tr>\n",
       "    <tr>\n",
       "      <th>8</th>\n",
       "      <td>228606</td>\n",
       "    </tr>\n",
       "    <tr>\n",
       "      <th>9</th>\n",
       "      <td>317517</td>\n",
       "    </tr>\n",
       "    <tr>\n",
       "      <th>10</th>\n",
       "      <td>364141</td>\n",
       "    </tr>\n",
       "    <tr>\n",
       "      <th>11</th>\n",
       "      <td>209391</td>\n",
       "    </tr>\n",
       "    <tr>\n",
       "      <th>12</th>\n",
       "      <td>179710</td>\n",
       "    </tr>\n",
       "    <tr>\n",
       "      <th rowspan=\"4\" valign=\"top\">2021</th>\n",
       "      <th>1</th>\n",
       "      <td>266444</td>\n",
       "    </tr>\n",
       "    <tr>\n",
       "      <th>2</th>\n",
       "      <td>156521</td>\n",
       "    </tr>\n",
       "    <tr>\n",
       "      <th>3</th>\n",
       "      <td>230635</td>\n",
       "    </tr>\n",
       "    <tr>\n",
       "      <th>4</th>\n",
       "      <td>550485</td>\n",
       "    </tr>\n",
       "  </tbody>\n",
       "</table>\n",
       "</div>"
      ],
      "text/plain": [
       "            Cant\n",
       "ano  mes        \n",
       "2019 3         1\n",
       "     9         1\n",
       "     10        7\n",
       "     11        1\n",
       "2020 1        63\n",
       "     2         8\n",
       "     3      1087\n",
       "     4      3397\n",
       "     5     12838\n",
       "     6     51074\n",
       "     7    135312\n",
       "     8    228606\n",
       "     9    317517\n",
       "     10   364141\n",
       "     11   209391\n",
       "     12   179710\n",
       "2021 1    266444\n",
       "     2    156521\n",
       "     3    230635\n",
       "     4    550485"
      ]
     },
     "execution_count": 75,
     "metadata": {},
     "output_type": "execute_result"
    }
   ],
   "source": [
    "count = data_graf.groupby([data_graf[\"ano\"],data_graf.mes]).count().rename({\"Date\":\"Cant\"},axis=\"columns\")#.sort_values(by=\"Date\",axis=0)\n",
    "#count = count[count.Cant > 1]\n",
    "count"
   ]
  },
  {
   "cell_type": "code",
   "execution_count": 77,
   "metadata": {},
   "outputs": [
    {
     "data": {
      "text/html": [
       "<div>\n",
       "<style scoped>\n",
       "    .dataframe tbody tr th:only-of-type {\n",
       "        vertical-align: middle;\n",
       "    }\n",
       "\n",
       "    .dataframe tbody tr th {\n",
       "        vertical-align: top;\n",
       "    }\n",
       "\n",
       "    .dataframe thead th {\n",
       "        text-align: right;\n",
       "    }\n",
       "</style>\n",
       "<table border=\"1\" class=\"dataframe\">\n",
       "  <thead>\n",
       "    <tr style=\"text-align: right;\">\n",
       "      <th></th>\n",
       "      <th></th>\n",
       "      <th>Cant</th>\n",
       "    </tr>\n",
       "    <tr>\n",
       "      <th>ano</th>\n",
       "      <th>mes</th>\n",
       "      <th></th>\n",
       "    </tr>\n",
       "  </thead>\n",
       "  <tbody>\n",
       "    <tr>\n",
       "      <th rowspan=\"4\" valign=\"top\">2021</th>\n",
       "      <th>1</th>\n",
       "      <td>266444</td>\n",
       "    </tr>\n",
       "    <tr>\n",
       "      <th>2</th>\n",
       "      <td>156521</td>\n",
       "    </tr>\n",
       "    <tr>\n",
       "      <th>3</th>\n",
       "      <td>230635</td>\n",
       "    </tr>\n",
       "    <tr>\n",
       "      <th>4</th>\n",
       "      <td>550485</td>\n",
       "    </tr>\n",
       "  </tbody>\n",
       "</table>\n",
       "</div>"
      ],
      "text/plain": [
       "            Cant\n",
       "ano  mes        \n",
       "2021 1    266444\n",
       "     2    156521\n",
       "     3    230635\n",
       "     4    550485"
      ]
     },
     "execution_count": 77,
     "metadata": {},
     "output_type": "execute_result"
    }
   ],
   "source": [
    "count.query(\"ano==2021\")"
   ]
  },
  {
   "cell_type": "code",
   "execution_count": 78,
   "metadata": {},
   "outputs": [],
   "source": [
    "cant_2019 = pd.DataFrame(count.query(\"ano==2019\"))\n",
    "cant_2020 = pd.DataFrame(count.query(\"ano==2020\"))\n",
    "cant_2021 = pd.DataFrame(count.query(\"ano==2021\"))"
   ]
  },
  {
   "cell_type": "code",
   "execution_count": 79,
   "metadata": {},
   "outputs": [
    {
     "data": {
      "text/plain": [
       "<AxesSubplot:xlabel='ano,mes'>"
      ]
     },
     "execution_count": 79,
     "metadata": {},
     "output_type": "execute_result"
    },
    {
     "data": {
      "image/png": "[encoded data removed]",
      "text/plain": [
       "<Figure size 432x288 with 1 Axes>"
      ]
     },
     "metadata": {},
     "output_type": "display_data"
    }
   ],
   "source": [
    "count.plot(kind=\"bar\")"
   ]
  },
  {
   "cell_type": "code",
   "execution_count": 80,
   "metadata": {},
   "outputs": [],
   "source": [
    "data.fecha_diagnostico = pd.to_datetime(data.fecha_diagnostico,infer_datetime_format=True)"
   ]
  },
  {
   "cell_type": "code",
   "execution_count": 81,
   "metadata": {},
   "outputs": [
    {
     "data": {
      "text/plain": [
       "False    9205623\n",
       "True      683149\n",
       "Name: fecha_diagnostico, dtype: int64"
      ]
     },
     "execution_count": 81,
     "metadata": {},
     "output_type": "execute_result"
    }
   ],
   "source": [
    "data.fecha_diagnostico.isna().value_counts()"
   ]
  },
  {
   "cell_type": "code",
   "execution_count": 82,
   "metadata": {},
   "outputs": [],
   "source": [
    "today = datetime.strftime(datetime.date(datetime.today()),\"%Y-%m-%d\")"
   ]
  },
  {
   "cell_type": "code",
   "execution_count": 83,
   "metadata": {},
   "outputs": [
    {
     "data": {
      "text/plain": [
       "'2021-04-16'"
      ]
     },
     "execution_count": 83,
     "metadata": {},
     "output_type": "execute_result"
    }
   ],
   "source": [
    "per_15d = datetime.strftime(datetime.date(datetime.today()-timedelta(days=15)),\"%Y-%m-%d\")\n",
    "per_15d"
   ]
  },
  {
   "cell_type": "code",
   "execution_count": 84,
   "metadata": {},
   "outputs": [
    {
     "data": {
      "text/html": [
       "<div>\n",
       "<style scoped>\n",
       "    .dataframe tbody tr th:only-of-type {\n",
       "        vertical-align: middle;\n",
       "    }\n",
       "\n",
       "    .dataframe tbody tr th {\n",
       "        vertical-align: top;\n",
       "    }\n",
       "\n",
       "    .dataframe thead th {\n",
       "        text-align: right;\n",
       "    }\n",
       "</style>\n",
       "<table border=\"1\" class=\"dataframe\">\n",
       "  <thead>\n",
       "    <tr style=\"text-align: right;\">\n",
       "      <th></th>\n",
       "      <th>sexo</th>\n",
       "      <th>edad</th>\n",
       "      <th>carga_provincia_nombre</th>\n",
       "      <th>fallecido</th>\n",
       "      <th>clasificacion</th>\n",
       "      <th>clasificacion_resumen</th>\n",
       "    </tr>\n",
       "  </thead>\n",
       "  <tbody>\n",
       "    <tr>\n",
       "      <th>151</th>\n",
       "      <td>F</td>\n",
       "      <td>27.0</td>\n",
       "      <td>CABA</td>\n",
       "      <td>NO</td>\n",
       "      <td>Caso confirmado por laboratorio - No activo (p...</td>\n",
       "      <td>Confirmado</td>\n",
       "    </tr>\n",
       "    <tr>\n",
       "      <th>213</th>\n",
       "      <td>M</td>\n",
       "      <td>18.0</td>\n",
       "      <td>CABA</td>\n",
       "      <td>NO</td>\n",
       "      <td>Caso confirmado por laboratorio - No activo (p...</td>\n",
       "      <td>Confirmado</td>\n",
       "    </tr>\n",
       "    <tr>\n",
       "      <th>233</th>\n",
       "      <td>M</td>\n",
       "      <td>41.0</td>\n",
       "      <td>CABA</td>\n",
       "      <td>NO</td>\n",
       "      <td>Caso confirmado por laboratorio - No activo (p...</td>\n",
       "      <td>Confirmado</td>\n",
       "    </tr>\n",
       "    <tr>\n",
       "      <th>322</th>\n",
       "      <td>F</td>\n",
       "      <td>29.0</td>\n",
       "      <td>CABA</td>\n",
       "      <td>NO</td>\n",
       "      <td>Caso confirmado por laboratorio - No activo (p...</td>\n",
       "      <td>Confirmado</td>\n",
       "    </tr>\n",
       "    <tr>\n",
       "      <th>360</th>\n",
       "      <td>M</td>\n",
       "      <td>33.0</td>\n",
       "      <td>CABA</td>\n",
       "      <td>NO</td>\n",
       "      <td>Caso confirmado por laboratorio - No activo (p...</td>\n",
       "      <td>Confirmado</td>\n",
       "    </tr>\n",
       "  </tbody>\n",
       "</table>\n",
       "</div>"
      ],
      "text/plain": [
       "    sexo  edad carga_provincia_nombre fallecido  \\\n",
       "151    F  27.0                   CABA        NO   \n",
       "213    M  18.0                   CABA        NO   \n",
       "233    M  41.0                   CABA        NO   \n",
       "322    F  29.0                   CABA        NO   \n",
       "360    M  33.0                   CABA        NO   \n",
       "\n",
       "                                         clasificacion clasificacion_resumen  \n",
       "151  Caso confirmado por laboratorio - No activo (p...            Confirmado  \n",
       "213  Caso confirmado por laboratorio - No activo (p...            Confirmado  \n",
       "233  Caso confirmado por laboratorio - No activo (p...            Confirmado  \n",
       "322  Caso confirmado por laboratorio - No activo (p...            Confirmado  \n",
       "360  Caso confirmado por laboratorio - No activo (p...            Confirmado  "
      ]
     },
     "execution_count": 84,
     "metadata": {},
     "output_type": "execute_result"
    }
   ],
   "source": [
    "activos = data[data.fecha_diagnostico>=per_15d]\n",
    "activos = activos.loc[:,[\"sexo\",\"edad\",\"carga_provincia_nombre\",\"fallecido\",\"clasificacion\",\"clasificacion_resumen\"]]\n",
    "activos = activos[activos.clasificacion_resumen == \"Confirmado\"]\n",
    "activos.head(5)"
   ]
  },
  {
   "cell_type": "code",
   "execution_count": 85,
   "metadata": {},
   "outputs": [
    {
     "data": {
      "text/plain": [
       "NO    273721\n",
       "SI      1206\n",
       "Name: fallecido, dtype: int64"
      ]
     },
     "execution_count": 85,
     "metadata": {},
     "output_type": "execute_result"
    }
   ],
   "source": [
    "activos.fallecido.value_counts()"
   ]
  },
  {
   "cell_type": "code",
   "execution_count": 86,
   "metadata": {},
   "outputs": [
    {
     "data": {
      "text/plain": [
       "NO    6902203\n",
       "SI      13028\n",
       "Name: fallecido, dtype: int64"
      ]
     },
     "execution_count": 86,
     "metadata": {},
     "output_type": "execute_result"
    }
   ],
   "source": [
    "data.fallecido.loc[(data.clasificacion_resumen==\"Descartado\") | (data.clasificacion_resumen==\"Sospechoso\")].value_counts()"
   ]
  },
  {
   "cell_type": "code",
   "execution_count": 87,
   "metadata": {},
   "outputs": [
    {
     "data": {
      "text/plain": [
       "(21.8, 42.6]     0.461820\n",
       "(42.6, 63.4]     0.314079\n",
       "(0.896, 21.8]    0.119490\n",
       "(63.4, 84.2]     0.096303\n",
       "(84.2, 105.0]    0.008309\n",
       "Name: edad, dtype: float64"
      ]
     },
     "execution_count": 87,
     "metadata": {},
     "output_type": "execute_result"
    }
   ],
   "source": [
    "pd.cut(activos.edad,5).value_counts(normalize=True)"
   ]
  },
  {
   "cell_type": "code",
   "execution_count": 88,
   "metadata": {},
   "outputs": [
    {
     "data": {
      "text/plain": [
       "(10.0, 35.0]       0.423688\n",
       "(35.0, 60.0]       0.404508\n",
       "(60.0, 85.0]       0.118328\n",
       "(-15.125, 10.0]    0.041121\n",
       "(85.0, 110.0]      0.012355\n",
       "Name: edad, dtype: float64"
      ]
     },
     "execution_count": 88,
     "metadata": {},
     "output_type": "execute_result"
    }
   ],
   "source": [
    "pd.cut(data.edad,5).value_counts(normalize=True)"
   ]
  },
  {
   "cell_type": "code",
   "execution_count": 89,
   "metadata": {},
   "outputs": [
    {
     "data": {
      "text/plain": [
       "M     0.497965\n",
       "F     0.495695\n",
       "NR    0.006340\n",
       "Name: sexo, dtype: float64"
      ]
     },
     "execution_count": 89,
     "metadata": {},
     "output_type": "execute_result"
    }
   ],
   "source": [
    "activos.sexo.value_counts(normalize=True)"
   ]
  },
  {
   "cell_type": "code",
   "execution_count": 90,
   "metadata": {},
   "outputs": [
    {
     "data": {
      "text/plain": [
       "Caso confirmado por laboratorio - No activo (por tiempo de evolución)                        132773\n",
       "Caso confirmado por laboratorio - Activo                                                     131895\n",
       "Caso confirmado por laboratorio - Activo Internado                                             6814\n",
       "Caso confirmado por criterio clínico-epidemiológico - No activo (por tiempo de evolución)      1243\n",
       "Caso confirmado por laboratorio - Fallecido                                                    1204\n",
       "Caso confirmado por laboratorio - No Activo por criterio de laboratorio                         494\n",
       "Caso confirmado por criterio clinico-epidemiol¿gico - Activo                                    449\n",
       "Caso confirmado por criterio clínico - epidemiológico -  Activo internado                        53\n",
       "Caso confirmado por criterio clínico-epidemiologico - Fallecido                                   2\n",
       "Name: clasificacion, dtype: int64"
      ]
     },
     "execution_count": 90,
     "metadata": {},
     "output_type": "execute_result"
    }
   ],
   "source": [
    "activos.clasificacion.value_counts()"
   ]
  },
  {
   "cell_type": "code",
   "execution_count": 92,
   "metadata": {},
   "outputs": [
    {
     "data": {
      "text/html": [
       "<div>\n",
       "<style scoped>\n",
       "    .dataframe tbody tr th:only-of-type {\n",
       "        vertical-align: middle;\n",
       "    }\n",
       "\n",
       "    .dataframe tbody tr th {\n",
       "        vertical-align: top;\n",
       "    }\n",
       "\n",
       "    .dataframe thead th {\n",
       "        text-align: right;\n",
       "    }\n",
       "</style>\n",
       "<table border=\"1\" class=\"dataframe\">\n",
       "  <thead>\n",
       "    <tr style=\"text-align: right;\">\n",
       "      <th></th>\n",
       "      <th>sexo</th>\n",
       "      <th>edad</th>\n",
       "      <th>carga_provincia_nombre</th>\n",
       "      <th>fallecido</th>\n",
       "      <th>clasificacion</th>\n",
       "      <th>clasificacion_resumen</th>\n",
       "    </tr>\n",
       "  </thead>\n",
       "  <tbody>\n",
       "    <tr>\n",
       "      <th>151</th>\n",
       "      <td>F</td>\n",
       "      <td>27.0</td>\n",
       "      <td>CABA</td>\n",
       "      <td>NO</td>\n",
       "      <td>Caso confirmado por laboratorio - No activo (p...</td>\n",
       "      <td>Confirmado</td>\n",
       "    </tr>\n",
       "    <tr>\n",
       "      <th>213</th>\n",
       "      <td>M</td>\n",
       "      <td>18.0</td>\n",
       "      <td>CABA</td>\n",
       "      <td>NO</td>\n",
       "      <td>Caso confirmado por laboratorio - No activo (p...</td>\n",
       "      <td>Confirmado</td>\n",
       "    </tr>\n",
       "    <tr>\n",
       "      <th>233</th>\n",
       "      <td>M</td>\n",
       "      <td>41.0</td>\n",
       "      <td>CABA</td>\n",
       "      <td>NO</td>\n",
       "      <td>Caso confirmado por laboratorio - No activo (p...</td>\n",
       "      <td>Confirmado</td>\n",
       "    </tr>\n",
       "  </tbody>\n",
       "</table>\n",
       "</div>"
      ],
      "text/plain": [
       "    sexo  edad carga_provincia_nombre fallecido  \\\n",
       "151    F  27.0                   CABA        NO   \n",
       "213    M  18.0                   CABA        NO   \n",
       "233    M  41.0                   CABA        NO   \n",
       "\n",
       "                                         clasificacion clasificacion_resumen  \n",
       "151  Caso confirmado por laboratorio - No activo (p...            Confirmado  \n",
       "213  Caso confirmado por laboratorio - No activo (p...            Confirmado  \n",
       "233  Caso confirmado por laboratorio - No activo (p...            Confirmado  "
      ]
     },
     "execution_count": 92,
     "metadata": {},
     "output_type": "execute_result"
    }
   ],
   "source": [
    "activos.head(3)"
   ]
  },
  {
   "cell_type": "code",
   "execution_count": 94,
   "metadata": {},
   "outputs": [
    {
     "name": "stdout",
     "output_type": "stream",
     "text": [
      "Las provincias que más casos activos tienen son:\n"
     ]
    },
    {
     "data": {
      "text/plain": [
       "Buenos Aires    103158\n",
       "CABA             59356\n",
       "Santa Fe         23427\n",
       "Córdoba          20589\n",
       "Mendoza          11139\n",
       "Name: carga_provincia_nombre, dtype: int64"
      ]
     },
     "execution_count": 94,
     "metadata": {},
     "output_type": "execute_result"
    }
   ],
   "source": [
    "print (\"Las provincias que más casos activos tienen son:\")\n",
    "activos.carga_provincia_nombre.value_counts()[:5]"
   ]
  },
  {
   "cell_type": "code",
   "execution_count": 239,
   "metadata": {},
   "outputs": [
    {
     "name": "stdout",
     "output_type": "stream",
     "text": [
      "Cantidad de casos confirmados en últimos 15 días: 67843\n",
      "Cantidad de casos analizados en últimos 15 días: 400108\n",
      "Lo que representa un 0.17 % de los testeos realizados\n"
     ]
    }
   ],
   "source": [
    "print (\"Cantidad de casos confirmados en últimos 15 días:\",activos.carga_provincia_nombre.count())\n",
    "print (\"Cantidad de casos analizados en últimos 15 días:\",data[data.fecha_diagnostico>per_15d].shape[0])\n",
    "print (\"Lo que representa un\",round(activos.carga_provincia_nombre.count()/data[data.fecha_diagnostico>per_15d].shape[0],2),\"% de casos positivos sobre los testeos realizados\")"
   ]
  },
  {
   "cell_type": "code",
   "execution_count": 95,
   "metadata": {},
   "outputs": [
    {
     "name": "stdout",
     "output_type": "stream",
     "text": [
      "Cantidad de casos confirmados en últimos 15 días: 274927\n",
      "Cantidad de casos analizados en últimos 15 días: 719921\n",
      "Lo que representa un 0.38 % de casos positivos sobre los testeos realizados\n"
     ]
    }
   ],
   "source": [
    "# Representado en línea anterior a Abril-21\n",
    "print (\"Cantidad de casos confirmados en últimos 15 días:\",activos.carga_provincia_nombre.count())\n",
    "print (\"Cantidad de casos analizados en últimos 15 días:\",data[data.fecha_diagnostico>per_15d].shape[0])\n",
    "print (\"Lo que representa un\",round(activos.carga_provincia_nombre.count()/data[data.fecha_diagnostico>per_15d].shape[0],2),\"% de casos positivos sobre los testeos realizados\")"
   ]
  },
  {
   "cell_type": "code",
   "execution_count": 258,
   "metadata": {},
   "outputs": [
    {
     "name": "stdout",
     "output_type": "stream",
     "text": [
      "Porcentaje de casos analizados por provincia sobre últimos 15 días hasta el 08/3:\n"
     ]
    },
    {
     "data": {
      "text/plain": [
       "CABA            40.75\n",
       "Buenos Aires    19.27\n",
       "Córdoba         11.44\n",
       "Santa Fe         4.57\n",
       "Tucumán          2.65\n",
       "Name: carga_provincia_nombre, dtype: float64"
      ]
     },
     "execution_count": 258,
     "metadata": {},
     "output_type": "execute_result"
    }
   ],
   "source": [
    "print (\"Porcentaje de casos analizados por provincia sobre últimos 15 días hasta el:\", today)\n",
    "round(data.carga_provincia_nombre[data.fecha_diagnostico>per_15d].value_counts()/data.carga_provincia_nombre[data.fecha_diagnostico>per_15d].count()*100,2)[:5]"
   ]
  },
  {
   "cell_type": "code",
   "execution_count": 96,
   "metadata": {},
   "outputs": [
    {
     "name": "stdout",
     "output_type": "stream",
     "text": [
      "Porcentaje de casos analizados por provincia sobre últimos 15 días hasta el: 2021-05-01\n"
     ]
    },
    {
     "data": {
      "text/plain": [
       "CABA            27.74\n",
       "Buenos Aires    27.36\n",
       "Córdoba         10.93\n",
       "Santa Fe         6.55\n",
       "San Luis         3.97\n",
       "Name: carga_provincia_nombre, dtype: float64"
      ]
     },
     "execution_count": 96,
     "metadata": {},
     "output_type": "execute_result"
    }
   ],
   "source": [
    "# Representado en línea anterior a Marzo-21\n",
    "print (\"Porcentaje de casos analizados por provincia sobre últimos 15 días hasta el:\", today)\n",
    "round(data.carga_provincia_nombre[data.fecha_diagnostico>per_15d].value_counts()/data.carga_provincia_nombre[data.fecha_diagnostico>per_15d].count()*100,2)[:5]"
   ]
  },
  {
   "cell_type": "code",
   "execution_count": 259,
   "metadata": {},
   "outputs": [
    {
     "name": "stdout",
     "output_type": "stream",
     "text": [
      "Porcentaje de casos confirmados por provincia sobre últimos 15 días hasta el 08/3:\n"
     ]
    },
    {
     "data": {
      "text/plain": [
       "Buenos Aires    33.64\n",
       "CABA            18.95\n",
       "Córdoba         10.54\n",
       "Santa Fe         6.68\n",
       "Corrientes       3.12\n",
       "Name: carga_provincia_nombre, dtype: float64"
      ]
     },
     "execution_count": 259,
     "metadata": {},
     "output_type": "execute_result"
    }
   ],
   "source": [
    "print (\"Porcentaje de casos confirmados por provincia sobre últimos 15 días hasta el:\", today)\n",
    "round(activos.carga_provincia_nombre.value_counts()/activos.carga_provincia_nombre.count()*100,2)[:5]"
   ]
  },
  {
   "cell_type": "code",
   "execution_count": 97,
   "metadata": {},
   "outputs": [
    {
     "name": "stdout",
     "output_type": "stream",
     "text": [
      "Porcentaje de casos confirmados por provincia sobre últimos 15 días hasta el: 2021-05-01\n"
     ]
    },
    {
     "data": {
      "text/plain": [
       "Buenos Aires    37.52\n",
       "CABA            21.59\n",
       "Santa Fe         8.52\n",
       "Córdoba          7.49\n",
       "Mendoza          4.05\n",
       "Name: carga_provincia_nombre, dtype: float64"
      ]
     },
     "execution_count": 97,
     "metadata": {},
     "output_type": "execute_result"
    }
   ],
   "source": [
    "# Representado en línea anterior a Marzo-21\n",
    "print (\"Porcentaje de casos confirmados por provincia sobre últimos 15 días hasta el:\", today)\n",
    "round(activos.carga_provincia_nombre.value_counts()/activos.carga_provincia_nombre.count()*100,2)[:5]"
   ]
  },
  {
   "cell_type": "code",
   "execution_count": 98,
   "metadata": {},
   "outputs": [
    {
     "name": "stdout",
     "output_type": "stream",
     "text": [
      "Porcentaje de casos analizados en total por provincia hasta el: 2021-05-01\n"
     ]
    },
    {
     "data": {
      "text/plain": [
       "CABA            29.55\n",
       "Buenos Aires    26.81\n",
       "Córdoba         11.09\n",
       "Santa Fe         5.99\n",
       "Tucumán          3.38\n",
       "Name: carga_provincia_nombre, dtype: float64"
      ]
     },
     "execution_count": 98,
     "metadata": {},
     "output_type": "execute_result"
    }
   ],
   "source": [
    "print (\"Porcentaje de casos analizados en total por provincia hasta el:\", today)\n",
    "round(data.carga_provincia_nombre.value_counts()/data.carga_provincia_nombre.count()*100,2)[:5]"
   ]
  },
  {
   "cell_type": "code",
   "execution_count": 99,
   "metadata": {},
   "outputs": [
    {
     "name": "stdout",
     "output_type": "stream",
     "text": [
      "Porcentaje de casos confirmados por provincia sobre total hasta el: 2021-05-01\n"
     ]
    },
    {
     "data": {
      "text/plain": [
       "Buenos Aires    36.57\n",
       "CABA            18.72\n",
       "Santa Fe         9.28\n",
       "Córdoba          7.58\n",
       "Tucumán          3.58\n",
       "Name: carga_provincia_nombre, dtype: float64"
      ]
     },
     "execution_count": 99,
     "metadata": {},
     "output_type": "execute_result"
    }
   ],
   "source": [
    "print (\"Porcentaje de casos confirmados por provincia sobre total hasta el:\", today)\n",
    "round(data[data.clasificacion_resumen==\"Confirmado\"].carga_provincia_nombre.value_counts()/data[data.clasificacion_resumen==\"Confirmado\"].carga_provincia_nombre.count()*100,2)[:5]"
   ]
  },
  {
   "cell_type": "code",
   "execution_count": 102,
   "metadata": {},
   "outputs": [
    {
     "data": {
      "text/html": [
       "<div>\n",
       "<style scoped>\n",
       "    .dataframe tbody tr th:only-of-type {\n",
       "        vertical-align: middle;\n",
       "    }\n",
       "\n",
       "    .dataframe tbody tr th {\n",
       "        vertical-align: top;\n",
       "    }\n",
       "\n",
       "    .dataframe thead th {\n",
       "        text-align: right;\n",
       "    }\n",
       "</style>\n",
       "<table border=\"1\" class=\"dataframe\">\n",
       "  <thead>\n",
       "    <tr style=\"text-align: right;\">\n",
       "      <th></th>\n",
       "      <th>fecha_diagnostico</th>\n",
       "      <th>clasificacion_resumen</th>\n",
       "      <th>semana</th>\n",
       "    </tr>\n",
       "  </thead>\n",
       "  <tbody>\n",
       "    <tr>\n",
       "      <th>4156788</th>\n",
       "      <td>2020-11-03</td>\n",
       "      <td>Confirmado</td>\n",
       "      <td>45</td>\n",
       "    </tr>\n",
       "    <tr>\n",
       "      <th>7178394</th>\n",
       "      <td>2021-02-04</td>\n",
       "      <td>Confirmado</td>\n",
       "      <td>5</td>\n",
       "    </tr>\n",
       "    <tr>\n",
       "      <th>4457052</th>\n",
       "      <td>2020-11-11</td>\n",
       "      <td>Confirmado</td>\n",
       "      <td>46</td>\n",
       "    </tr>\n",
       "    <tr>\n",
       "      <th>3717231</th>\n",
       "      <td>2020-10-18</td>\n",
       "      <td>Confirmado</td>\n",
       "      <td>42</td>\n",
       "    </tr>\n",
       "    <tr>\n",
       "      <th>3158193</th>\n",
       "      <td>2020-09-27</td>\n",
       "      <td>Descartado</td>\n",
       "      <td>39</td>\n",
       "    </tr>\n",
       "    <tr>\n",
       "      <th>158030</th>\n",
       "      <td>2021-04-12</td>\n",
       "      <td>Descartado</td>\n",
       "      <td>15</td>\n",
       "    </tr>\n",
       "    <tr>\n",
       "      <th>4612483</th>\n",
       "      <td>2020-11-17</td>\n",
       "      <td>Descartado</td>\n",
       "      <td>47</td>\n",
       "    </tr>\n",
       "    <tr>\n",
       "      <th>823350</th>\n",
       "      <td>2021-04-20</td>\n",
       "      <td>Descartado</td>\n",
       "      <td>16</td>\n",
       "    </tr>\n",
       "    <tr>\n",
       "      <th>6104320</th>\n",
       "      <td>2021-01-04</td>\n",
       "      <td>Descartado</td>\n",
       "      <td>1</td>\n",
       "    </tr>\n",
       "    <tr>\n",
       "      <th>1764321</th>\n",
       "      <td>2020-07-18</td>\n",
       "      <td>Descartado</td>\n",
       "      <td>29</td>\n",
       "    </tr>\n",
       "  </tbody>\n",
       "</table>\n",
       "</div>"
      ],
      "text/plain": [
       "        fecha_diagnostico clasificacion_resumen  semana\n",
       "4156788        2020-11-03            Confirmado      45\n",
       "7178394        2021-02-04            Confirmado       5\n",
       "4457052        2020-11-11            Confirmado      46\n",
       "3717231        2020-10-18            Confirmado      42\n",
       "3158193        2020-09-27            Descartado      39\n",
       "158030         2021-04-12            Descartado      15\n",
       "4612483        2020-11-17            Descartado      47\n",
       "823350         2021-04-20            Descartado      16\n",
       "6104320        2021-01-04            Descartado       1\n",
       "1764321        2020-07-18            Descartado      29"
      ]
     },
     "execution_count": 102,
     "metadata": {},
     "output_type": "execute_result"
    }
   ],
   "source": [
    "data_graf2 = data.loc[:,['fecha_diagnostico','clasificacion_resumen']]\n",
    "data_graf2.dropna(inplace=True)\n",
    "data_graf2 = pd.DataFrame(data_graf2)\n",
    "data_graf2['semana'] = data_graf2[\"fecha_diagnostico\"].dt.week\n",
    "data_graf2.sample(10)"
   ]
  },
  {
   "cell_type": "code",
   "execution_count": 103,
   "metadata": {},
   "outputs": [],
   "source": [
    "data_graf2.fecha_diagnostico = pd.to_datetime(data_graf2.fecha_diagnostico, format=\"%Y-%m-$d\")\n",
    "data_graf2 = data_graf2[data_graf2[\"fecha_diagnostico\"].dt.year>=2021]"
   ]
  },
  {
   "cell_type": "code",
   "execution_count": 106,
   "metadata": {},
   "outputs": [
    {
     "data": {
      "text/html": [
       "<div>\n",
       "<style scoped>\n",
       "    .dataframe tbody tr th:only-of-type {\n",
       "        vertical-align: middle;\n",
       "    }\n",
       "\n",
       "    .dataframe tbody tr th {\n",
       "        vertical-align: top;\n",
       "    }\n",
       "\n",
       "    .dataframe thead th {\n",
       "        text-align: right;\n",
       "    }\n",
       "</style>\n",
       "<table border=\"1\" class=\"dataframe\">\n",
       "  <thead>\n",
       "    <tr style=\"text-align: right;\">\n",
       "      <th></th>\n",
       "      <th>fecha_diagnostico</th>\n",
       "      <th>clasificacion_resumen</th>\n",
       "      <th>semana</th>\n",
       "    </tr>\n",
       "  </thead>\n",
       "  <tbody>\n",
       "    <tr>\n",
       "      <th>9024515</th>\n",
       "      <td>2021-03-23</td>\n",
       "      <td>Descartado</td>\n",
       "      <td>12</td>\n",
       "    </tr>\n",
       "    <tr>\n",
       "      <th>7241952</th>\n",
       "      <td>2021-02-03</td>\n",
       "      <td>Confirmado</td>\n",
       "      <td>5</td>\n",
       "    </tr>\n",
       "    <tr>\n",
       "      <th>6476242</th>\n",
       "      <td>2021-01-18</td>\n",
       "      <td>Descartado</td>\n",
       "      <td>3</td>\n",
       "    </tr>\n",
       "    <tr>\n",
       "      <th>7557257</th>\n",
       "      <td>2021-02-04</td>\n",
       "      <td>Descartado</td>\n",
       "      <td>5</td>\n",
       "    </tr>\n",
       "    <tr>\n",
       "      <th>6643375</th>\n",
       "      <td>2021-01-21</td>\n",
       "      <td>Confirmado</td>\n",
       "      <td>3</td>\n",
       "    </tr>\n",
       "  </tbody>\n",
       "</table>\n",
       "</div>"
      ],
      "text/plain": [
       "        fecha_diagnostico clasificacion_resumen  semana\n",
       "9024515        2021-03-23            Descartado      12\n",
       "7241952        2021-02-03            Confirmado       5\n",
       "6476242        2021-01-18            Descartado       3\n",
       "7557257        2021-02-04            Descartado       5\n",
       "6643375        2021-01-21            Confirmado       3"
      ]
     },
     "execution_count": 106,
     "metadata": {},
     "output_type": "execute_result"
    }
   ],
   "source": [
    "data_graf2.sample(5)"
   ]
  },
  {
   "cell_type": "code",
   "execution_count": 107,
   "metadata": {},
   "outputs": [],
   "source": [
    "data_graf2.semana[data_graf2.semana==53] = 1"
   ]
  },
  {
   "cell_type": "code",
   "execution_count": 108,
   "metadata": {},
   "outputs": [
    {
     "data": {
      "text/html": [
       "<div>\n",
       "<style scoped>\n",
       "    .dataframe tbody tr th:only-of-type {\n",
       "        vertical-align: middle;\n",
       "    }\n",
       "\n",
       "    .dataframe tbody tr th {\n",
       "        vertical-align: top;\n",
       "    }\n",
       "\n",
       "    .dataframe thead th {\n",
       "        text-align: right;\n",
       "    }\n",
       "</style>\n",
       "<table border=\"1\" class=\"dataframe\">\n",
       "  <thead>\n",
       "    <tr style=\"text-align: right;\">\n",
       "      <th></th>\n",
       "      <th>Cantidad_Confirmados</th>\n",
       "    </tr>\n",
       "    <tr>\n",
       "      <th>semana</th>\n",
       "      <th></th>\n",
       "    </tr>\n",
       "  </thead>\n",
       "  <tbody>\n",
       "    <tr>\n",
       "      <th>1</th>\n",
       "      <td>89459</td>\n",
       "    </tr>\n",
       "    <tr>\n",
       "      <th>2</th>\n",
       "      <td>67670</td>\n",
       "    </tr>\n",
       "    <tr>\n",
       "      <th>3</th>\n",
       "      <td>58292</td>\n",
       "    </tr>\n",
       "    <tr>\n",
       "      <th>4</th>\n",
       "      <td>51651</td>\n",
       "    </tr>\n",
       "    <tr>\n",
       "      <th>5</th>\n",
       "      <td>45119</td>\n",
       "    </tr>\n",
       "    <tr>\n",
       "      <th>6</th>\n",
       "      <td>39366</td>\n",
       "    </tr>\n",
       "    <tr>\n",
       "      <th>7</th>\n",
       "      <td>34350</td>\n",
       "    </tr>\n",
       "    <tr>\n",
       "      <th>8</th>\n",
       "      <td>38027</td>\n",
       "    </tr>\n",
       "    <tr>\n",
       "      <th>9</th>\n",
       "      <td>39690</td>\n",
       "    </tr>\n",
       "    <tr>\n",
       "      <th>10</th>\n",
       "      <td>41897</td>\n",
       "    </tr>\n",
       "    <tr>\n",
       "      <th>11</th>\n",
       "      <td>45138</td>\n",
       "    </tr>\n",
       "    <tr>\n",
       "      <th>12</th>\n",
       "      <td>61302</td>\n",
       "    </tr>\n",
       "    <tr>\n",
       "      <th>13</th>\n",
       "      <td>86641</td>\n",
       "    </tr>\n",
       "    <tr>\n",
       "      <th>14</th>\n",
       "      <td>139329</td>\n",
       "    </tr>\n",
       "    <tr>\n",
       "      <th>15</th>\n",
       "      <td>145421</td>\n",
       "    </tr>\n",
       "    <tr>\n",
       "      <th>16</th>\n",
       "      <td>142265</td>\n",
       "    </tr>\n",
       "    <tr>\n",
       "      <th>17</th>\n",
       "      <td>81272</td>\n",
       "    </tr>\n",
       "  </tbody>\n",
       "</table>\n",
       "</div>"
      ],
      "text/plain": [
       "        Cantidad_Confirmados\n",
       "semana                      \n",
       "1                      89459\n",
       "2                      67670\n",
       "3                      58292\n",
       "4                      51651\n",
       "5                      45119\n",
       "6                      39366\n",
       "7                      34350\n",
       "8                      38027\n",
       "9                      39690\n",
       "10                     41897\n",
       "11                     45138\n",
       "12                     61302\n",
       "13                     86641\n",
       "14                    139329\n",
       "15                    145421\n",
       "16                    142265\n",
       "17                     81272"
      ]
     },
     "execution_count": 108,
     "metadata": {},
     "output_type": "execute_result"
    }
   ],
   "source": [
    "count2_conf_week = data_graf2.loc[:,['fecha_diagnostico']][data_graf2.clasificacion_resumen=='Confirmado'].groupby(data_graf2[\"semana\"]).count().rename({\"fecha_diagnostico\":\"Cantidad_Confirmados\"},axis=\"columns\")\n",
    "count2_conf_week"
   ]
  },
  {
   "cell_type": "code",
   "execution_count": 109,
   "metadata": {},
   "outputs": [
    {
     "data": {
      "text/html": [
       "<div>\n",
       "<style scoped>\n",
       "    .dataframe tbody tr th:only-of-type {\n",
       "        vertical-align: middle;\n",
       "    }\n",
       "\n",
       "    .dataframe tbody tr th {\n",
       "        vertical-align: top;\n",
       "    }\n",
       "\n",
       "    .dataframe thead th {\n",
       "        text-align: right;\n",
       "    }\n",
       "</style>\n",
       "<table border=\"1\" class=\"dataframe\">\n",
       "  <thead>\n",
       "    <tr style=\"text-align: right;\">\n",
       "      <th></th>\n",
       "      <th>Cantidad_Testeados</th>\n",
       "    </tr>\n",
       "    <tr>\n",
       "      <th>semana</th>\n",
       "      <th></th>\n",
       "    </tr>\n",
       "  </thead>\n",
       "  <tbody>\n",
       "    <tr>\n",
       "      <th>1</th>\n",
       "      <td>339986</td>\n",
       "    </tr>\n",
       "    <tr>\n",
       "      <th>2</th>\n",
       "      <td>288072</td>\n",
       "    </tr>\n",
       "    <tr>\n",
       "      <th>3</th>\n",
       "      <td>271650</td>\n",
       "    </tr>\n",
       "    <tr>\n",
       "      <th>4</th>\n",
       "      <td>270087</td>\n",
       "    </tr>\n",
       "    <tr>\n",
       "      <th>5</th>\n",
       "      <td>263162</td>\n",
       "    </tr>\n",
       "    <tr>\n",
       "      <th>6</th>\n",
       "      <td>259448</td>\n",
       "    </tr>\n",
       "    <tr>\n",
       "      <th>7</th>\n",
       "      <td>248448</td>\n",
       "    </tr>\n",
       "    <tr>\n",
       "      <th>8</th>\n",
       "      <td>240783</td>\n",
       "    </tr>\n",
       "    <tr>\n",
       "      <th>9</th>\n",
       "      <td>215481</td>\n",
       "    </tr>\n",
       "    <tr>\n",
       "      <th>10</th>\n",
       "      <td>226764</td>\n",
       "    </tr>\n",
       "    <tr>\n",
       "      <th>11</th>\n",
       "      <td>234753</td>\n",
       "    </tr>\n",
       "    <tr>\n",
       "      <th>12</th>\n",
       "      <td>255942</td>\n",
       "    </tr>\n",
       "    <tr>\n",
       "      <th>13</th>\n",
       "      <td>298635</td>\n",
       "    </tr>\n",
       "    <tr>\n",
       "      <th>14</th>\n",
       "      <td>433926</td>\n",
       "    </tr>\n",
       "    <tr>\n",
       "      <th>15</th>\n",
       "      <td>423063</td>\n",
       "    </tr>\n",
       "    <tr>\n",
       "      <th>16</th>\n",
       "      <td>399026</td>\n",
       "    </tr>\n",
       "    <tr>\n",
       "      <th>17</th>\n",
       "      <td>237482</td>\n",
       "    </tr>\n",
       "  </tbody>\n",
       "</table>\n",
       "</div>"
      ],
      "text/plain": [
       "        Cantidad_Testeados\n",
       "semana                    \n",
       "1                   339986\n",
       "2                   288072\n",
       "3                   271650\n",
       "4                   270087\n",
       "5                   263162\n",
       "6                   259448\n",
       "7                   248448\n",
       "8                   240783\n",
       "9                   215481\n",
       "10                  226764\n",
       "11                  234753\n",
       "12                  255942\n",
       "13                  298635\n",
       "14                  433926\n",
       "15                  423063\n",
       "16                  399026\n",
       "17                  237482"
      ]
     },
     "execution_count": 109,
     "metadata": {},
     "output_type": "execute_result"
    }
   ],
   "source": [
    "count2_tot_week = data_graf2.loc[:,['fecha_diagnostico']].groupby(data_graf2[\"semana\"]).count().rename({\"fecha_diagnostico\":\"Cantidad_Testeados\"},axis=\"columns\")\n",
    "# Era igual a:\n",
    "# data_graf2.semana.value_counts().sort_index()\n",
    "count2_tot_week"
   ]
  },
  {
   "cell_type": "code",
   "execution_count": 110,
   "metadata": {},
   "outputs": [],
   "source": [
    "data_graf_week = pd.DataFrame(count2_conf_week)"
   ]
  },
  {
   "cell_type": "code",
   "execution_count": 111,
   "metadata": {},
   "outputs": [],
   "source": [
    "data_graf_week['Cantidad_Total'] = count2_tot_week"
   ]
  },
  {
   "cell_type": "code",
   "execution_count": 112,
   "metadata": {},
   "outputs": [
    {
     "data": {
      "text/html": [
       "<div>\n",
       "<style scoped>\n",
       "    .dataframe tbody tr th:only-of-type {\n",
       "        vertical-align: middle;\n",
       "    }\n",
       "\n",
       "    .dataframe tbody tr th {\n",
       "        vertical-align: top;\n",
       "    }\n",
       "\n",
       "    .dataframe thead th {\n",
       "        text-align: right;\n",
       "    }\n",
       "</style>\n",
       "<table border=\"1\" class=\"dataframe\">\n",
       "  <thead>\n",
       "    <tr style=\"text-align: right;\">\n",
       "      <th></th>\n",
       "      <th>Cantidad_Confirmados</th>\n",
       "      <th>Cantidad_Total</th>\n",
       "    </tr>\n",
       "    <tr>\n",
       "      <th>semana</th>\n",
       "      <th></th>\n",
       "      <th></th>\n",
       "    </tr>\n",
       "  </thead>\n",
       "  <tbody>\n",
       "    <tr>\n",
       "      <th>1</th>\n",
       "      <td>89459</td>\n",
       "      <td>339986</td>\n",
       "    </tr>\n",
       "    <tr>\n",
       "      <th>2</th>\n",
       "      <td>67670</td>\n",
       "      <td>288072</td>\n",
       "    </tr>\n",
       "    <tr>\n",
       "      <th>3</th>\n",
       "      <td>58292</td>\n",
       "      <td>271650</td>\n",
       "    </tr>\n",
       "    <tr>\n",
       "      <th>4</th>\n",
       "      <td>51651</td>\n",
       "      <td>270087</td>\n",
       "    </tr>\n",
       "    <tr>\n",
       "      <th>5</th>\n",
       "      <td>45119</td>\n",
       "      <td>263162</td>\n",
       "    </tr>\n",
       "    <tr>\n",
       "      <th>6</th>\n",
       "      <td>39366</td>\n",
       "      <td>259448</td>\n",
       "    </tr>\n",
       "    <tr>\n",
       "      <th>7</th>\n",
       "      <td>34350</td>\n",
       "      <td>248448</td>\n",
       "    </tr>\n",
       "    <tr>\n",
       "      <th>8</th>\n",
       "      <td>38027</td>\n",
       "      <td>240783</td>\n",
       "    </tr>\n",
       "    <tr>\n",
       "      <th>9</th>\n",
       "      <td>39690</td>\n",
       "      <td>215481</td>\n",
       "    </tr>\n",
       "    <tr>\n",
       "      <th>10</th>\n",
       "      <td>41897</td>\n",
       "      <td>226764</td>\n",
       "    </tr>\n",
       "    <tr>\n",
       "      <th>11</th>\n",
       "      <td>45138</td>\n",
       "      <td>234753</td>\n",
       "    </tr>\n",
       "    <tr>\n",
       "      <th>12</th>\n",
       "      <td>61302</td>\n",
       "      <td>255942</td>\n",
       "    </tr>\n",
       "    <tr>\n",
       "      <th>13</th>\n",
       "      <td>86641</td>\n",
       "      <td>298635</td>\n",
       "    </tr>\n",
       "    <tr>\n",
       "      <th>14</th>\n",
       "      <td>139329</td>\n",
       "      <td>433926</td>\n",
       "    </tr>\n",
       "    <tr>\n",
       "      <th>15</th>\n",
       "      <td>145421</td>\n",
       "      <td>423063</td>\n",
       "    </tr>\n",
       "    <tr>\n",
       "      <th>16</th>\n",
       "      <td>142265</td>\n",
       "      <td>399026</td>\n",
       "    </tr>\n",
       "    <tr>\n",
       "      <th>17</th>\n",
       "      <td>81272</td>\n",
       "      <td>237482</td>\n",
       "    </tr>\n",
       "  </tbody>\n",
       "</table>\n",
       "</div>"
      ],
      "text/plain": [
       "        Cantidad_Confirmados  Cantidad_Total\n",
       "semana                                      \n",
       "1                      89459          339986\n",
       "2                      67670          288072\n",
       "3                      58292          271650\n",
       "4                      51651          270087\n",
       "5                      45119          263162\n",
       "6                      39366          259448\n",
       "7                      34350          248448\n",
       "8                      38027          240783\n",
       "9                      39690          215481\n",
       "10                     41897          226764\n",
       "11                     45138          234753\n",
       "12                     61302          255942\n",
       "13                     86641          298635\n",
       "14                    139329          433926\n",
       "15                    145421          423063\n",
       "16                    142265          399026\n",
       "17                     81272          237482"
      ]
     },
     "execution_count": 112,
     "metadata": {},
     "output_type": "execute_result"
    }
   ],
   "source": [
    "data_graf_week"
   ]
  },
  {
   "cell_type": "code",
   "execution_count": 113,
   "metadata": {},
   "outputs": [
    {
     "data": {
      "text/plain": [
       "<function matplotlib.pyplot.show(close=None, block=None)>"
      ]
     },
     "execution_count": 113,
     "metadata": {},
     "output_type": "execute_result"
    },
    {
     "data": {
      "image/png": "[encoded data removed]",
      "text/plain": [
       "<Figure size 432x288 with 1 Axes>"
      ]
     },
     "metadata": {},
     "output_type": "display_data"
    }
   ],
   "source": [
    "plt.hist(data_graf2.semana[data_graf2.clasificacion_resumen=='Confirmado'], bins=16, alpha = 0.5, label = 'Confirmados', color= 'blue')\n",
    "plt.hist(data_graf2.semana[data_graf2.clasificacion_resumen!='Confirmado'], bins=16, alpha = 0.5, label = 'Testeados')\n",
    "plt.legend()\n",
    "plt.show"
   ]
  },
  {
   "cell_type": "code",
   "execution_count": 114,
   "metadata": {},
   "outputs": [
    {
     "data": {
      "text/plain": [
       "0.42994896082291995"
      ]
     },
     "execution_count": 114,
     "metadata": {},
     "output_type": "execute_result"
    }
   ],
   "source": [
    "data.clasificacion_resumen[data.clasificacion_resumen=='Confirmado'].count()/data.clasificacion_resumen[data.clasificacion_resumen!='Confirmado'].count()"
   ]
  },
  {
   "cell_type": "code",
   "execution_count": 782,
   "metadata": {},
   "outputs": [],
   "source": [
    "# Mortalidad en rango 15-30"
   ]
  },
  {
   "cell_type": "code",
   "execution_count": null,
   "metadata": {},
   "outputs": [],
   "source": []
  },
  {
   "cell_type": "code",
   "execution_count": null,
   "metadata": {},
   "outputs": [],
   "source": [
    "rango_joven = np.logical_and(data.edad<31, data.edad>14)\n",
    "len(data.fallecido[rango_joven])"
   ]
  },
  {
   "cell_type": "code",
   "execution_count": null,
   "metadata": {},
   "outputs": [],
   "source": [
    "# Cantidad de vacunados por rango etario"
   ]
  }
 ],
 "metadata": {
  "kernelspec": {
   "display_name": "Python 3",
   "language": "python",
   "name": "python3"
  },
  "language_info": {
   "codemirror_mode": {
    "name": "ipython",
    "version": 3
   },
   "file_extension": ".py",
   "mimetype": "text/x-python",
   "name": "python",
   "nbconvert_exporter": "python",
   "pygments_lexer": "ipython3",
   "version": "3.7.9"
  }
 },
 "nbformat": 4,
 "nbformat_minor": 4
}
